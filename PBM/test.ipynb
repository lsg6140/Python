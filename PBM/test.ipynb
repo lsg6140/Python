{
 "cells": [
  {
   "cell_type": "code",
   "execution_count": 1,
   "metadata": {},
   "outputs": [],
   "source": [
    "import pe_ode as pe\n",
    "import numpy as np\n",
    "import matplotlib.pyplot as plt\n",
    "from scipy.integrate import solve_ivp, odeint"
   ]
  },
  {
   "cell_type": "markdown",
   "metadata": {},
   "source": [
    "# Test of Parameter Estimation method for ODE model\n",
    "## Model\n",
    "A homogeneous gas phase reaction\n",
    "$$2NO+O_2\\leftrightarrow2NO_2$$\n",
    "is described by the following equation\n",
    "$$\\frac{dy}{dt}=k_1(126.2-y)(91.9-y)^2-k_2y^2;~~y(0)=0$$"
   ]
  },
  {
   "cell_type": "code",
   "execution_count": 3,
   "metadata": {},
   "outputs": [],
   "source": [
    "def homo_gas(y,k):\n",
    "    dydt = k[0]*(126.2-y)*(91.9-y)**2-k[1]*y**2\n",
    "    return dydt"
   ]
  },
  {
   "cell_type": "markdown",
   "metadata": {},
   "source": [
    "Pyrolytic dehydrogenation of dehzene to diphenyl and triphenyl\n",
    "$$2C_2H_6\\longleftrightarrow C_{12}H_{10}+H_2$$\n",
    "$$C_6H_6+C_{12}H_{10}\\longleftrightarrow C_{10}H_{14}+H_2$$\n",
    "with differential equations model\n",
    "\\begin{align*}\n",
    "\\frac{dy_1}{dt}=&-r_1-r_2;~~y_1(0)=1\\\\\n",
    "\\frac{dy_2}{dt}=&\\frac{r_1}{2}-r_2;~~~~y_2(0)=0\\\\\n",
    "r_1=&k_1\\left(y_1^2-y_2\\frac{2-2y_1-y_2}{3K_1}\\right)\\\\\n",
    "r_2=&k_2\\left(y_1y_2-\\frac{(1-y_1-2y_2)(2-2y_1-y_2)}{9K_2}\\right)\n",
    "\\end{align*}\n",
    "with $K_1=0.242$ and $K_2=0.428$"
   ]
  },
  {
   "cell_type": "code",
   "execution_count": 4,
   "metadata": {},
   "outputs": [],
   "source": [
    "def dehydro_ben(y,k):\n",
    "    K1 = 0.242\n",
    "    K2 = 0.428\n",
    "    r1 = k[0]*(y[0]**2-y[1]*(2-2*y[0]-y[1])/(3*K1))\n",
    "    r2 = k[1]*(y[0]*y[1]-(1-y[0]-2*y[1])*(2-2*y[0]-y[1])/(9*K2))\n",
    "    dydt = np.empty(2)\n",
    "    dydt[0] = -r1-r2\n",
    "    dydt[1] = r1/2-r2\n",
    "    return dydt"
   ]
  },
  {
   "cell_type": "markdown",
   "metadata": {},
   "source": [
    "## Jacobian\n",
    "Differential equation $\\frac{d\\mathbf{J}}{dt}$ with $\\mathbf{J}=\\frac{\\partial\\mathbf{y}}{\\partial\\mathbf{k}}$ is\n",
    "$$\\frac{d\\mathbf{J}}{dt}=\\frac{\\partial\\mathbf{f}}{\\partial\\mathbf{y}}\\mathbf{J}+\\frac{\\partial\\mathbf{f}}{\\partial\\mathbf{k}}$$\n",
    "For this model\n",
    "$$\\frac{\\partial f}{\\partial y}=-k_1(91.9-y)^2-2k_1(126.2-y)(91.9-y)-2k_2y$$\n",
    "$$\\frac{\\partial f}{\\partial k_1}=(126.2-y)(91.9-y)^2$$\n",
    "$$\\frac{\\partial f}{\\partial k_2}=-y^2$$"
   ]
  },
  {
   "cell_type": "code",
   "execution_count": 5,
   "metadata": {},
   "outputs": [],
   "source": [
    "def homo_gas_dfdy(y,k):\n",
    "    dfdy = -k[0]*(91.9-y)**2-2*k[0]*(126.2-y)*(91.9-y)-2*k[1]*y\n",
    "    return dfdy\n",
    "def homo_gas_dfdk(y,k):\n",
    "    dfdk = np.empty(2)\n",
    "    dfdk[0] = (126.2-y)*(91.9-y)**2\n",
    "    dfdk[1] = -y**2\n",
    "    return dfdk"
   ]
  },
  {
   "cell_type": "markdown",
   "metadata": {},
   "source": [
    "For the dehydrogenation model\n",
    "\\begin{align*}\n",
    "r_1=&2y_1+\\frac{2y_2}{3K_1}\\\\\n",
    "r_2=&\\frac{2y_1+2y_2-2}{3K_1}\\\\\n",
    "r_3=&y_2-\\frac{4y_1+5y_2-4}{9K_2}\\\\\n",
    "r_4=&y_1-\\frac{5y_1+4y_2-5}{9K_2}\\\\\\\\\n",
    "\\frac{\\partial f_1}{\\partial y_1}=&-k_1r_1-k_2r_3,\\hspace{1cm}\\frac{\\partial f_1}{\\partial y_2}=-k_1r_2-k_2r_4\\\\\n",
    "\\frac{\\partial f_2}{\\partial y_1}=&\\frac{k_1}{2}r_1-k_2r_3,\\hspace{1.3cm}\\frac{\\partial f_2}{\\partial y_2}=\\frac{k_1}{2}r_2-k_2r_4\\\\\\\\\n",
    "\\frac{\\partial f_1}{\\partial k_1}=&-\\left(y_1^2+\\frac{y_2^2+2y_1y_2-2y_2}{3K_1}\\right)\\\\\n",
    "\\frac{\\partial f_1}{\\partial k_2}=&-\\left(y_1y_2-\\frac{2y_1^2-4y_1+5y_1y_2-5y_2+2y_2^2+2}{9K_2}\\right)\\\\\n",
    "\\frac{\\partial f_2}{\\partial k_1}=&-\\frac{1}{2}\\frac{\\partial f_1}{\\partial k_1}\\\\\n",
    "\\frac{\\partial f_2}{\\partial k_2}=&\\frac{\\partial f_1}{\\partial k_2}\n",
    "\\end{align*}"
   ]
  },
  {
   "cell_type": "code",
   "execution_count": 6,
   "metadata": {},
   "outputs": [],
   "source": [
    "def dehydro_dfdy(y,k):\n",
    "    K1 = 0.242\n",
    "    K2 = 0.428\n",
    "    r1 = 2*y[0]+2*y[1]/(3*K1)\n",
    "    r2 = 2*(y[0]+y[1]-1)/(3*K1)\n",
    "    r3 = y[1]-(4*y[0]+5*y[1]-4)/(9*K2)\n",
    "    r4 = y[0]-(5*y[0]+4*y[1]-5)/(9*K2)\n",
    "    dfdy = np.empty((2,2))\n",
    "    dfdy[0,0] = -k[0]*r1-k[1]*r3\n",
    "    dfdy[0,1] = -k[0]*r2-k[1]*r4\n",
    "    dfdy[1,0] = k[0]*r1/2-k[1]*r3\n",
    "    dfdy[1,1] = k[0]*r2/2-k[1]*r4\n",
    "    return dfdy\n",
    "def dehydro_dfdk(y,k):\n",
    "    K1 = 0.242\n",
    "    K2 = 0.428\n",
    "    dfdk = np.empty((2,2))\n",
    "    dfdk[0,0] = -(y[0]**2+(y[1]**2+2*y[0]*y[1]-2*y[1])/(3*K1))\n",
    "    dfdk[0,1] = -(y[0]*y[1]-(2*y[0]**2-4*y[0]+5*y[0]*y[1]-5*y[1]+2*y[1]**2+2)/(9*K2))\n",
    "    dfdk[1,0] = -dfdk[0,0]/2\n",
    "    dfdk[1,1] = dfdk[0,1]\n",
    "    return dfdk"
   ]
  },
  {
   "cell_type": "markdown",
   "metadata": {},
   "source": [
    "## Comparison with numerical differentiation\n",
    "Numerical differentiation by GN_ode functions and analytic results given above will be compared. Homogeneous gas model has 15 measurements and the parameter estimations are $k_1=0.4577\\times10^{-5}$ and $k_2=0.2796\\times10^{-3}$"
   ]
  },
  {
   "cell_type": "code",
   "execution_count": 7,
   "metadata": {
    "scrolled": false
   },
   "outputs": [],
   "source": [
    "yhat_homo=np.array([[0,1.4,6.3,10.5,14.2,17.6,21.4,23.0,27.0,30.5,34.4,38.8,41.6,43.5,45.3]])\n",
    "t_homo = np.array([0,1,2,3,4,5,6,7,9,11,14,19,24,29,39])\n",
    "k_homo = np.array([0.4577e-5,0.2796e-3])"
   ]
  },
  {
   "cell_type": "code",
   "execution_count": 8,
   "metadata": {
    "scrolled": true
   },
   "outputs": [
    {
     "name": "stdout",
     "output_type": "stream",
     "text": [
      "dfdy difference 8.12e-07 (inf norm)\n",
      "dfdk difference 2.31e-08 (inf norm)\n"
     ]
    }
   ],
   "source": [
    "kkk = np.array([10,10])\n",
    "dfdy_anal = np.empty(15)\n",
    "dfdy_num = np.empty(15)\n",
    "dfdk_anal = np.empty((2,15))\n",
    "dfdk_num = np.empty((2,15))\n",
    "y_temp = gn.state_only_int(homo_gas,np.array([0]),kkk,t_homo)\n",
    "y_kkk = y_temp[0]\n",
    "for i in range(15):\n",
    "    dfdy_anal[i] = homo_gas_dfdy(y_kkk[:,i],kkk)\n",
    "    dfdy_num[i] = gn.dfdy_ode(homo_gas,y_kkk[:,i],kkk,1)\n",
    "    dfdk_anal[:,i] = homo_gas_dfdk(y_kkk[:,i],kkk)\n",
    "    dfdk_num[:,i] = gn.dfdk_ode(homo_gas,y_kkk[:,i],kkk,1,2)\n",
    "dfdy_diff = dfdy_anal-dfdy_num\n",
    "dfdk_diff = dfdk_anal-dfdk_num\n",
    "rel_dfdy = np.max(np.abs(dfdy_diff))/np.linalg.norm(dfdy_anal,np.inf)\n",
    "rel_dfdk = np.max(np.abs(dfdk_diff))/np.linalg.norm(dfdk_anal,np.inf)\n",
    "print('dfdy difference {0:1.2e} (inf norm)'.format(rel_dfdy))    \n",
    "print('dfdk difference {0:1.2e} (inf norm)'.format(rel_dfdk))"
   ]
  },
  {
   "cell_type": "markdown",
   "metadata": {},
   "source": [
    "Dehydrogenation model has eight measurements and the parameter estimations are $k_1=354.61$ and $k_2=400.23$"
   ]
  },
  {
   "cell_type": "code",
   "execution_count": 9,
   "metadata": {},
   "outputs": [],
   "source": [
    "t_deh = np.array([0,5.63,11.32,16.97,22.62,34.00,39.70,45.20,169.7],dtype='f')*1e-4\n",
    "yhat_deh = np.array([[1,0.828,0.704,0.622,0.565,0.499,0.482,0.470,0.443],\n",
    "                   [0,0.0737,0.1130,0.1322,0.1400,0.1468,0.1477,0.1477,0.1476]],dtype='f')\n",
    "y0_deh = yhat_deh[:,0]\n",
    "k_deh = np.array([354.61,400.23])"
   ]
  },
  {
   "cell_type": "code",
   "execution_count": 10,
   "metadata": {},
   "outputs": [
    {
     "name": "stdout",
     "output_type": "stream",
     "text": [
      "dfdy difference 2.69e-09\n",
      "dfdk difference 2.87e-06\n"
     ]
    }
   ],
   "source": [
    "k1000 = np.array([1000,1000],dtype='float64')\n",
    "N_deh = np.size(t_deh)\n",
    "dfdy_deh_ana = np.empty((N_deh,2,2))\n",
    "dfdy_deh_num = np.empty((N_deh,2,2))\n",
    "dfdk_deh_ana = np.empty((N_deh,2,2))\n",
    "dfdk_deh_num = np.empty((N_deh,2,2))\n",
    "y1000,fasu = gn.state_only_int(dehydro_ben,y0_deh,k1000,t_deh)\n",
    "for i in range(N_deh):\n",
    "    dfdy_deh_ana[i] = dehydro_dfdy(y1000[:,i],k1000)\n",
    "    dfdy_deh_num[i] = gn.dfdy_ode(dehydro_ben,y1000[:,i],k1000,2)\n",
    "    dfdk_deh_ana[i] = dehydro_dfdk(y1000[:,i],k1000)\n",
    "    dfdk_deh_num[i] = gn.dfdk_ode(dehydro_ben,y1000[:,i],k1000,2,2)\n",
    "dfdy_diff = dfdy_deh_ana-dfdy_deh_num\n",
    "dfdk_diff = dfdk_deh_ana-dfdk_deh_num\n",
    "rel_dfdy = np.linalg.norm(dfdy_diff)/np.linalg.norm(dfdy_deh_ana)\n",
    "rel_dfdk = np.linalg.norm(dfdk_diff)/np.linalg.norm(dfdk_deh_ana)\n",
    "print('dfdy difference {0:1.2e}'.format(rel_dfdy))\n",
    "print('dfdk difference {0:1.2e}'.format(rel_dfdk))"
   ]
  },
  {
   "cell_type": "markdown",
   "metadata": {},
   "source": [
    "## Test of $\\varphi(\\mathbf{z})$\n",
    "With an artificial initial condition $y_0=10$, $\\mathbf{J}=\\begin{bmatrix}1000&2000\\end{bmatrix}$\n",
    "$$\\frac{dy}{dt}=4.577\\times10^{-6}(126.2-10)(91.9-10)^2-2.796\\times10^{-4}\\times10^2=3.5395$$\n",
    "$$\\frac{\\partial f}{\\partial y}=-4.577\\times10^{-6}(91.9-10)^2-2\\times4.577\\times10^{-6}(126.2-10)(91.9-10)-2\\times2.796\\times10^{-4}\\times10=-0.1234$$\n",
    "$$\\frac{\\partial f}{\\partial k_1}=(126.2-10)(91.9-10)^2=779424$$\n",
    "$$\\frac{\\partial f}{\\partial k_2}=-10^2=-100$$\n",
    "The differential equation for Jacobian is\n",
    "$$\\frac{d\\mathbf{J}}{dt}=-0.1234\\times\\begin{bmatrix}1000 & 2000\\end{bmatrix}+\\begin{bmatrix}779424&-100\\end{bmatrix}=\\begin{bmatrix}779301&-346.8\\end{bmatrix}$$"
   ]
  },
  {
   "cell_type": "code",
   "execution_count": 11,
   "metadata": {},
   "outputs": [
    {
     "name": "stdout",
     "output_type": "stream",
     "text": [
      "Analytic dJdt is  [ 7.79300873e+05 -3.46818670e+02]\n",
      "Numerical dJdt is  [ 7.79300873e+05 -3.46818788e+02]\n"
     ]
    }
   ],
   "source": [
    "y_temp = 10\n",
    "dfdy_homo_ana = homo_gas_dfdy(y_temp,k_homo)\n",
    "dfdk_homo_ana = homo_gas_dfdk(10,k_homo)\n",
    "J_temp = np.array([1000,2000])\n",
    "dJdt_homo_ana = dfdy_homo_ana*J_temp+dfdk_homo_ana\n",
    "print('Analytic dJdt is ',dJdt_homo_ana)\n",
    "z = np.empty(3)\n",
    "z[0] = y_temp\n",
    "z[1:] = J_temp\n",
    "dJdt_homo_num = gn.phi_z(homo_gas,z,k_homo,1,2)\n",
    "print('Numerical dJdt is ',dJdt_homo_num[1:])"
   ]
  },
  {
   "cell_type": "markdown",
   "metadata": {},
   "source": [
    "Artificial initial condition $y0=[5~~10]$ and $\\mathbf{J}=\\begin{bmatrix}\n",
    "200&300\\\\\n",
    "150&50\\end{bmatrix}$\n",
    "$$\\frac{d\\mathbf{J}}{dt}=\\frac{\\partial\\mathbf{f}}{\\partial\\mathbf{y}}\\mathbf{J}+\\frac{\\partial\\mathbf{f}}{\\partial\\mathbf{k}}$$"
   ]
  },
  {
   "cell_type": "code",
   "execution_count": 12,
   "metadata": {},
   "outputs": [
    {
     "name": "stdout",
     "output_type": "stream",
     "text": [
      "Analytic dJdt is \n",
      " [[-3508740.85315775 -3610034.82730877]\n",
      " [ 3563353.91956953  3407433.3131871 ]]\n",
      "Numerical dJdt is \n",
      " [[-3508741.33291654 -3610035.15135963]\n",
      " [ 3563354.37318194  3407433.77309991]]\n"
     ]
    }
   ],
   "source": [
    "y_deh_temp0 = np.array([5,10])\n",
    "J_deh_temp = np.array([[200,300],[150,50]])\n",
    "dfdy_deh_temp = dehydro_dfdy(y_deh_temp0,k_deh)\n",
    "dfdk_deh_temp = dehydro_dfdk(y_deh_temp0,k_deh)\n",
    "dJdt_deh_ana = np.matmul(dfdy_deh_temp,J_deh_temp)+dfdk_deh_temp\n",
    "z_deh = np.empty(6)\n",
    "z_deh[0:2] = y_deh_temp0\n",
    "z_deh[2:] = J_deh_temp.transpose().flatten()\n",
    "dzdt_deh = gn.phi_z(dehydro_ben,z_deh,k_deh,2,2)\n",
    "dJdt_deh_num = dzdt_deh[2:].reshape(2,2).transpose()\n",
    "print('Analytic dJdt is \\n',dJdt_deh_ana)\n",
    "print('Numerical dJdt is \\n',dJdt_deh_num)"
   ]
  },
  {
   "cell_type": "markdown",
   "metadata": {
    "scrolled": false
   },
   "source": [
    "## Integration with estimated parameters"
   ]
  },
  {
   "cell_type": "code",
   "execution_count": 13,
   "metadata": {
    "scrolled": true
   },
   "outputs": [],
   "source": [
    "y0 = yhat_homo[:,0]\n",
    "res_homo = gn.state_jacob_int(homo_gas,y0,k_homo,t_homo)"
   ]
  },
  {
   "cell_type": "code",
   "execution_count": 14,
   "metadata": {},
   "outputs": [
    {
     "name": "stdout",
     "output_type": "stream",
     "text": [
      "[[ 0.          4.54927429  8.52410322 12.02631169 15.13385962 17.90748572\n",
      "  20.39634002 22.63844317 26.50804658 29.71156267 33.56817887 38.19757805\n",
      "  41.3294756  43.48731834 46.05863949]]\n",
      "[array([[0., 0.]]), array([[ 9.27370654e+05, -6.89875129e+00]]), array([[ 1.63014749e+06, -4.84419743e+01]]), array([[ 2.16757281e+06, -1.44611048e+02]]), array([[ 2.58077504e+06, -3.05211321e+02]]), array([[ 2.89900622e+06, -5.33798827e+02]]), array([[ 3.14403358e+06, -8.30288775e+02]]), array([[ 3.33115141e+06, -1.19188702e+03]]), array([[ 3.57842540e+06, -2.09397023e+03]]), array([[ 3.70681368e+06, -3.20044231e+03]]), array([[3763593.48611649,   -5150.32635678]]), array([[3669696.49666203,   -8853.71520985]]), array([[3482142.95125699,  -12718.05799824]]), array([[3274617.8936603 ,  -16431.03234524]]), array([[2905273.18131808,  -22776.51257757]])]\n",
      "True\n"
     ]
    }
   ],
   "source": [
    "print(res_homo[0])\n",
    "print(res_homo[1])\n",
    "print(res_homo[2])"
   ]
  },
  {
   "cell_type": "code",
   "execution_count": 15,
   "metadata": {
    "scrolled": true
   },
   "outputs": [
    {
     "name": "stdout",
     "output_type": "stream",
     "text": [
      "[[1.         0.82832973 0.70541334 0.62146551 0.56431598 0.49897287\n",
      "  0.4811068  0.46933922 0.44329947]\n",
      " [0.         0.07378088 0.11219659 0.13131036 0.14070327 0.14727456\n",
      "  0.14814051 0.14843773 0.14773843]]\n",
      "[array([[0., 0.],\n",
      "       [0., 0.]]), array([[-3.90267081e-04, -1.62685326e-05],\n",
      "       [ 1.69437807e-04, -1.93878548e-05]]), array([[-5.26574250e-04, -3.82839771e-05],\n",
      "       [ 2.08403141e-04, -5.19365181e-05]]), array([[-5.25552588e-04, -5.14564067e-05],\n",
      "       [ 1.97280549e-04, -7.60591874e-05]]), array([[-4.65126820e-04, -5.58872386e-05],\n",
      "       [ 1.70508583e-04, -8.72084943e-05]]), array([[-3.07581678e-04, -4.93449214e-05],\n",
      "       [ 1.13525940e-04, -8.08521169e-05]]), array([[-2.38931834e-04, -4.27692119e-05],\n",
      "       [ 8.98380206e-05, -7.06632214e-05]]), array([[-1.84061115e-04, -3.60878218e-05],\n",
      "       [ 7.07467410e-05, -5.98401691e-05]]), array([[-1.30737774e-07, -5.85794893e-08],\n",
      "       [ 7.75995370e-08, -1.26581694e-07]])]\n",
      "True\n"
     ]
    }
   ],
   "source": [
    "res_deh = gn.state_jacob_int(dehydro_ben,y0_deh,k_deh,t_deh)\n",
    "print(res_deh[0])\n",
    "print(res_deh[1])\n",
    "print(res_deh[2])"
   ]
  },
  {
   "cell_type": "markdown",
   "metadata": {},
   "source": [
    "## Calculation of $\\Delta k$ and $\\chi^2$ with guessed parameters\n",
    "$$k_{guess}=\\begin{bmatrix}1\\times10^{-6}&1\\times10^{-6}\\end{bmatrix}$$"
   ]
  },
  {
   "cell_type": "code",
   "execution_count": 16,
   "metadata": {
    "scrolled": true
   },
   "outputs": [
    {
     "name": "stdout",
     "output_type": "stream",
     "text": [
      "delta k is  [2.38247336e-06 2.58667199e-03]\n",
      "chi squared is 4.0117e+03\n"
     ]
    }
   ],
   "source": [
    "k_guess = np.array([1e-6,1e-6])\n",
    "Y_guess,J_guess,fs = gn.state_jacob_int(homo_gas,y0,k_guess,t_homo)\n",
    "Q = np.eye(1)\n",
    "dk_homo = gn.delta_k(J_guess,Q,yhat_homo,Y_guess,2,15)\n",
    "chi_homo = gn.chi_squared(yhat_homo,Y_guess,Q,15)\n",
    "print('delta k is ',dk_homo)\n",
    "print('chi squared is {0:.4e}'.format(chi_homo))"
   ]
  },
  {
   "cell_type": "markdown",
   "metadata": {},
   "source": [
    "$$k_\\text{guess}=[10000~~10000]$$"
   ]
  },
  {
   "cell_type": "code",
   "execution_count": 17,
   "metadata": {},
   "outputs": [
    {
     "name": "stdout",
     "output_type": "stream",
     "text": [
      "delta k is  [-49747007.5221476   -4368270.37717827]\n",
      "chi squared is  0.27500952193073125\n"
     ]
    }
   ],
   "source": [
    "k_deh_guess = np.array([10000,10000],dtype='f')\n",
    "Y_deh_guess,J_deh_guess,fs = gn.state_jacob_int(dehydro_ben,y0_deh,k_deh_guess,t_deh)\n",
    "Q_deh = np.eye(2)\n",
    "dk_deh = gn.delta_k(J_deh_guess,Q_deh,yhat_deh,Y_deh_guess,2,N_deh)\n",
    "chi_deh = gn.chi_squared(yhat_deh,Y_deh_guess,Q_deh,N_deh)\n",
    "print('delta k is ',dk_deh)\n",
    "print('chi squared is ',chi_deh)\n",
    "y_try,fs = gn.state_only_int(dehydro_ben,y0_deh,k_deh_guess,t_deh)"
   ]
  },
  {
   "cell_type": "markdown",
   "metadata": {},
   "source": [
    "## Running a step for $k^{(2)}$ with bisection rule"
   ]
  },
  {
   "cell_type": "code",
   "execution_count": 18,
   "metadata": {},
   "outputs": [],
   "source": [
    "bisec_homo = gn.bisect(homo_gas,yhat_homo,Q,k_guess,t_homo,100)"
   ]
  },
  {
   "cell_type": "code",
   "execution_count": 19,
   "metadata": {},
   "outputs": [],
   "source": [
    "Yhomo_cur = bisec_homo[0]\n",
    "Yhomo_nxt = bisec_homo[1]\n",
    "Jhomo_cur = bisec_homo[2]\n",
    "delta_k_homo = bisec_homo[3]\n",
    "mu_homo_acpt = bisec_homo[4]"
   ]
  },
  {
   "cell_type": "code",
   "execution_count": 20,
   "metadata": {},
   "outputs": [
    {
     "name": "stdout",
     "output_type": "stream",
     "text": [
      "[0.65383084+1.01516079j 0.65383084-1.01516079j 0.75468282+0.j        ]\n"
     ]
    }
   ],
   "source": [
    "mu_homo_opt = gn.optimal_step_size(Yhomo_cur,Yhomo_nxt,yhat_homo,Jhomo_cur,delta_k_homo,mu_homo_acpt,Q,1,15)\n",
    "print(mu_homo_opt)"
   ]
  },
  {
   "cell_type": "code",
   "execution_count": 21,
   "metadata": {},
   "outputs": [
    {
     "name": "stdout",
     "output_type": "stream",
     "text": [
      "1739.9030984445694\n",
      "1853.773356872011\n"
     ]
    }
   ],
   "source": [
    "y_acpt,fos = gn.state_only_int(homo_gas,y0,k_guess+delta_k_homo,t_homo)\n",
    "y_opt,fos = gn.state_only_int(homo_gas,y0,k_guess+0.754682*delta_k_homo,t_homo)\n",
    "chi_homo_acpt = gn.chi_squared(yhat_homo,y_acpt,Q,15)\n",
    "chi_homo_opt = gn.chi_squared(yhat_homo,y_opt,Q,15)\n",
    "print(chi_homo_acpt)\n",
    "print(chi_homo_opt)"
   ]
  },
  {
   "cell_type": "code",
   "execution_count": 22,
   "metadata": {
    "scrolled": false
   },
   "outputs": [],
   "source": [
    "bisection = gn.bisect(dehydro_ben,yhat_deh,Q_deh,k_deh_guess,t_deh,100)"
   ]
  },
  {
   "cell_type": "code",
   "execution_count": 23,
   "metadata": {},
   "outputs": [],
   "source": [
    "Y_cur = bisection[0]\n",
    "Y_nxt = bisection[1]\n",
    "J_cur = bisection[2]\n",
    "delta_k = bisection[3]\n",
    "mu_acpt = bisection[4]"
   ]
  },
  {
   "cell_type": "code",
   "execution_count": 24,
   "metadata": {},
   "outputs": [],
   "source": [
    "mu_opt = gn.optimal_step_size(Y_cur,Y_nxt,yhat_deh,J_cur,delta_k,mu_acpt,Q_deh,2,9)"
   ]
  },
  {
   "cell_type": "code",
   "execution_count": 25,
   "metadata": {},
   "outputs": [
    {
     "name": "stdout",
     "output_type": "stream",
     "text": [
      "[3927.36724583 9466.76386997]\n",
      "[-8.83184480e-04  8.82442288e-04 -4.18239817e-07]\n"
     ]
    }
   ],
   "source": [
    "k2_deh = k_deh_guess+mu_acpt*delta_k\n",
    "print(k2_deh)\n",
    "print(mu_opt)"
   ]
  },
  {
   "cell_type": "code",
   "execution_count": 26,
   "metadata": {},
   "outputs": [
    {
     "data": {
      "text/plain": [
       "array([[-8.83184480e-04,  0.00000000e+00],\n",
       "       [ 8.82442288e-04,  0.00000000e+00],\n",
       "       [-4.18239817e-07,  0.00000000e+00]])"
      ]
     },
     "execution_count": 26,
     "metadata": {},
     "output_type": "execute_result"
    }
   ],
   "source": [
    "a = np.empty((3,2))\n",
    "a"
   ]
  }
 ],
 "metadata": {
  "kernelspec": {
   "display_name": "Python 3",
   "language": "python",
   "name": "python3"
  },
  "language_info": {
   "codemirror_mode": {
    "name": "ipython",
    "version": 3
   },
   "file_extension": ".py",
   "mimetype": "text/x-python",
   "name": "python",
   "nbconvert_exporter": "python",
   "pygments_lexer": "ipython3",
   "version": "3.7.3"
  }
 },
 "nbformat": 4,
 "nbformat_minor": 2
}
