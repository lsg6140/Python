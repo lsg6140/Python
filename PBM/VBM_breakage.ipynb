{
 "cells": [
  {
   "cell_type": "code",
   "execution_count": 47,
   "metadata": {},
   "outputs": [],
   "source": [
    "import numpy as np\n",
    "import pandas as pd\n",
    "import matplotlib.pyplot as plt\n",
    "from scipy.integrate import quad,dblquad,nquad\n",
    "from scipy.integrate import solve_ivp"
   ]
  },
  {
   "cell_type": "markdown",
   "metadata": {},
   "source": [
    "# Volume based population balance model\n",
    "## Continuous volume based breakage equation\n",
    "Let $v(l,t)$ be the volume density function with size $l$ at time $t$. Then  $v(l,t)dl$ be the volume fraction of particles with sizes from $l$ to $l+dl$ at time $t$ and $\\int_0^\\infty v(l,t)dl=1$. The continuous volume based breakage equation is\n",
    "\\begin{equation}\n",
    "\\frac{\\partial v(l,t)}{\\partial t}=\\int_{l}^\\infty S(x)b(l,x)v(x,t)dx-S(l)v(l,t)\n",
    "\\end{equation}\n",
    "where $b(l,x)$ is the breakage function and $S(x)$ is the selection rate function. The breakage function is the probabiltiy of particles with size $x$ broken into the size range $l$ to $l+dl$. The selection function is the specific rate of breakage which is volume fraction of particles of size $l$ broken per unit time. The volume density function and breakage functions are dimensionless and the dimension of selection function is $[\\text{T}^{-1}]$.\n",
    "\n",
    "The mass of particles with sizes less that $l$ is given by\n",
    "\\begin{equation}\n",
    "M(l,t)=\\int_0^lm(x,t)dx\n",
    "\\end{equation}\n",
    "and the $k$th moment is defined as\n",
    "\\begin{equation}\n",
    "M_k(t)=\\int_0^\\infty x^km(x,t)dx\n",
    "\\end{equation}"
   ]
  },
  {
   "cell_type": "markdown",
   "metadata": {},
   "source": [
    "## Discretized breakage equation\n",
    "Let interval $i$ denotes the particle sizes from $l_{i-1}$ to $l_i$ and $V_i(t)$ denotes the volume fraction of particles in interval $i$ at time t. Then\n",
    "\\begin{equation}\n",
    "V_i(t)=\\int_{l_{i-1}}^{l_i}v(l,t)dx\n",
    "\\end{equation}\n",
    "## Discretized breakage birth\n",
    "The rate of breakage birth is\n",
    "\\begin{equation}\n",
    "R_i^{[1]}=\\sum_{j=i}^{n}b_{ij}S_jV_j\n",
    "\\end{equation}\n",
    "where $S_i$ is the discretized selection function for interval $i$ and $b_{ij}$ is discretized breakage function which is the volume fraction of fragments broken from interval $j$ fall into interval $i$. Breakage birth occurs in $1\\sim n$. The summation of volume fractions of all intervals is unity so that $\\sum_{i=1}^\\infty V_i=1$.\n",
    "### Discretized breakage death\n",
    "The rate of breakage death is\n",
    "\\begin{equation}\n",
    "R_i^{[2]}=S_iV_i\n",
    "\\end{equation}\n",
    "which occurs in $2\\sim n$\n",
    "\n",
    "If it is assumed that $V_i(t)$ satisfies a discrete analogy of continuous equation,\n",
    "\\begin{equation}\n",
    "\\frac{d}{dt}V_i(t)=-S_iV_i(t)+\\sum_{j=i}^\\infty b_{ij}S_jV_j(t)\n",
    "\\end{equation}"
   ]
  },
  {
   "cell_type": "code",
   "execution_count": 250,
   "metadata": {},
   "outputs": [],
   "source": [
    "def breakage(y,b,S):\n",
    "# S is discretized selection function form of n vector\n",
    "# b is discretized breakage function form of n*n matrix\n",
    "    v = y[0:-1]\n",
    "    n = len(v)\n",
    "    R1 = np.zeros(n)\n",
    "    R2 = np.zeros(n)\n",
    "    for i in range(n):\n",
    "        sum = 0\n",
    "        for j in range(i,n):\n",
    "            sum += b[i][j]*S[j]*v[j]\n",
    "        R1[i] = sum\n",
    "    # Mechanism 2 (i=2~n)\n",
    "    for i in range(n):\n",
    "        R2[i]=S[i]*v[i]\n",
    "    dvdt = R1-R2\n",
    "    dmdt = np.sum(dvdt)\n",
    "    dydt = np.append(dvdt,dmdt)\n",
    "    return dydt"
   ]
  },
  {
   "cell_type": "code",
   "execution_count": 62,
   "metadata": {},
   "outputs": [
    {
     "data": {
      "text/plain": [
       "array([0, 1])"
      ]
     },
     "execution_count": 62,
     "metadata": {},
     "output_type": "execute_result"
    }
   ],
   "source": [
    "a = np.array([0,1,-2])\n",
    "a[0:-1]"
   ]
  },
  {
   "cell_type": "markdown",
   "metadata": {},
   "source": [
    "The $k$th moment of discrete volume based breakage equation is\n",
    "\\begin{equation}\n",
    "M_k(t)=\\sum_{j=1}^\\infty\\bar{x}_j^k v_j(t)\n",
    "\\end{equation}\n",
    "It is assumed that the discrete selection rate function is related to the selection rate function by\n",
    "\\begin{equation}\n",
    "\\begin{cases}\n",
    "S_i=S(\\bar{x}_i),\\hspace{10mm}i>1\\\\\n",
    "S_1=0\n",
    "\\end{cases}\n",
    "\\end{equation}\n",
    "to prevent the particle loss from the leftmost interval $(x_0,x_1)$."
   ]
  },
  {
   "cell_type": "markdown",
   "metadata": {},
   "source": [
    "## Discretized breakage function\n",
    "The rate of generation of volume of fragments from interval $i$ is\n",
    "\\begin{equation}\n",
    "\\int_{l_{i-1}}^{l_i}S(l)v(t,l)dl\n",
    "\\end{equation}\n",
    "The discrete equivalent is $S_iV_i$.\n",
    "\n",
    "These fragments arrive in interval $j$ at a rate\n",
    "\\begin{equation}\n",
    "\\begin{cases}\n",
    "\\int_{l_{i-1}}^{l_i}\\int_{l_{j-1}}^{l_j}S(l)v(t,l)b(x,l)dxdl,\\qquad j<i\\\\\n",
    "\\int_{l_{i-1}}^{l_i}\\int_{l_{i-1}}^lS(l)v(t,l)b(x,l)dxdl,\\qquad j=i\n",
    "\\end{cases}\n",
    "\\end{equation}\n",
    "The discrete equivalent is $b_{ji}S_iV_i$."
   ]
  },
  {
   "cell_type": "markdown",
   "metadata": {},
   "source": [
    "Hence the discretized breakage function is\n",
    "\\begin{equation}\n",
    "\\begin{cases}\n",
    "b_{ji}=\\frac{\\int_{l_{i-1}}^{l_i}\\int_{l_{j-1}}^{l_j}S(l)v(t,l)b(x,l)dxdl}{\\int_{l_{i-1}}^{l_i}S(l)v(t,l)dl}\\approx\\frac{\\int_{l_{i-1}}^{l_i}\\int_{l_{j-1}}^{l_j}S(l)b(x,l)dxdl}{\\int_{l_{i-1}}^{l_i}S(l)dl},\\qquad j<i\\\\\n",
    "b_{ii}\\approx\\frac{\\int_{l_{i-1}}^{l_i}\\int_{l_{i-1}}^lS(l)b(x,l)dxdl}{\\int_{l_{i-1}}^{l_i}S(l)dl}\n",
    "\\end{cases}\n",
    "\\end{equation}"
   ]
  },
  {
   "cell_type": "markdown",
   "metadata": {},
   "source": [
    "For the mass conservation, the breakage function should satisfy\n",
    "\\begin{equation}\n",
    "\\sum_{j=1}^{i}b_{ji}=1\n",
    "\\end{equation}\n",
    "\\begin{align}\n",
    "\\sum_{j=1}^{i}b_{ji}=&\\sum_{j=1}^{i-1}\\frac{\\int_{l_{i-1}}^{l_i}\\int_{l_{j-1}}^{l_j}S(l)b(x,l)dxdl}{\\int_{l_{i-1}}^{l_i}S(l)dl}+\\frac{\\int_{l_{i-1}}^{l_i}\\int_{l_{i-1}}^lS(l)b(x,l)dxdl}{\\int_{l_{i-1}}^{l_i}S(l)dl}\\\\\n",
    "    =&\\frac{\\int_{l_{i-1}}^{l_i}\\int_{0}^{l_{i-1}}S(l)b(x,l)dxdl}{\\int_{l_{i-1}}^{l_i}S(l)dl}+\\frac{\\int_{l_{i-1}}^{l_i}\\int_{l_{i-1}}^lS(l)b(x,l)dxdl}{\\int_{l_{i-1}}^{l_i}S(l)dl}\\\\\n",
    "    =&\\frac{\\int_{l_{i-1}}^{l_i}\\int_{0}^{l}S(l)b(x,l)dxdl}{\\int_{l_{i-1}}^{l_i}S(l)dl}\\\\\n",
    "    =&\\frac{\\int_{l_{i-1}}^{l_i}S(l)\\int_{0}^{l}b(x,l)dxdl}{\\int_{l_{i-1}}^{l_i}S(l)dl}\n",
    "\\end{align}\n",
    "Since $\\int_{0}^{l}b(x,l)dx=1$, $\\sum_{j=1}^{i}b_{ji}=1$ as desired."
   ]
  },
  {
   "cell_type": "markdown",
   "metadata": {},
   "source": [
    "## Discretized breakage function 2\n",
    "The discretized breakage function from the continuous cumulative breakage function is\n",
    "\\begin{equation}\n",
    "b_{ij}=B(l_i,l_j)-B(l_{i-1},l_j)\n",
    "\\end{equation}"
   ]
  },
  {
   "cell_type": "markdown",
   "metadata": {},
   "source": [
    "The selection rate function can be described as (Ding, 2006)\n",
    "\\begin{equation}\n",
    "S(l) = S_0l^p\n",
    "\\end{equation}\n",
    "where $S_0$ is the selection rate constant. If $p=0$, the selection function is size independent."
   ]
  },
  {
   "cell_type": "markdown",
   "metadata": {},
   "source": [
    "## Volume based PBM\n",
    "The volume of size $l$ is\n",
    "\\begin{equation}\n",
    "v(t,l)=nl^3\n",
    "\\end{equation}\n",
    "Hence,\n",
    "\\begin{equation}\n",
    "\\frac{\\partial v}{\\partial t}=l^3\\left(\\int_v^\\infty S(\\epsilon)b(v,\\epsilon)n(\\epsilon)d\\epsilon-S(v)n(v)\\right)\n",
    "\\end{equation}\n"
   ]
  },
  {
   "cell_type": "code",
   "execution_count": 172,
   "metadata": {},
   "outputs": [],
   "source": [
    "def dsf(S0,L,p):\n",
    "    # discretized selection function\n",
    "    n = np.size(L)\n",
    "    S = np.empty(n)\n",
    "    S[0] = 0.0\n",
    "    for i in range(1,n):\n",
    "        S[i] = S0*L[i]**p\n",
    "    return S\n",
    "\n",
    "def vdbf(bf,Sf,L):\n",
    "    # volume based discretized breakage function\n",
    "    n = np.size(L)\n",
    "    break_mat = np.zeros((n,n))\n",
    "    def numerator(x,l):\n",
    "        return Sf(l)*bf(x,l)\n",
    "    def denominator(l):\n",
    "        return Sf(l)      \n",
    "    for i in range(n):\n",
    "        if i==0:\n",
    "            den,err = quad(denominator,0,L[0])\n",
    "            num,err = dblquad(numerator,0,L[0],lambda x: 0,lambda x: x)\n",
    "        else:\n",
    "            den,err = quad(denominator,L[i-1],L[i])\n",
    "            num,err = dblquad(numerator,L[i-1],L[i],lambda x: L[i-1],lambda x: x)\n",
    "        assert den != 0, 'vdbf: division by zero'\n",
    "        break_mat[i][i] = num/den\n",
    "        for j in range(i):\n",
    "            if j==0:\n",
    "                num,err = dblquad(numerator,L[i-1],L[i],lambda x: 0,lambda x: L[0])\n",
    "            else:\n",
    "                num,err = dblquad(numerator,L[i-1],L[i],lambda x: L[j-1],lambda x: L[j])\n",
    "            break_mat[j][i] = num/den\n",
    "    return break_mat\n"
   ]
  },
  {
   "cell_type": "code",
   "execution_count": 349,
   "metadata": {},
   "outputs": [],
   "source": [
    "def vdbf2(bfunc,L):\n",
    "    # volume based discretized breakage function\n",
    "    n = np.size(L)\n",
    "    break_mat = np.zeros((n,n))\n",
    "    def B(L1,L2):\n",
    "        def integrand(x):\n",
    "            return bfunc(x,L2)\n",
    "        num,err = quad(integrand,0,L1)\n",
    "        return num\n",
    "    for j in range(n):\n",
    "        for i in range(j+1):\n",
    "            if i==0:\n",
    "                break_mat[i][j] = B(L[i],L[j])\n",
    "            else:\n",
    "                break_mat[i][j] = B(L[i],L[j])-B(L[i-1],L[j])\n",
    "    return break_mat"
   ]
  },
  {
   "cell_type": "markdown",
   "metadata": {},
   "source": [
    "## Zero-th moment\n",
    "Zero-th moment of volume based breakage function is total volume of particles. Therefore, time derivative of zero-th moment should be zero for the volume conservation.\n",
    "\\begin{align}\n",
    "\\frac{d}{dt}m_0&=\\sum_{i=1}^n\\left(-S_iV_i+\\sum_{j=i}^n b_{ij}S_jV_j\\right)\\\\\n",
    "    &=-\\sum_{i=1}^nS_iV_i+\\sum_{i=1}^n\\sum_{j=i}^nb_{ij}S_jV_j\\\\\n",
    "    &=-\\sum_{i=1}^nS_iV_i+\\sum_{j=1}^n\\sum_{i=1}^jb_{ij}S_jV_j\\\\\n",
    "    &=-\\sum_{i=1}^nS_iV_i+\\sum_{i=1}^n\\sum_{j=1}^ib_{ji}S_iV_i\\\\\n",
    "    &=\\sum_{i=1}^nS_iV_i\\left(\\sum_{j=1}^ib_{ji}-1\\right)=0\n",
    "\\end{align}\n",
    "Therefore, discretized breakage function satisfies volume conservation."
   ]
  },
  {
   "cell_type": "markdown",
   "metadata": {},
   "source": [
    "## Continuous mass balance equation\n",
    "Let $m(l,t)dl$ be the mass of particles with sizes from $l$ to $l+dl$ at time $t$. The continuous mass balance equation is\n",
    "\\begin{equation}\n",
    "\\frac{\\partial m(l,t)}{\\partial t}=-S(l)m(l,t)+\\int_{l}^\\infty S(x)b(l,x)m(x,t)dx\n",
    "\\end{equation}\n",
    "where $b(x,y)$ is the breakage function and $S(x)$ is the selection rate function.\n",
    "\n",
    "The mass of particles with sizes less that $l$ is given by\n",
    "\\begin{equation}\n",
    "M(l,t)=\\int_0^lm(x,t)dx\n",
    "\\end{equation}\n",
    "and the $k$th moment is defined as\n",
    "\\begin{equation}\n",
    "M_k(t)=\\int_0^\\infty x^km(x,t)dx\n",
    "\\end{equation}\n",
    "Integrating the mass balance equation gives\n",
    "\\begin{equation}\n",
    "\\int_0^\\infty\\frac{\\partial m(l,t)}{\\partial t}dl=\\int_0^\\infty\\left(-S(l)m(l,t)+\\int_{l}^\\infty S(x)b(l,x)m(x,t)dx\\right)dl\n",
    "\\end{equation}"
   ]
  },
  {
   "cell_type": "markdown",
   "metadata": {},
   "source": [
    "So that\n",
    "\\begin{equation}\n",
    "\\frac{\\text{d}M_k(t)}{\\text{d}t}=\n",
    "\\end{equation}"
   ]
  },
  {
   "cell_type": "markdown",
   "metadata": {},
   "source": [
    "The breakage function that gives uniform probability is\n",
    "\\begin{equation}\n",
    "b(x,l)=\\frac{3x^2}{l^3}\n",
    "\\end{equation}"
   ]
  },
  {
   "cell_type": "markdown",
   "metadata": {},
   "source": [
    "The selection rate function can be described as (Ding, 2006)\n",
    "\\begin{equation}\n",
    "S(l) = S_0l^p\n",
    "\\end{equation}\n",
    "where $S_0$ is the selection rate constant. If $p=0$, the selection function is size independent."
   ]
  },
  {
   "cell_type": "code",
   "execution_count": null,
   "metadata": {},
   "outputs": [],
   "source": [
    "from scipy.special import erf\n",
    "\n",
    "def logerf(l,lgv,sg):\n",
    "    assert sg > 1, \"standard deviation must be larger than 1\"\n",
    "    return erf(np.log(l/lgv)/(np.sqrt(2)*np.log(sg)))\n",
    "\n",
    "def lognorm_b(x,l,lgv,sg):\n",
    "    assert sg > 1, \"standard deviation must be larger than 1\"\n",
    "    num = np.exp(-(np.log(x/lgv)/(np.sqrt(2)*np.log(sg)))**2)\n",
    "    num /= (x*np.sqrt(2*np.pi)*np.log(sg))\n",
    "    den = (1+logerf(l,lgv,sg))/2\n",
    "    # In case 'l' is too small compared to 'lgv',\n",
    "    # 'den' can be numerically zero \n",
    "    # if it is smaller than the machine precision epsilon \n",
    "    # which is not correct theoretically\n",
    "    if den == 0:\n",
    "        den = np.finfo(float).eps\n",
    "    return num/den"
   ]
  }
 ],
 "metadata": {
  "kernelspec": {
   "display_name": "Python 3",
   "language": "python",
   "name": "python3"
  },
  "language_info": {
   "codemirror_mode": {
    "name": "ipython",
    "version": 3
   },
   "file_extension": ".py",
   "mimetype": "text/x-python",
   "name": "python",
   "nbconvert_exporter": "python",
   "pygments_lexer": "ipython3",
   "version": "3.7.3"
  }
 },
 "nbformat": 4,
 "nbformat_minor": 2
}
