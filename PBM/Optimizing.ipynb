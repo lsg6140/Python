{
 "cells": [
  {
   "cell_type": "code",
   "execution_count": 1,
   "metadata": {},
   "outputs": [],
   "source": [
    "import numpy as np"
   ]
  },
  {
   "cell_type": "code",
   "execution_count": 118,
   "metadata": {},
   "outputs": [],
   "source": [
    "n = 10\n",
    "p = 3\n",
    "N = np.random.rand(n)\n",
    "b = np.random.rand(n,n)\n",
    "S = np.random.rand(n)\n",
    "k = np.random.rand(p)\n",
    "delta = 1e-8"
   ]
  },
  {
   "cell_type": "markdown",
   "metadata": {},
   "source": [
    "# Breakage function"
   ]
  },
  {
   "cell_type": "markdown",
   "metadata": {},
   "source": [
    "## Discretized breakage birth\n",
    "\\begin{equation}\n",
    "R_i^{[1]}=\\sum_{j=i}^{n}b_{i,j}S_jN_j\n",
    "\\end{equation}\n",
    "where $S_i$ is the selection rate for interval $i$ and $b_{i,j}$ is the number of fragments from $j$ to $i$ which occurs in $1\\sim n$\n",
    "## Discretized breakage death\n",
    "\\begin{equation}\n",
    "R_i^{[2]}=S_iN_i\n",
    "\\end{equation}\n",
    "which occurs in $2\\sim n$"
   ]
  },
  {
   "cell_type": "code",
   "execution_count": 3,
   "metadata": {},
   "outputs": [],
   "source": [
    "def breakage(N, bmat, Svec):\n",
    "    n = len(N)\n",
    "    R1 = np.zeros(n)\n",
    "    \n",
    "    for i in range(n):\n",
    "        R1[i] = np.sum(bmat[i, i:] * Svec[i:] * N[i:])\n",
    "        \n",
    "    R2 = Svec[1:] * N[1:]\n",
    "    R2 = np.insert(R2, 0, 0.0)\n",
    "        \n",
    "    dNdt = R1 - R2\n",
    "\n",
    "    return dNdt"
   ]
  },
  {
   "cell_type": "code",
   "execution_count": 87,
   "metadata": {},
   "outputs": [],
   "source": [
    "NN = np.repeat(N.reshape(1,n),n,axis=0)"
   ]
  },
  {
   "cell_type": "code",
   "execution_count": 88,
   "metadata": {},
   "outputs": [],
   "source": [
    "def l():\n",
    "    for i in range(n):\n",
    "        breakage(NN[i], b, S)\n",
    "    \n",
    "def l2():\n",
    "    for n in NN:\n",
    "        breakage(n, b, S)"
   ]
  },
  {
   "cell_type": "code",
   "execution_count": 89,
   "metadata": {},
   "outputs": [
    {
     "name": "stdout",
     "output_type": "stream",
     "text": [
      "19.7 ns ± 0.105 ns per loop (mean ± std. dev. of 7 runs, 100000000 loops each)\n",
      "18.4 ns ± 0.0342 ns per loop (mean ± std. dev. of 7 runs, 100000000 loops each)\n"
     ]
    }
   ],
   "source": [
    "%timeit l\n",
    "%timeit l2"
   ]
  },
  {
   "cell_type": "code",
   "execution_count": null,
   "metadata": {},
   "outputs": [],
   "source": []
  },
  {
   "cell_type": "code",
   "execution_count": 4,
   "metadata": {},
   "outputs": [
    {
     "name": "stdout",
     "output_type": "stream",
     "text": [
      "87.5 µs ± 734 ns per loop (mean ± std. dev. of 7 runs, 10000 loops each)\n"
     ]
    }
   ],
   "source": [
    "%timeit breakage(N, b, S)"
   ]
  },
  {
   "cell_type": "markdown",
   "metadata": {},
   "source": [
    "# Phi"
   ]
  },
  {
   "cell_type": "markdown",
   "metadata": {},
   "source": [
    "## Calculation of Jacobian in ODE models\n",
    "In ODE models, the sensitivity matrix cannot be obtained by a simple differentiation. Instead, we can get differential equation for $\\mathbf{J}$.\n",
    "Differentiate both side of $ \\frac{\\text{d}\\mathbf{y}}{\\text{d}t}=\\mathbf{f}(\\mathbf{y}(t),\\mathbf{k})$ and apply the chain rule,\n",
    "\\begin{align}\n",
    "\\frac{\\partial}{\\partial\\mathbf{k}}\\left(\\frac{\\text{d}\\mathbf{y}}{\\text{d}t}\\right)=\\frac{\\text{d}}{\\text{d}t}\\left(\\frac{\\partial\\mathbf{y}}{\\partial\\mathbf{k}}\\right)&=\\frac{\\partial}{\\partial\\mathbf{k}}\\mathbf{f}(\\mathbf{y}(t),\\mathbf{k})\\\\\n",
    "&=\\frac{\\partial\\mathbf{f}}{\\partial\\mathbf{y}}\\frac{\\partial\\mathbf{y}}{\\partial\\mathbf{k}}+\\frac{\\partial\\mathbf{f}}{\\partial\\mathbf{k}}\\frac{\\partial\\mathbf{k}}{\\partial\\mathbf{k}}\\\\\n",
    "&=\\frac{\\partial\\mathbf{f}}{\\partial\\mathbf{y}}\\frac{\\partial\\mathbf{y}}{\\partial\\mathbf{k}}+\\frac{\\partial\\mathbf{f}}{\\partial\\mathbf{k}}\n",
    "\\end{align}\n",
    "Hence,\n",
    "\\begin{equation*}\n",
    "\\frac{\\text{d}\\mathbf{J}(t)}{\\text{d}t}=\\frac{\\partial\\mathbf{f}}{\\partial\\mathbf{y}}\\mathbf{J}(t)+\\frac{\\partial\\mathbf{f}}{\\partial\\mathbf{k}};\\hspace{10mm}\\mathbf{J}(t_0)=0\n",
    "\\end{equation*}\n"
   ]
  },
  {
   "cell_type": "markdown",
   "metadata": {},
   "source": [
    "## Contruction of ODE system with Jacobian\n",
    "The Jacobian or the sensitivity matrix is\n",
    "\\begin{equation}\n",
    "\\mathbf{J}(t)=\\frac{\\partial\\mathbf{y}}{\\partial\\mathbf{k}}=\\left[\\frac{\\partial\\mathbf{y}}{\\partial k_1},\\cdots,\\frac{\\partial\\mathbf{y}}{\\partial k_p}\\right]=[\\mathbf{g}_1,\\cdots,\\mathbf{g}_p]\n",
    "\\end{equation}\n",
    "where $\\mathbf{g}_j$ represents $n$-dimensional vector which is the sensitivity coefficients of the state variables with respect to parameter $k_j$. Each of $\\mathbf{g}_j$ satisfies the differential equation for Jacobian such that\n",
    "\\begin{equation*}\n",
    "\\frac{\\text{d}\\mathbf{g}_j(t)}{\\text{d}t}=\\frac{\\partial\\mathbf{f}}{\\partial\\mathbf{y}}\\mathbf{g}_j+\\frac{\\partial\\mathbf{f}}{\\partial k_j};\\hspace{10mm}\\mathbf{g}_j(t_0)=0;\\hspace{10mm}j=1,\\cdots,p\n",
    "\\end{equation*}\n",
    "We generate $n\\times(p+1)$-dimensional differential equations system\n",
    "\\begin{equation*}\n",
    "\\frac{d\\mathbf{z}}{dt}=\\varphi(\\mathbf{z})\n",
    "\\end{equation*}\n",
    "$\\mathbf{z}$ is $n\\times(p+1)$-dimensional vector\n",
    "\\begin{equation*}\n",
    "\\mathbf{z}=\\begin{bmatrix} \\mathbf{x}(t)\\\\\n",
    "                          \\frac{\\partial\\mathbf{y}}{\\partial k_1}\\\\\n",
    "                          \\vdots\\\\\n",
    "                          \\frac{\\partial\\mathbf{y}}{\\partial k_p}\n",
    "\\end{bmatrix}\n",
    "=\\begin{bmatrix} \\mathbf{y}(t)\\\\\n",
    "                 \\mathbf{g}_1(t)\\\\\n",
    "                 \\vdots\\\\\n",
    "                 \\mathbf{g}_p(t)\n",
    "\\end{bmatrix}\n",
    "\\end{equation*}\n",
    "$\\mathbf{\\varphi}(\\mathbf{z})$ is $n\\times(p+1)$-dimensional vector function\n",
    "\n",
    "\\begin{equation*}\n",
    "\\mathbf{\\varphi}(\\mathbf{z})=\\begin{bmatrix}\n",
    "\\mathbf{f}(\\mathbf{y},\\mathbf{k})\\\\\n",
    "\\frac{\\partial\\mathbf{f}}{\\partial\\mathbf{y}}\\mathbf{g}_1(t)+\\frac{\\partial\\mathbf{f}}{\\partial k_1}\\\\\n",
    "\\vdots\\\\\n",
    "\\frac{\\partial\\mathbf{f}}{\\partial\\mathbf{y}}\\mathbf{g}_p(t)+\\frac{\\partial\\mathbf{f}}{\\partial k_p}\n",
    "\\end{bmatrix}\n",
    "\\end{equation*}\n",
    "\n",
    "To get the Jacobian for all $t_i$, $\\varphi(\\mathbf{z}_i)$ should be solved for $t_i,~~i=1,2,\\cdots,N$.\n"
   ]
  },
  {
   "cell_type": "code",
   "execution_count": null,
   "metadata": {},
   "outputs": [],
   "source": [
    "def phi_breakage(breakage, z, dbs, n, p, delta):\n",
    "    # dbs: discretized breakage and selection functions\n",
    "    z = z.astype(np.float)\n",
    "    y = z[0:n]\n",
    "    J = z[n:].reshape((p, n)).transpose()\n",
    "    phiz = np.empty(n * (p+1))\n",
    "    dfdy = np.empty((n, n))\n",
    "    dfdk = np.empty((p, n))\n",
    "    \n",
    "    for i in range(n):\n",
    "        yr = y.copy()\n",
    "        yl = y.copy()\n",
    "        yr[i] += delta\n",
    "        yl[i] -= delta\n",
    "        dfdy[i] = (breakage(yr, dbs[0], dbs[1]) - \\\n",
    "                   breakage(yl, dbs[0], dbs[1])) / (2 * delta)\n",
    "    dfdy = dfdy.transpose()\n",
    "    \n",
    "    for i in range(p):\n",
    "        dfdk[i] = (breakage(y, dbs[2][i], dbs[3][i]) - \\\n",
    "                   breakage(y, dbs[4][i], dbs[5][i])) / (2 * delta)\n",
    "    dfdk = dfdk.transpose()\n",
    "    \n",
    "    dJdt = dfdy @ J + dfdk\n",
    "    phiz[0:n] = breakage(y, dbs[0], dbs[1])\n",
    "    phiz[n:] = dJdt.transpose().flatten()\n",
    "    return phiz"
   ]
  },
  {
   "cell_type": "code",
   "execution_count": 115,
   "metadata": {},
   "outputs": [],
   "source": [
    "def dfdytest1(breakage, y, b, S, n, p, delta):\n",
    "    dfdy = np.empty((n, n))\n",
    "    \n",
    "    for i in range(n):\n",
    "        yr = y.copy()\n",
    "        yl = y.copy()\n",
    "        yr[i] += delta\n",
    "        yl[i] -= delta\n",
    "        dfdy[i] = (breakage(yr, b, S) - \\\n",
    "                   breakage(yl, b, S)) / (2 * delta)\n",
    "    dfdy = dfdy.transpose()\n",
    "    return dfdy"
   ]
  },
  {
   "cell_type": "code",
   "execution_count": 119,
   "metadata": {},
   "outputs": [
    {
     "name": "stdout",
     "output_type": "stream",
     "text": [
      "1.07 ms ± 3.07 µs per loop (mean ± std. dev. of 7 runs, 1000 loops each)\n"
     ]
    }
   ],
   "source": [
    "%timeit dfdytest1(breakage, N, b, S, n, p, delta)"
   ]
  },
  {
   "cell_type": "code",
   "execution_count": 112,
   "metadata": {},
   "outputs": [],
   "source": [
    "def dfdytest2(breakage, y, b, S, n, p, delta):\n",
    "    dfdy = np.empty((n, n))\n",
    "\n",
    "    for i in range(n):\n",
    "        yr = y.copy()\n",
    "        yl = y.copy()\n",
    "        yr[i] += delta\n",
    "        yl[i] -= delta\n",
    "        dfdy[i] = (breakage(yr, b, S) - \\\n",
    "                   breakage(yl, b, S)) / (2 * delta)\n",
    "    dfdy = np.asarray(dfdy).transpose()\n",
    "    return dfdy"
   ]
  },
  {
   "cell_type": "code",
   "execution_count": 120,
   "metadata": {},
   "outputs": [
    {
     "name": "stdout",
     "output_type": "stream",
     "text": [
      "1.4 ms ± 2.79 µs per loop (mean ± std. dev. of 7 runs, 1000 loops each)\n"
     ]
    }
   ],
   "source": [
    "%timeit dfdytest2(breakage, N, b, S, n, p, delta)"
   ]
  },
  {
   "cell_type": "code",
   "execution_count": 114,
   "metadata": {},
   "outputs": [
    {
     "data": {
      "text/plain": [
       "array([[0., 0., 0., ..., 0., 0., 0.],\n",
       "       [0., 0., 0., ..., 0., 0., 0.],\n",
       "       [0., 0., 0., ..., 0., 0., 0.],\n",
       "       ...,\n",
       "       [0., 0., 0., ..., 0., 0., 0.],\n",
       "       [0., 0., 0., ..., 0., 0., 0.],\n",
       "       [0., 0., 0., ..., 0., 0., 0.]])"
      ]
     },
     "execution_count": 114,
     "metadata": {},
     "output_type": "execute_result"
    }
   ],
   "source": [
    "dfdytest1(breakage, N, b, S, n, p, delta) - dfdytest2(breakage, N, b, S, n, p, delta)"
   ]
  },
  {
   "cell_type": "code",
   "execution_count": 58,
   "metadata": {},
   "outputs": [],
   "source": [
    "Nr = np.repeat(N.reshape(1,n),n,axis=0)\n",
    "Nl = Nr.copy()"
   ]
  },
  {
   "cell_type": "code",
   "execution_count": 59,
   "metadata": {},
   "outputs": [],
   "source": [
    "Nr = Nr + delta * np.eye(n)"
   ]
  },
  {
   "cell_type": "code",
   "execution_count": 60,
   "metadata": {},
   "outputs": [],
   "source": [
    "Nl = Nl - delta * np.eye(n)"
   ]
  },
  {
   "cell_type": "code",
   "execution_count": 61,
   "metadata": {},
   "outputs": [
    {
     "data": {
      "text/plain": [
       "array([[0.002, 0.   , 0.   , 0.   , 0.   ],\n",
       "       [0.   , 0.002, 0.   , 0.   , 0.   ],\n",
       "       [0.   , 0.   , 0.002, 0.   , 0.   ],\n",
       "       [0.   , 0.   , 0.   , 0.002, 0.   ],\n",
       "       [0.   , 0.   , 0.   , 0.   , 0.002]])"
      ]
     },
     "execution_count": 61,
     "metadata": {},
     "output_type": "execute_result"
    }
   ],
   "source": [
    "Nr - Nl"
   ]
  },
  {
   "cell_type": "code",
   "execution_count": 69,
   "metadata": {},
   "outputs": [
    {
     "data": {
      "text/plain": [
       "array([[2.05618234e-001, 5.02034658e+175, 6.39827228e+170,\n",
       "        1.90381329e-001, 4.24547314e-001],\n",
       "       [9.35615439e-067, 1.47763641e+248, 2.40001751e-001,\n",
       "        7.69165785e+218, 1.35617292e+248],\n",
       "       [5.72166720e+174, 1.70388495e-051, 1.33473410e+000,\n",
       "        2.62599145e+179, 3.25660880e-002],\n",
       "       [6.32299154e+233, 6.48224638e+170, 5.22411352e+257,\n",
       "        5.74020278e+180, 3.28616953e-001],\n",
       "       [1.41529402e+161, 6.00736899e-067, 4.31300550e+097,\n",
       "        1.14482622e-071, 3.58834401e+126]])"
      ]
     },
     "execution_count": 69,
     "metadata": {},
     "output_type": "execute_result"
    }
   ],
   "source": [
    "dfdytest2(breakage, N, b, S, n, p, delta)"
   ]
  },
  {
   "cell_type": "code",
   "execution_count": 30,
   "metadata": {},
   "outputs": [
    {
     "data": {
      "text/plain": [
       "False"
      ]
     },
     "execution_count": 30,
     "metadata": {},
     "output_type": "execute_result"
    }
   ],
   "source": [
    "np.allclose(dfdytest1(breakage, N, b, S, n, p, delta), dfdytest2(breakage, N, b, S, n, p, delta))"
   ]
  },
  {
   "cell_type": "code",
   "execution_count": 100,
   "metadata": {},
   "outputs": [
    {
     "ename": "TypeError",
     "evalue": "can't multiply sequence by non-int of type 'tuple'",
     "output_type": "error",
     "traceback": [
      "\u001b[0;31m---------------------------------------------------------------------------\u001b[0m",
      "\u001b[0;31mTypeError\u001b[0m                                 Traceback (most recent call last)",
      "\u001b[0;32m<ipython-input-100-f167487f8313>\u001b[0m in \u001b[0;36m<module>\u001b[0;34m\u001b[0m\n\u001b[0;32m----> 1\u001b[0;31m \u001b[0;34m[\u001b[0m\u001b[0;32mNone\u001b[0m\u001b[0;34m]\u001b[0m \u001b[0;34m*\u001b[0m\u001b[0;34m(\u001b[0m\u001b[0;36m10\u001b[0m\u001b[0;34m,\u001b[0m\u001b[0;36m10\u001b[0m\u001b[0;34m)\u001b[0m\u001b[0;34m\u001b[0m\u001b[0;34m\u001b[0m\u001b[0m\n\u001b[0m",
      "\u001b[0;31mTypeError\u001b[0m: can't multiply sequence by non-int of type 'tuple'"
     ]
    }
   ],
   "source": [
    "[None] *(10,10)"
   ]
  },
  {
   "cell_type": "code",
   "execution_count": 109,
   "metadata": {},
   "outputs": [],
   "source": [
    "a = [[1,2],[3,4]]"
   ]
  },
  {
   "cell_type": "code",
   "execution_count": 111,
   "metadata": {},
   "outputs": [
    {
     "data": {
      "text/plain": [
       "[[1, 2], [3, 4]]"
      ]
     },
     "execution_count": 111,
     "metadata": {},
     "output_type": "execute_result"
    }
   ],
   "source": [
    "a"
   ]
  }
 ],
 "metadata": {
  "kernelspec": {
   "display_name": "Python 3",
   "language": "python",
   "name": "python3"
  },
  "language_info": {
   "codemirror_mode": {
    "name": "ipython",
    "version": 3
   },
   "file_extension": ".py",
   "mimetype": "text/x-python",
   "name": "python",
   "nbconvert_exporter": "python",
   "pygments_lexer": "ipython3",
   "version": "3.7.3"
  }
 },
 "nbformat": 4,
 "nbformat_minor": 2
}
