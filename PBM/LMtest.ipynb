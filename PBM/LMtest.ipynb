{
 "cells": [
  {
   "cell_type": "code",
   "execution_count": 1,
   "metadata": {},
   "outputs": [],
   "source": [
    "import GN_ode as gn\n",
    "import numpy as np\n",
    "from scipy.integrate import odeint, solve_ivp\n",
    "import pandas as pd\n",
    "import matplotlib.pyplot as plt\n",
    "import numpy.linalg as LA"
   ]
  },
  {
   "cell_type": "markdown",
   "metadata": {},
   "source": [
    "## Newton's method\n",
    "Solve $\\mathbf{f}''(\\mathbf{x})\\mathbf{h}=-\\mathbf{f'(x)}$"
   ]
  },
  {
   "cell_type": "code",
   "execution_count": 2,
   "metadata": {},
   "outputs": [],
   "source": [
    "def ex1(x):\n",
    "    return 0.5*x[0]**2*(x[0]**2/6+1)+x[1]*np.arctan(x[1])-0.5*np.log(x[1]**2+1)\n",
    "def d1ex1(x):\n",
    "    r1 = x[0]**3/3+x[0]\n",
    "    r2 = np.arctan(x[1])\n",
    "    return np.array([r1,r2])\n",
    "def d2ex1(x):\n",
    "    r11 = x[0]**2+1\n",
    "    r22 = 1/(1+x[1]**2)\n",
    "    return np.array([[r11,0],[0,r22]])"
   ]
  },
  {
   "cell_type": "code",
   "execution_count": 3,
   "metadata": {},
   "outputs": [],
   "source": [
    "def newton(x):\n",
    "    iter = 0\n",
    "    f = ex1(x)\n",
    "    d1n = LA.norm(d1ex1(x))\n",
    "    hn = 0\n",
    "    while iter<=5:\n",
    "        iter += 1\n",
    "        print(*[x,f,d1n,hn])\n",
    "        h = LA.solve(d2ex1(x),-d1ex1(x))\n",
    "        x = x + h\n",
    "        f = ex1(x)\n",
    "        d1n = LA.norm(d1ex1(x))\n",
    "        hn = LA.norm(h)\n",
    "    return x"
   ]
  },
  {
   "cell_type": "code",
   "execution_count": 4,
   "metadata": {},
   "outputs": [
    {
     "name": "stdout",
     "output_type": "stream",
     "text": [
      "[1, 0.7] 0.8114534484270954 1.466548322203161 0\n",
      "[ 0.33333333 -0.20998169] 0.07847129726922965 0.4029050598080402 1.1280563438988624\n",
      "[0.02222222 0.00611896] 0.00026565460930539394 0.02305277561832044 0.3788002273222916\n",
      "[ 7.3123469e-06 -1.5273477e-07] 2.6746879144831864e-11 7.3139418280887725e-06 0.023042259817480305\n",
      "[2.60662531e-16 2.38228016e-21] 3.397247755400034e-32 2.606625310671356e-16 7.313941827697864e-06\n",
      "[0. 0.] 0.0 0.0 2.606625310671356e-16\n"
     ]
    }
   ],
   "source": [
    "x = newton([1,0.7])"
   ]
  },
  {
   "cell_type": "code",
   "execution_count": 5,
   "metadata": {},
   "outputs": [
    {
     "name": "stdout",
     "output_type": "stream",
     "text": [
      "[1, 2] 1.992911812704464 1.7330770499579284 0\n",
      "[ 0.33333333 -3.53574359] 3.334570302914684 1.340506199335136 5.575742240031537\n",
      "[ 0.02222222 13.95095909] 18.277958953041583 1.499403790524476 17.489469991932662\n",
      "[ 7.31234690e-06 -2.79344067e+02] 432.16018725172415 1.5672165273884322 293.2950264618516\n",
      "[2.60662531e-16 1.22016999e+05] 191651.14179121036 1.5707881312155196 122296.3429844881\n",
      "[ 0.00000000e+00 -2.33860042e+10] 36734649467.649124 1.570796326752136 23386126214.93277\n"
     ]
    }
   ],
   "source": [
    "x = newton([1,2])"
   ]
  },
  {
   "cell_type": "markdown",
   "metadata": {},
   "source": [
    "## Levenberg-Marquardt method"
   ]
  },
  {
   "cell_type": "code",
   "execution_count": 6,
   "metadata": {},
   "outputs": [],
   "source": [
    "def lm(func,d1,d2,x,opts=[1e-3,1e-8,1e-8,1000]):\n",
    "    p = np.size(x)\n",
    "    I = np.eye(p)\n",
    "    nu = 2\n",
    "    mu = opts[0]\n",
    "    f0 = func(x)\n",
    "    found = False\n",
    "    iter = 0\n",
    "    H = d2(x)\n",
    "    g = d1(x)\n",
    "    while not found:\n",
    "        iter += 1\n",
    "        h = LA.solve(H+mu*I,-g)\n",
    "        xn = LA.norm(x,2)\n",
    "        hn = LA.norm(h,2)\n",
    "        if hn <= opts[2]*(xn+opts[2]):\n",
    "            found = True\n",
    "        else:\n",
    "            xnew = x + h\n",
    "            f = func(xnew)\n",
    "            rho = (f0-f)/(-h@g-h@H@h/2)\n",
    "            if rho>1e-3:\n",
    "                x = xnew\n",
    "                f0 = f\n",
    "                H = d2(x)\n",
    "                g = d1(x)\n",
    "                gn = LA.norm(g,np.inf)\n",
    "                found = bool(gn<=opts[1])\n",
    "                mu *= max(1/3,1-(2*rho-1)**3)\n",
    "                nu = 2\n",
    "            else:\n",
    "                mu *= nu\n",
    "                nu *= 2\n",
    "        print(*[iter,x,f,gn,rho,mu])\n",
    "    return x    "
   ]
  },
  {
   "cell_type": "code",
   "execution_count": 7,
   "metadata": {},
   "outputs": [],
   "source": [
    "x0 = [1,2]"
   ]
  },
  {
   "cell_type": "code",
   "execution_count": 8,
   "metadata": {},
   "outputs": [
    {
     "name": "stdout",
     "output_type": "stream",
     "text": [
      "1 [0.55555556 1.07737607] 0.6633138106211669 0.8226279732113916 0.9986314333678693 0.3333333333333333\n",
      "2 [0.18240045 0.04410287] 0.01769941831974399 0.18442326178999555 0.8719008911702721 0.19616609671433488\n",
      "3 [0.03239405 0.00719666] 0.000550674855304072 0.032405384442749874 1.009563547686992 0.06538869890477829\n",
      "4 [0.00200749 0.00044149] 2.1124712707302104e-06 0.0020074960355820994 1.0004219158888992 0.02179623296825943\n",
      "5 [4.28275345e-05 9.41742288e-06] 9.614427360237247e-10 4.282753451115148e-05 1.0000018110439293 0.00726541098941981\n",
      "6 [3.08915295e-07 6.79279228e-08] 4.9997064067420426e-14 3.089152949211551e-07 0.9999999782375907 0.0024218036631399363\n",
      "7 [7.46324741e-10 1.64110649e-10] 3.0543261439581334e-19 7.463247408682824e-10 0.9995125967183283 0.0008072678877133121\n"
     ]
    }
   ],
   "source": [
    "res = lm(ex1,d1ex1,d2ex1,x0,[1,1e-8,1e-12,10])"
   ]
  },
  {
   "cell_type": "code",
   "execution_count": 9,
   "metadata": {},
   "outputs": [
    {
     "data": {
      "text/plain": [
       "array([7.46324741e-10, 1.64110649e-10])"
      ]
     },
     "execution_count": 9,
     "metadata": {},
     "output_type": "execute_result"
    }
   ],
   "source": [
    "res"
   ]
  },
  {
   "cell_type": "markdown",
   "metadata": {},
   "source": [
    "# Fitting  model\n",
    "$$M(\\mathbf{x},t)=x_3e^{x_1t}+x_4e^{x_2t}$$\n",
    "## Measurements"
   ]
  },
  {
   "cell_type": "code",
   "execution_count": 10,
   "metadata": {},
   "outputs": [],
   "source": [
    "df = pd.read_csv(\"efit1.dat\",delimiter=' ',header=None)"
   ]
  },
  {
   "cell_type": "code",
   "execution_count": 11,
   "metadata": {},
   "outputs": [],
   "source": [
    "t = np.array(df[3])\n",
    "yhat = np.array(df[7])"
   ]
  },
  {
   "cell_type": "markdown",
   "metadata": {},
   "source": [
    "## Least squares\n",
    "$$f_i(\\mathbf{x})=y_i-M(\\mathbf{x},t_i)$$\n",
    "$$F(\\mathbf{x})=\\frac{1}{2}\\sum_{i=1}^mf_i(\\mathbf{x})^2$$\n",
    "## Jacobian\n",
    "$$\\left(\\mathbf{J}(\\mathbf{x})\\right)_{ij}=\\frac{\\partial f_i}{\\partial x_j}(\\mathbf{x})$$\n",
    "$$\\mathbf{J}(\\mathbf{x})_i=\\begin{bmatrix}-x_3t_ie^{x_1t_i}&-x_4t_ie^{x_2t_i}&-e^{x_1t_i}&-e^{x_2t_i}\\end{bmatrix}$$"
   ]
  },
  {
   "cell_type": "code",
   "execution_count": 12,
   "metadata": {},
   "outputs": [],
   "source": [
    "def ex2(x,t):    \n",
    "    return x[2]*np.exp(x[0]*t)+x[3]*np.exp(x[1]*t)\n",
    "\n",
    "def Jex2(x,t):\n",
    "    j1 = -x[2]*t*np.exp(x[0]*t)\n",
    "    j2 = -x[3]*t*np.exp(x[1]*t)\n",
    "    j3 = -np.exp(x[0]*t)\n",
    "    j4 = -np.exp(x[1]*t)\n",
    "    return np.array([j1,j2,j3,j4])"
   ]
  },
  {
   "cell_type": "code",
   "execution_count": 31,
   "metadata": {},
   "outputs": [],
   "source": [
    "def Hg(func,Jac,yhat,x,t):\n",
    "    m = func(x,t)\n",
    "    f = yhat-m\n",
    "    J = Jac(x,t).T\n",
    "    H = J.T@J\n",
    "    g = J.T@f\n",
    "    return H, g"
   ]
  },
  {
   "cell_type": "code",
   "execution_count": 26,
   "metadata": {},
   "outputs": [],
   "source": [
    "def F(func,yhat,x,t):\n",
    "    m = func(x,t)\n",
    "    f = yhat-m\n",
    "    return np.dot(f,f)/2"
   ]
  },
  {
   "cell_type": "markdown",
   "metadata": {},
   "source": [
    "## Gauss-Newton method\n",
    "$$\\mathbf{H=J^\\top J}$$\n",
    "$$\\mathbf{g=J^\\top f}$$\n",
    "Solve\n",
    "$$\\mathbf{Hh=-g}$$\n",
    "### Some numerical aspect\n",
    "Substantial loss of precision can occur if the numerical computation is done by first squaring $\\mathbf{J}$ to give $\\mathbf{J^\\top J}$ and then factorizing $\\mathbf{J^\\top J}$ directly."
   ]
  },
  {
   "cell_type": "markdown",
   "metadata": {},
   "source": [
    "## Cholesky factorization\n",
    "\\begin{equation}\n",
    "\\mathbf{A=LU=LDL^\\top=CC^\\top}\n",
    "\\end{equation}\n",
    "with $\\mathbf{C=LD^{1/2}},\\hspace{10mm}\\mathbf{D^{1/2}}=\\text{diag}(\\sqrt{u_{ii}})$\n",
    "\n",
    "The Cholesky factorization algorithm is\n",
    "\\begin{equation}\n",
    "C_{jj}=\\sqrt{A_{jj}-\\sum_{k=0}^{j-1}C_{jk}^2}\n",
    "\\end{equation}\n",
    "and\n",
    "\\begin{equation}\n",
    "C_{ij}=\\frac{1}{C_{jj}}\\left(A_{ij}-\\sum_{k=0}^{j-1}C_{ik}C_{jk}\\right)\n",
    "\\end{equation}"
   ]
  },
  {
   "cell_type": "code",
   "execution_count": null,
   "metadata": {},
   "outputs": [],
   "source": [
    "def gn(ode,yhat,Q,k0,time,opts=[1e-8,1e-8,1e-8,1000]):\n",
    "    # Input arguments\n",
    "\n",
    "    # opts = [tolg, tolk, tols, max_iter]\n",
    "    #\n",
    "    # Outputs\n",
    "    # output = [k,Y,info]\n",
    "    # k : parameters\n",
    "    # Y : results with k\n",
    "    # info = [it,ter]\n",
    "    # it : Number of iterations\n",
    "    # ter : Termination criteria 1: gradient 2: change in h 3: maximum iteration\n",
    "\n",
    "    try:\n",
    "        stop = False\n",
    "        it = 0 \n",
    "        ter = 'm'\n",
    "        N = np.size(t)\n",
    "        if np.ndim(yhat) == 1:\n",
    "            scalar = True\n",
    "            n = 1\n",
    "            if N != np.size(yhat):\n",
    "                raise ValueError(\"Dimension mismatch with yhat and t\")\n",
    "        else:\n",
    "            scalar = False\n",
    "            n = np.size(yhat,0)\n",
    "            if N != np.size(yhat,1):\n",
    "                raise ValueError(\"Dimension mismatch with yhat and t\")\n",
    "        p = np.size(k0)\n",
    "        k = k0.copy()\n",
    "        print('Iter | Obj func | grad')\n",
    "        Y,Jt,S,r,fail  = checkSrJ(ode,yhat,k,t,n,p,N,Q,1e8,scalar)\n",
    "        S0 = S\n",
    "        H,g = Hg(Jt,Q,r,p,N)\n",
    "        gn = LA.norm(g,np.inf)\n",
    "        stop = bool(gn < opts[0])\n",
    "        if stop:\n",
    "            ter = 'g'\n",
    "        print(\"{0:5d}|{1:10.4e}|{2:10.2e}\"\n",
    "              .format(it,S,gn))\n",
    "        while (not stop) and (it<=opts[3]):\n",
    "            it += 1\n",
    "            h = LA.solve(H,-g)\n",
    "            hn = LA.norm(h,2)\n",
    "            kn = LA.norm(k,2)\n",
    "            if hn <= opts[1]*(kn+opts[1]):\n",
    "                stop = True\n",
    "                ter = 'h'\n",
    "            else:\n",
    "                k += h\n",
    "                Y,Jt,S,r,fail  = checkSrJ(ode,yhat,k,t,n,p,N,Q,S0,scalar)\n",
    "                if abs(S0-S) <= opts[2]:\n",
    "                    stop = True\n",
    "                    ter = 'S'\n",
    "                S0 = S\n",
    "                K = np.diag(k)\n",
    "                H, g = Hg(Jt,Q,r,p,N)\n",
    "                gn = LA.norm(g,np.inf) \n",
    "                if gn < opts[0]:\n",
    "                    stop = True\n",
    "                    ter = 'g'\n",
    "            if not stop:\n",
    "                print(\"{0:5d}|{1:10.4e}|{2:10.2e}\"\n",
    "                        .format(it,S,gn))\n",
    "        info = [it,ter]\n",
    "        output = [k,Y,info]\n",
    "        return output\n",
    "    except OverflowError:\n",
    "        print(\"Problem with integration. Try with another parameter\")\n",
    "        return\n",
    "\n"
   ]
  },
  {
   "cell_type": "code",
   "execution_count": 15,
   "metadata": {},
   "outputs": [],
   "source": [
    "def chol(A):\n",
    "    n = np.size(A,0)\n",
    "    C = np.zeros((n,n))\n",
    "    j = 0\n",
    "    pd = True\n",
    "    while pd and j<n:\n",
    "        sum = 0\n",
    "        for k in range(j):\n",
    "            sum += C[j][k]**2\n",
    "        d = A[j][j]-sum\n",
    "        if d>0:\n",
    "            C[j][j] = np.sqrt(d)\n",
    "            for i in range(j,n):\n",
    "                sum = 0\n",
    "                for k in range(j):\n",
    "                    sum += C[i][k]*C[j][k]\n",
    "                C[i][j] = (A[i][j]-sum)/C[j][j]\n",
    "        else:\n",
    "            pd = False\n",
    "        j += 1\n",
    "    return C,pd"
   ]
  },
  {
   "cell_type": "code",
   "execution_count": 16,
   "metadata": {},
   "outputs": [],
   "source": [
    "def cholsolve(C,b):\n",
    "    # CC^Tx = b\n",
    "    n = np.size(b)\n",
    "    z = np.zeros(n)\n",
    "    x = np.zeros(n)\n",
    "    # Forward C^Tx = z\n",
    "    for i in range(n):\n",
    "        sum = 0\n",
    "        for j in range(i):\n",
    "            sum += C[i][j]*z[j]\n",
    "        z[i] = (b[i]-sum)/C[i][i]\n",
    "    # Backward Cz = b\n",
    "    for i in reversed(range(n)):\n",
    "        sum = 0\n",
    "        for j in range(i,n):\n",
    "            sum += C[j][i]*x[j]\n",
    "        x[i] = (z[i]-sum)/C[i][i]\n",
    "    return x"
   ]
  },
  {
   "cell_type": "code",
   "execution_count": null,
   "metadata": {},
   "outputs": [],
   "source": [
    "def svdsolve(A,b):\n",
    "    u,s,v = np.linalg.svd(A)\n",
    "    c = u.T@b\n",
    "    w = np.linalg.solve(np.diag(s),c)\n",
    "    x = v.T@w\n",
    "    return x"
   ]
  },
  {
   "cell_type": "code",
   "execution_count": 35,
   "metadata": {},
   "outputs": [],
   "source": [
    "def gn(func,Jac,yhat,x,t,opts=[1e-8,1e-8,1000]):\n",
    "    found = False\n",
    "    iter = 0\n",
    "    S = F(func,yhat,x,t)\n",
    "    H,g = Hg(func,Jac,yhat,x,t)\n",
    "    gn = LA.norm(g,np.inf)\n",
    "    while not found:\n",
    "        iter += 1\n",
    "        h = LA.solve(H,-g)\n",
    "        xn = LA.norm(x,2)\n",
    "        hn = LA.norm(h,2)\n",
    "        if hn <= opts[1]*(xn+opts[1]):\n",
    "            found = True\n",
    "        else:\n",
    "            x += h\n",
    "            S = F(func,yhat,x,t)\n",
    "            H,g = Hg(func,Jac,yhat,x,t)\n",
    "            gn = LA.norm(g,np.inf)\n",
    "            found = bool(gn<=opts[0])\n",
    "        print(*[iter,x,S,gn])\n",
    "    return x"
   ]
  },
  {
   "cell_type": "code",
   "execution_count": 36,
   "metadata": {},
   "outputs": [],
   "source": [
    "x = np.array([-4,-5,4,-4])\n",
    "x0 = [-3,-6,3,-3]"
   ]
  },
  {
   "cell_type": "code",
   "execution_count": 37,
   "metadata": {},
   "outputs": [
    {
     "name": "stdout",
     "output_type": "stream",
     "text": [
      "1 [-3.2577303  -5.77198388  1.82515609 -1.82567999] 0.04056132808533103 0.5488055801536558\n",
      "2 [-3.67075968 -5.35515906  2.19597004 -2.19611385] 0.010384311948224676 0.21606653723870717\n",
      "3 [-3.94519986 -5.05437361  3.12462439 -3.12458962] 0.02420654641808777 0.37123418711582584\n",
      "4 [-4.00299501 -4.99774073  3.92878432 -3.92878744] 0.005587530407932267 0.06368190365243927\n",
      "5 [-4.00035739 -4.99948182  4.00377927 -4.00377686] 0.0049999847494690474 0.00023523610982514181\n",
      "6 [-3.99997651 -5.00003353  3.99977338 -3.99977335] 0.004999976484523449 2.5662580767082943e-06\n",
      "7 [-4.00003262 -4.99995618  4.0003014  -4.00030094] 0.004999976483464079 4.84431537453589e-08\n",
      "8 [-4.00002596 -4.99996541  4.00023907 -4.00023867] 0.004999976483462053 8.58306523077168e-10\n"
     ]
    }
   ],
   "source": [
    "res = gn(ex2,Jex2,yhat,x0,t,[1e-8,1e-8,10])"
   ]
  },
  {
   "cell_type": "markdown",
   "metadata": {},
   "source": [
    "## LM method"
   ]
  },
  {
   "cell_type": "code",
   "execution_count": 38,
   "metadata": {},
   "outputs": [],
   "source": [
    "def lmls(func,Jac,yhat,x,t,opts=[1e-3,1e-8,1e-8,1000]):\n",
    "    p = np.size(x)\n",
    "    I = np.eye(p)\n",
    "    nu = 2\n",
    "    tau = opts[0]\n",
    "    found = False\n",
    "    iter = 0\n",
    "    S = F(func,yhat,x,t)\n",
    "    S0 = S\n",
    "    H,g = Hg(func,Jac,yhat,x,t)\n",
    "    gn = LA.norm(g,np.inf)\n",
    "    mu = tau*max(np.diag(H))\n",
    "    rho = 0\n",
    "    sl = np.array(S)\n",
    "    gl = np.array(gn)\n",
    "    ml = np.array(mu)\n",
    "    while not found:\n",
    "        iter += 1\n",
    "        C,pd = chol(H+mu*I)\n",
    "        while not pd:\n",
    "            mu *= 2\n",
    "            C,pd = chol(H+mu*I)\n",
    "        h = cholsolve(C,-g)\n",
    "        xn = LA.norm(x,2)\n",
    "        hn = LA.norm(h,2)\n",
    "        if hn <= opts[2]*(xn+opts[2]):\n",
    "            found = True\n",
    "        else:\n",
    "            xnew = x + h\n",
    "            S = F(func,yhat,xnew,t)\n",
    "            rho = (S0-S)/(h@(mu*h-g)/2)\n",
    "            if rho>1e-3:\n",
    "                x = xnew\n",
    "                S0 = S\n",
    "                H,g = Hg(func,Jac,yhat,x,t)\n",
    "                gn = LA.norm(g,np.inf)\n",
    "                found = bool(gn<=opts[1])\n",
    "                mu *= max(1/3,1-(2*rho-1)**3)\n",
    "                nu = 2\n",
    "            else:\n",
    "                mu *= nu\n",
    "                nu *= 2\n",
    "        sl = np.append(sl,S)\n",
    "        gl = np.append(gl,gn)\n",
    "        ml = np.append(ml,mu)\n",
    "        print(*[iter,x,S,gn,rho,mu])\n",
    "    return x,iter,sl,gl,ml  "
   ]
  },
  {
   "cell_type": "code",
   "execution_count": 39,
   "metadata": {},
   "outputs": [
    {
     "name": "stdout",
     "output_type": "stream",
     "text": [
      "1 [-2.02342935 -2.93693615  1.16558548 -0.9581262 ] 0.07161240420829051 0.24765601129334266 0.9097512506455838 0.009196365333931932\n",
      "2 [-2.84934258 -4.44390339  1.42347592 -1.26377012] 0.028178259180256713 0.0630019394198711 1.0662410302516605 0.0030654551113106438\n",
      "3 [-3.43605714 -5.67887259  1.73036326 -1.69574809] 0.006191788114826239 0.08099111755133956 1.0001546321655208 0.0010218183704368811\n",
      "4 [-3.50234509 -5.79896727  1.79259424 -1.79675018] 0.005033825320850845 0.002347658384654956 0.998774051830129 0.00034060612347896037\n",
      "5 [-3.54303572 -5.73005336  1.8749221  -1.87943948] 0.0050312606692978845 0.006730069462009231 0.32022971533810235 0.0003564366790586922\n",
      "6 [-3.57045954 -5.67914268  1.94199264 -1.94612684] 0.0050235061462198995 0.003889279531187558 0.8030649928988758 0.0002770624176537298\n",
      "7 [-3.59905113 -5.62651491  2.0147563  -2.01849358] 0.005020061720791262 0.004354658278808484 0.5915075223334229 0.00027536402541674266\n",
      "8 [-3.62190422 -5.58563572  2.07747778 -2.08091954] 0.005016114511627165 0.002940059939670076 0.7790905646999257 0.00022747536905237423\n",
      "9 [-3.64465516 -5.54542999  2.14257997 -2.14573404] 0.00501376547985416 0.003003183818881785 0.6677271898442834 0.00021888850123757847\n",
      "10 [-3.66392859 -5.51206503  2.20112353 -2.2040465 ] 0.005011482825979539 0.002253585087559219 0.7720738490949993 0.000183621109911431\n",
      "11 [-3.68305949 -5.47931901  2.26163776 -2.26433625] 0.005009903321989556 0.0022878509386771266 0.6947153676294539 0.0001727765162994497\n",
      "12 [-3.69988824 -5.4509873   2.31769298 -2.3202025 ] 0.00500841234482614 0.0018410428890262287 0.7653320491321653 0.0001469572537846509\n",
      "13 [-3.71650451 -5.42330472  2.37524411 -2.377571  ] 0.005007294673629245 0.0018483680126123933 0.7082003087393471 0.0001363470158712909\n",
      "14 [-3.73148725 -5.39868669  2.42959057 -2.43175885] 0.005006256844082689 0.0015570329423401953 0.7582467841845756 0.00011756075318149535\n",
      "15 [-3.74617789 -5.37478118  2.48491175 -2.48692776] 0.0050054411533644715 0.0015404759116352182 0.7157687303298402 0.00010811323220516211\n",
      "16 [-3.75965431 -5.3531086   2.5378352  -2.53971598] 0.005004693971562928 0.0013393005984203496 0.7514490143234417 9.436272712025944e-05\n",
      "17 [-3.77278167 -5.33218518  2.59126827 -2.59302004] 0.005004087793479935 0.001306707201310344 0.7202442658867082 8.629772842483314e-05\n",
      "18 [-3.78497602 -5.31294607  2.6428522  -2.64448747] 0.005003538780403664 0.001162195830309333 0.7453289450419224 7.610393742778099e-05\n",
      "19 [-3.79679179 -5.29445708  2.69457123 -2.69609588] 0.0050030830429987575 0.0011208988309639005 0.7228386344992316 6.936690590722804e-05\n",
      "20 [-3.80787017 -5.27727607  2.74481952 -2.74624304] 0.0050026739802671106 0.0010135951999625317 0.7400453046807309 6.1691135835821e-05\n",
      "21 [-3.8185626  -5.26081868  2.79491776 -2.79624557] 0.005002328599553754 0.0009689351376601305 0.7241798036166631 5.61307848482359e-05\n",
      "22 [-3.82865648 -5.24540484  2.84380192 -2.84504138] 0.005002020707499394 0.0008866832574412065 0.735625813275792 5.0256436434547784e-05\n",
      "23 [-3.83837229 -5.23067115  2.89232646 -2.89348247] 0.005001757486817606 0.000842100187053059 0.7246705795827236 4.569690415669955e-05\n",
      "24 [-3.84758965 -5.21679156  2.93980423 -2.94088268] 0.005001524021320029 0.0007770523304337293 0.7320267050554421 4.113032821715497e-05\n",
      "25 [-3.85644603 -5.20354034  2.98677153 -2.98777677] 0.005001322652404555 0.0007345389868022717 0.7246120448266294 3.740168106810637e-05\n",
      "26 [-3.86487737 -5.19100479  3.03279444 -3.03373127] 0.005001144709947788 0.0006815667744042089 0.7291704656327701 3.380039972557891e-05\n",
      "27 [-3.87296954 -5.17904364  3.07819871 -3.07907099] 0.005000990314839282 0.0006421183768271152 0.7242456187422032 3.075121508643178e-05\n",
      "28 [-3.88069161 -5.16769474  3.12271474 -3.12352649] 0.005000854270555798 0.0005978506344785847 0.7269734519639224 2.787462846590674e-05\n",
      "29 [-3.88809789 -5.15686808  3.16653304 -3.16728765] 0.005000735805162482 0.0005618249839757818 0.7237689878802991 2.5376016778428845e-05\n",
      "30 [-3.89517617 -5.14657458  3.20948704 -3.2101879 ] 0.005000631675807741 0.0005240269904189798 0.7253654210778122 2.305234232990271e-05\n",
      "31 [-3.9019616  -5.13675518  3.25168258 -3.25233269] 0.005000540853606598 0.0004914063583950357 0.7233455274131716 2.0997697180633414e-05\n",
      "32 [-3.90845198 -5.12740709  3.29301544 -3.29361772] 0.005000461219127527 0.00045857342796744305 0.7243014320076346 1.9102048757278316e-05\n",
      "33 [-3.91467091 -5.11849007  3.33353948 -3.33409656] 0.005000391765425553 0.00042914166588922317 0.7231135283389565 1.7404791599232383e-05\n",
      "34 [-3.9206211  -5.1099951   3.37318678 -3.37370121] 0.005000331041552702 0.00040023571040683284 0.7237678679559659 1.5844693217370035e-05\n",
      "35 [-3.92631902 -5.10189358  3.4119795  -3.41245364] 0.00500027816603624 0.0003736898911644998 0.7231967043121279 1.443528384678257e-05\n",
      "36 [-3.9317695  -5.09417433  3.4498698  -3.45030588] 0.00500023210363184 0.00034797183614734134 0.7237853470022859 1.3141057447260888e-05\n",
      "37 [-3.93698446 -5.08681625  3.48686031 -3.48726041] 0.005000192121439241 0.0003239874942324479 0.7237160549378164 1.1963961789379036e-05\n",
      "38 [-3.94196925 -5.0798081   3.52291326 -3.52327939] 0.005000157455591953 0.0003009126367839038 0.7244114685537079 1.0882278432308392e-05\n",
      "39 [-3.94673277 -5.07313388  3.55801865 -3.55835268] 0.005000127511782202 0.0002791786324561861 0.7248033209083896 9.893229022380375e-06\n",
      "40 [-3.95128007 -5.06678339  3.59214272 -3.59244645] 0.005000101711749538 0.00025833223937826374 0.7257461001107841 8.982710428654445e-06\n",
      "41 [-3.95561782 -5.06074433  3.62526642 -3.62554155] 0.005000079578982862 0.0002385672682972649 0.7266171218063434 8.146384531719142e-06\n",
      "42 [-3.95975033 -5.05500803  3.65735609 -3.65760425] 0.005000060667301236 0.00021962535601162403 0.7279420375799988 7.374542950505795e-06\n",
      "43 [-3.96368251 -5.04956515  3.6883852  -3.68860794] 0.0050000445960148585 0.00020158442818699399 0.7293642501586689 6.662670347556573e-06\n",
      "44 [-3.96741766 -5.04440883  3.71831735 -3.71851617] 0.005000031015872232 0.00018429021503573242 0.7312248163235565 6.003736764341974e-06\n",
      "45 [-3.97095911 -5.03953229  3.74711869 -3.74729504] 0.005000019622467041 0.00016776653059776686 0.7333310674013929 5.393596996385775e-06\n",
      "46 [-3.97430898 -5.03493065  3.77474765 -3.77490292] 0.005000010139299696 0.00015191701363178114 0.7359283385702678 4.826954935371476e-06\n",
      "47 [-3.97746904 -5.03059958  3.80116206 -3.80129761] 0.005000002322089135 0.00013674285037659079 0.7389345752493434 4.300210169182324e-06\n",
      "48 [-3.98043998 -5.02653642  3.82631251 -3.82642966] 0.004999995949823948 0.0001221827713034987 0.7425595717834925 3.809262818683403e-06\n",
      "49 [-3.98322187 -5.02273943  3.85014632 -3.85024637] 0.004999990825447342 0.00010823222957510176 0.7468129897538394 3.3510840473834635e-06\n",
      "50 [-3.98581366 -5.01920855  3.87260267 -3.8726869 ] 0.004999986770777974 9.48551278297724e-05 0.7519214095242069 2.9224659146006914e-06\n",
      "51 [-3.98821337 -5.01594508  3.89361444 -3.89368411] 0.004999983625888918 8.205228593836239e-05 0.7580003572437833 2.520952219086543e-06\n",
      "52 [-3.99041762 -5.01295227  3.91310391 -3.91316029] 0.004999981246024339 6.981162774640642e-05 0.7653618460399821 2.1441008992232397e-06\n",
      "53 [-3.99242167 -5.01023534  3.93098268 -3.93102705] 0.0049999795006490915 5.815108866811386e-05 0.7742931430476873 1.7901198119570056e-06\n",
      "54 [-3.99421884 -5.0078022   3.94714671 -3.94718036] 0.004999978271518113 4.70917585408924e-05 0.7853222288918842 1.4574764126526364e-06\n",
      "55 [-3.99580025 -5.00566381  3.9614739  -3.96149817] 0.00499997745184472 3.669080662780169e-05 0.7990861726909151 1.1455296178022872e-06\n",
      "56 [-3.99715406 -5.00383523  3.97381709 -3.97383338] 0.004999976945223037 2.7035192152542048e-05 0.8166159085554726 8.546625808688608e-07\n",
      "57 [-3.99826489 -5.00233635  3.98399926 -3.98400902] 0.004999976665296845 1.8283974157887184e-05 0.8392585572394714 5.876835763125013e-07\n",
      "58 [-3.99911338 -5.00119255  3.99180997 -3.99181477] 0.0049999765358105155 1.0705195899372855e-05 0.8686999046948134 3.5204162146805116e-07\n",
      "59 [-3.99967922 -5.0004306   3.99703456 -3.99703609] 0.004999976491925174 4.771719132171115e-06 0.9051115895040415 1.6479758151532275e-07\n",
      "60 [-3.99995941 -5.00005399  3.99962549 -3.99962542] 0.004999976483856135 1.1704422918645818e-06 0.940330408519308 5.493252717177425e-08\n",
      "61 [-4.0000253  -4.99996602  4.00023376 -4.00023335] 0.004999976483462969 6.438141201409175e-08 0.959083059982544 1.8310842390591416e-08\n",
      "62 [-4.00002667 -4.99996442  4.00024577 -4.00024536] 0.0049999764834620375 5.35109768995401e-11 1.0239367087696196 6.103614130197139e-09\n"
     ]
    }
   ],
   "source": [
    "x0 = [-1,-2,1,-1]\n",
    "x,iter,sl,gl,ml= lmls(ex2,Jex2,yhat,x0,t,[1e-3,1e-8,1e-8,10])"
   ]
  },
  {
   "cell_type": "code",
   "execution_count": 41,
   "metadata": {},
   "outputs": [],
   "source": [
    "x = np.linspace(0,iter,iter+1)"
   ]
  },
  {
   "cell_type": "code",
   "execution_count": 42,
   "metadata": {},
   "outputs": [
    {
     "data": {
      "text/plain": [
       "[<matplotlib.lines.Line2D at 0x7fbab50eb4e0>]"
      ]
     },
     "execution_count": 42,
     "metadata": {},
     "output_type": "execute_result"
    },
    {
     "data": {
      "image/png": "[encoded data removed]",
      "text/plain": [
       "<Figure size 432x288 with 1 Axes>"
      ]
     },
     "metadata": {
      "needs_background": "light"
     },
     "output_type": "display_data"
    }
   ],
   "source": [
    "plt.plot(x,sl,'bs')\n",
    "plt.yscale('log')\n",
    "plt.plot(x,gl,'ro')\n",
    "plt.plot(x,ml,'g^')"
   ]
  },
  {
   "cell_type": "code",
   "execution_count": 24,
   "metadata": {},
   "outputs": [
    {
     "name": "stdout",
     "output_type": "stream",
     "text": [
      "1\n",
      "2\n"
     ]
    }
   ],
   "source": [
    "for i in range(1,3):\n",
    "    print(i)"
   ]
  }
 ],
 "metadata": {
  "kernelspec": {
   "display_name": "Python 3",
   "language": "python",
   "name": "python3"
  },
  "language_info": {
   "codemirror_mode": {
    "name": "ipython",
    "version": 3
   },
   "file_extension": ".py",
   "mimetype": "text/x-python",
   "name": "python",
   "nbconvert_exporter": "python",
   "pygments_lexer": "ipython3",
   "version": "3.7.3"
  }
 },
 "nbformat": 4,
 "nbformat_minor": 2
}
