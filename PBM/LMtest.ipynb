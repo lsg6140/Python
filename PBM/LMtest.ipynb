{
 "cells": [
  {
   "cell_type": "code",
   "execution_count": 91,
   "metadata": {},
   "outputs": [],
   "source": [
    "import GN_ode as gn\n",
    "import numpy as np\n",
    "from scipy.integrate import odeint, solve_ivp\n",
    "import pandas as pd\n",
    "import matplotlib.pyplot as plt\n",
    "import numpy.linalg as LA"
   ]
  },
  {
   "cell_type": "markdown",
   "metadata": {},
   "source": [
    "## Newton's method\n",
    "Solve $\\mathbf{f}''(\\mathbf{x})\\mathbf{h}=-\\mathbf{f'(x)}$"
   ]
  },
  {
   "cell_type": "code",
   "execution_count": 132,
   "metadata": {},
   "outputs": [],
   "source": [
    "def ex1(x):\n",
    "    return 0.5*x[0]**2*(x[0]**2/6+1)+x[1]*np.arctan(x[1])-0.5*np.log(x[1]**2+1)\n",
    "def d1ex1(x):\n",
    "    r1 = x[0]**3/3+x[0]\n",
    "    r2 = np.arctan(x[1])\n",
    "    return np.array([r1,r2])\n",
    "def d2ex1(x):\n",
    "    r11 = x[0]**2+1\n",
    "    r22 = 1/(1+x[1]**2)\n",
    "    return np.array([[r11,0],[0,r22]])"
   ]
  },
  {
   "cell_type": "code",
   "execution_count": 143,
   "metadata": {},
   "outputs": [],
   "source": [
    "def newton(x):\n",
    "    iter = 0\n",
    "    f = ex1(x)\n",
    "    d1n = LA.norm(d1ex1(x))\n",
    "    hn = 0\n",
    "    while iter<=5:\n",
    "        iter += 1\n",
    "        print(*[x,f,d1n,hn])\n",
    "        h = LA.solve(d2ex1(x),-d1ex1(x))\n",
    "        x = x + h\n",
    "        f = ex1(x)\n",
    "        d1n = LA.norm(d1ex1(x))\n",
    "        hn = LA.norm(h)\n",
    "    return x"
   ]
  },
  {
   "cell_type": "code",
   "execution_count": 144,
   "metadata": {},
   "outputs": [
    {
     "name": "stdout",
     "output_type": "stream",
     "text": [
      "[1, 0.7] 0.8114534484270954 1.466548322203161 0\n",
      "[ 0.33333333 -0.20998169] 0.07847129726922965 0.4029050598080402 1.1280563438988624\n",
      "[0.02222222 0.00611896] 0.00026565460930539394 0.02305277561832044 0.3788002273222916\n",
      "[ 7.3123469e-06 -1.5273477e-07] 2.6746879144831864e-11 7.3139418280887725e-06 0.023042259817480305\n",
      "[2.60662531e-16 2.38228016e-21] 3.397247755400034e-32 2.606625310671356e-16 7.313941827697864e-06\n",
      "[0. 0.] 0.0 0.0 2.606625310671356e-16\n"
     ]
    }
   ],
   "source": [
    "x = newton([1,0.7])"
   ]
  },
  {
   "cell_type": "code",
   "execution_count": 145,
   "metadata": {},
   "outputs": [
    {
     "name": "stdout",
     "output_type": "stream",
     "text": [
      "[1, 2] 1.992911812704464 1.7330770499579284 0\n",
      "[ 0.33333333 -3.53574359] 3.334570302914684 1.340506199335136 5.575742240031537\n",
      "[ 0.02222222 13.95095909] 18.277958953041583 1.499403790524476 17.489469991932662\n",
      "[ 7.31234690e-06 -2.79344067e+02] 432.16018725172415 1.5672165273884322 293.2950264618516\n",
      "[2.60662531e-16 1.22016999e+05] 191651.14179121036 1.5707881312155196 122296.3429844881\n",
      "[ 0.00000000e+00 -2.33860042e+10] 36734649467.649124 1.570796326752136 23386126214.93277\n"
     ]
    }
   ],
   "source": [
    "x = newton([1,2])"
   ]
  },
  {
   "cell_type": "markdown",
   "metadata": {},
   "source": [
    "## Levenberg-Marquardt method"
   ]
  },
  {
   "cell_type": "code",
   "execution_count": 181,
   "metadata": {},
   "outputs": [],
   "source": [
    "def lm(func,d1,d2,x,opts=[1e-3,1e-8,1e-8,1000]):\n",
    "    p = np.size(x)\n",
    "    I = np.eye(p)\n",
    "    nu = 2\n",
    "    mu = opts[0]\n",
    "    f0 = func(x)\n",
    "    found = False\n",
    "    iter = 0\n",
    "    H = d2(x)\n",
    "    g = d1(x)\n",
    "    while not found:\n",
    "        iter += 1\n",
    "        h = LA.solve(H+mu*I,-g)\n",
    "        xn = LA.norm(x,2)\n",
    "        hn = LA.norm(h,2)\n",
    "        if hn <= opts[2]*(xn+opts[2]):\n",
    "            found = True\n",
    "        else:\n",
    "            xnew = x + h\n",
    "            f = func(xnew)\n",
    "            rho = (f0-f)/(-h@g-h@H@h/2)\n",
    "            if rho>1e-3:\n",
    "                x = xnew\n",
    "                f0 = f\n",
    "                H = d2(x)\n",
    "                g = d1(x)\n",
    "                gn = LA.norm(g,np.inf)\n",
    "                found = bool(gn<=opts[1])\n",
    "                mu *= max(1/3,1-(2*rho-1)**3)\n",
    "                nu = 2\n",
    "            else:\n",
    "                mu *= nu\n",
    "                nu *= 2\n",
    "        print(*[iter,x,f,gn,rho,mu])\n",
    "    return x    "
   ]
  },
  {
   "cell_type": "code",
   "execution_count": 182,
   "metadata": {},
   "outputs": [],
   "source": [
    "x0 = [1,2]"
   ]
  },
  {
   "cell_type": "code",
   "execution_count": 183,
   "metadata": {},
   "outputs": [
    {
     "name": "stdout",
     "output_type": "stream",
     "text": [
      "1 [0.55555556 1.07737607] 0.6633138106211669 0.8226279732113916 0.9986314333678693 0.3333333333333333\n",
      "2 [0.18240045 0.04410287] 0.01769941831974399 0.18442326178999555 0.8719008911702721 0.19616609671433488\n",
      "3 [0.03239405 0.00719666] 0.000550674855304072 0.032405384442749874 1.009563547686992 0.06538869890477829\n",
      "4 [0.00200749 0.00044149] 2.1124712707302104e-06 0.0020074960355820994 1.0004219158888992 0.02179623296825943\n",
      "5 [4.28275345e-05 9.41742288e-06] 9.614427360237247e-10 4.282753451115148e-05 1.0000018110439293 0.00726541098941981\n",
      "6 [3.08915295e-07 6.79279228e-08] 4.9997064067420426e-14 3.089152949211551e-07 0.9999999782375907 0.0024218036631399363\n",
      "7 [7.46324741e-10 1.64110649e-10] 3.0543261439581334e-19 7.463247408682824e-10 0.9995125967183283 0.0008072678877133121\n"
     ]
    }
   ],
   "source": [
    "res = lm(ex1,d1ex1,d2ex1,x0,[1,1e-8,1e-12,10])"
   ]
  },
  {
   "cell_type": "code",
   "execution_count": 184,
   "metadata": {},
   "outputs": [
    {
     "data": {
      "text/plain": [
       "array([7.46324741e-10, 1.64110649e-10])"
      ]
     },
     "execution_count": 184,
     "metadata": {},
     "output_type": "execute_result"
    }
   ],
   "source": [
    "res"
   ]
  },
  {
   "cell_type": "markdown",
   "metadata": {},
   "source": [
    "# Fitting  model\n",
    "$$M(\\mathbf{x},t)=x_3e^{x_1t}+x_4e^{x_2t}$$\n",
    "## Measurements"
   ]
  },
  {
   "cell_type": "code",
   "execution_count": 50,
   "metadata": {},
   "outputs": [],
   "source": [
    "df = pd.read_csv(\"efit1.dat\",delimiter=' ',header=None)"
   ]
  },
  {
   "cell_type": "code",
   "execution_count": 54,
   "metadata": {},
   "outputs": [],
   "source": [
    "t = np.array(df[3])\n",
    "yhat = np.array(df[7])"
   ]
  },
  {
   "cell_type": "markdown",
   "metadata": {},
   "source": [
    "## Least squares\n",
    "$$f_i(\\mathbf{x})=y_i-M(\\mathbf{x},t_i)$$\n",
    "$$F(\\mathbf{x})=\\frac{1}{2}\\sum_{i=1}^mf_i(\\mathbf{x})^2$$\n",
    "## Jacobian\n",
    "$$\\left(\\mathbf{J}(\\mathbf{x})\\right)_{ij}=\\frac{\\partial f_i}{\\partial x_j}(\\mathbf{x})$$\n",
    "$$\\mathbf{J}(\\mathbf{x})_i=\\begin{bmatrix}-x_3t_ie^{x_1t_i}&-x_4t_ie^{x_2t_i}&-e^{x_1t_i}&-e^{x_2t_i}\\end{bmatrix}$$"
   ]
  },
  {
   "cell_type": "code",
   "execution_count": 174,
   "metadata": {},
   "outputs": [],
   "source": [
    "def ex2(x,t):    \n",
    "    return x[2]*np.exp(x[0]*t)+x[3]*np.exp(x[1]*t)\n",
    "\n",
    "def Jex2(x,t):\n",
    "    j1 = -x[2]*t*np.exp(x[0]*t)\n",
    "    j2 = -x[3]*t*np.exp(x[1]*t)\n",
    "    j3 = -np.exp(x[0]*t)\n",
    "    j4 = -np.exp(x[1]*t)\n",
    "    return np.array([j1,j2,j3,j4])"
   ]
  },
  {
   "cell_type": "code",
   "execution_count": 175,
   "metadata": {},
   "outputs": [],
   "source": [
    "def Hg(func,J,yhat,x,t):\n",
    "    m = func(x,t)\n",
    "    f = yhat-m\n",
    "    J = J(x,t).T\n",
    "    H = J.T@J\n",
    "    g = J.T@f\n",
    "    return H, g"
   ]
  },
  {
   "cell_type": "code",
   "execution_count": 180,
   "metadata": {},
   "outputs": [],
   "source": [
    "def F(func,yhat,x,t):\n",
    "    m = func(x,t)\n",
    "    f = yhat-m\n",
    "    return np.dot(f,f)/2"
   ]
  },
  {
   "cell_type": "markdown",
   "metadata": {},
   "source": [
    "## Gauss-Newton method\n",
    "$$\\mathbf{H=J^\\top J}$$\n",
    "$$\\mathbf{g=J^\\top f}$$\n",
    "Solve\n",
    "$$\\mathbf{Hh=-g}$$"
   ]
  },
  {
   "cell_type": "code",
   "execution_count": 191,
   "metadata": {},
   "outputs": [],
   "source": [
    "def gn(func,J,yhat,x,t,opts=[1e-8,1e-8,1000]):\n",
    "    found = False\n",
    "    iter = 0\n",
    "    S = F(func,yhat,x,t)\n",
    "    H,g = Hg(func,J,yhat,x,t)\n",
    "    gn = LA.norm(g,np.inf)\n",
    "    while not found:\n",
    "        iter += 1\n",
    "        h = LA.solve(H,-g)\n",
    "        xn = LA.norm(x,2)\n",
    "        hn = LA.norm(h,2)\n",
    "        if hn <= opts[1]*(xn+opts[1]):\n",
    "            found = True\n",
    "        else:\n",
    "            x += h\n",
    "            S = F(func,yhat,x,t)\n",
    "            H,g = Hg(func,J,yhat,x,t)\n",
    "            gn = LA.norm(g,np.inf)\n",
    "            found = bool(gn<=opts[0])\n",
    "        print(*[iter,x,S,gn])\n",
    "    return x"
   ]
  },
  {
   "cell_type": "code",
   "execution_count": 196,
   "metadata": {},
   "outputs": [],
   "source": [
    "x = np.array([-4,-5,4,-4])\n",
    "x0 = [-3,-6,3,-3]"
   ]
  },
  {
   "cell_type": "code",
   "execution_count": 198,
   "metadata": {},
   "outputs": [
    {
     "name": "stdout",
     "output_type": "stream",
     "text": [
      "1 [-3.2577303  -5.77198388  1.82515609 -1.82567999] 0.04056132808533103 0.5488055801536558\n",
      "2 [-3.67075968 -5.35515906  2.19597004 -2.19611385] 0.010384311948224676 0.21606653723870717\n",
      "3 [-3.94519986 -5.05437361  3.12462439 -3.12458962] 0.02420654641808777 0.37123418711582584\n",
      "4 [-4.00299501 -4.99774073  3.92878432 -3.92878744] 0.005587530407932267 0.06368190365243927\n",
      "5 [-4.00035739 -4.99948182  4.00377927 -4.00377686] 0.0049999847494690474 0.00023523610982514181\n",
      "6 [-3.99997651 -5.00003353  3.99977338 -3.99977335] 0.004999976484523449 2.5662580767082943e-06\n",
      "7 [-4.00003262 -4.99995618  4.0003014  -4.00030094] 0.004999976483464079 4.84431537453589e-08\n",
      "8 [-4.00002596 -4.99996541  4.00023907 -4.00023867] 0.004999976483462053 8.58306523077168e-10\n"
     ]
    }
   ],
   "source": [
    "res = gn(ex2,Jex2,yhat,x0,t,[1e-8,1e-8,10])"
   ]
  },
  {
   "cell_type": "code",
   "execution_count": 85,
   "metadata": {},
   "outputs": [
    {
     "data": {
      "text/plain": [
       "0.009999952967396152"
      ]
     },
     "execution_count": 85,
     "metadata": {},
     "output_type": "execute_result"
    }
   ],
   "source": [
    "F(model,yhat,x,t)"
   ]
  },
  {
   "cell_type": "markdown",
   "metadata": {},
   "source": [
    "## LM method"
   ]
  },
  {
   "cell_type": "code",
   "execution_count": 241,
   "metadata": {},
   "outputs": [],
   "source": [
    "def lmls(func,J,yhat,x,t,opts=[1e-3,1e-8,1e-8,1000]):\n",
    "    p = np.size(x)\n",
    "    I = np.eye(p)\n",
    "    nu = 2\n",
    "    tau = opts[0]\n",
    "    found = False\n",
    "    iter = 0\n",
    "    S = F(func,yhat,x,t)\n",
    "    S0 = S\n",
    "    H,g = Hg(func,J,yhat,x,t)\n",
    "    gn = LA.norm(g,np.inf)\n",
    "    mu = tau*max(np.diag(H))\n",
    "    rho = 0\n",
    "    sl = np.array(S)\n",
    "    gl = np.array(gn)\n",
    "    ml = np.array(mu)\n",
    "    while not found:\n",
    "        iter += 1\n",
    "        h = LA.solve(H+mu*I,-g)\n",
    "        xn = LA.norm(x,2)\n",
    "        hn = LA.norm(h,2)\n",
    "        if hn <= opts[2]*(xn+opts[2]):\n",
    "            found = True\n",
    "        else:\n",
    "            xnew = x + h\n",
    "            S = F(func,yhat,xnew,t)\n",
    "            rho = (S0-S)/(h@(mu*h-g)/2)\n",
    "            if rho>1e-3:\n",
    "                x = xnew\n",
    "                S0 = S\n",
    "                H,g = Hg(func,J,yhat,x,t)\n",
    "                gn = LA.norm(g,np.inf)\n",
    "                found = bool(gn<=opts[1])\n",
    "                mu *= max(1/3,1-(2*rho-1)**3)\n",
    "                nu = 2\n",
    "            else:\n",
    "                mu *= nu\n",
    "                nu *= 2\n",
    "        sl = np.append(sl,S)\n",
    "        gl = np.append(gl,gn)\n",
    "        ml = np.append(ml,mu)\n",
    "        print(*[iter,x,S,gn,rho,mu])\n",
    "    return x,iter,sl,gl,ml  "
   ]
  },
  {
   "cell_type": "code",
   "execution_count": 242,
   "metadata": {},
   "outputs": [
    {
     "name": "stdout",
     "output_type": "stream",
     "text": [
      "1 [-2.02342935 -2.93693615  1.16558548 -0.9581262 ] 0.07161240420829074 0.24765601129333512 0.9097512506455863 0.009196365333931731\n",
      "2 [-2.84934258 -4.44390339  1.42347592 -1.26377012] 0.028178259180255273 0.06300193941990175 1.0662410302516978 0.003065455111310577\n",
      "3 [-3.43605714 -5.67887259  1.73036326 -1.69574809] 0.006191788114826111 0.08099111755129651 1.0001546321655428 0.001021818370436859\n",
      "4 [-3.50234509 -5.79896727  1.79259424 -1.79675018] 0.005033825320850841 0.002347658384651563 0.9987740518301147 0.000340606123478953\n",
      "5 [-3.54303572 -5.73005336  1.8749221  -1.87943948] 0.005031260669297913 0.006730069462029097 0.32022971533347483 0.00035643667905990706\n",
      "6 [-3.57045954 -5.67914268  1.94199264 -1.94612684] 0.005023506146219912 0.0038892795311592093 0.8030649928995907 0.0002770624176541125\n",
      "7 [-3.59905113 -5.62651491  2.0147563  -2.01849358] 0.005020061720791249 0.0043546582787797085 0.5915075223423597 0.00027536402541662535\n",
      "8 [-3.62190422 -5.58563572  2.07747778 -2.08091954] 0.005016114511627188 0.0029400599397071923 0.7790905646935814 0.00022747536905554314\n",
      "9 [-3.64465516 -5.54542999  2.14257997 -2.14573404] 0.005013765479854151 0.0030031838188159 0.6677271898527448 0.0002188885012393282\n",
      "10 [-3.66392859 -5.51206503  2.20112353 -2.2040465 ] 0.005011482825979555 0.002253585087581847 0.7720738490931571 0.0001836211099136152\n",
      "11 [-3.68305949 -5.47931901  2.26163776 -2.26433625] 0.005009903321989531 0.0022878509386126435 0.6947153676507363 0.00017277651629794897\n",
      "12 [-3.69988824 -5.4509873   2.31769298 -2.3202025 ] 0.005008412344826168 0.0018410428890806227 0.7653320491093153 0.000146957253790045\n",
      "13 [-3.71650451 -5.42330472  2.37524411 -2.377571  ] 0.005007294673629224 0.0018483680124758255 0.7082003087787025 0.00013634701587027868\n",
      "14 [-3.73148725 -5.39868669  2.42959057 -2.43175885] 0.005006256844082723 0.0015570329424472833 0.7582467841536834 0.00011756075318736441\n",
      "15 [-3.74617789 -5.37478118  2.48491175 -2.48692776] 0.005005441153364471 0.0015404759114751726 0.7157687303606559 0.00010811323220651167\n",
      "16 [-3.75965431 -5.3531086   2.5378352  -2.53971598] 0.005004693971562977 0.0013393005984012052 0.7514490143213881 9.436272712177427e-05\n",
      "17 [-3.77278167 -5.33218518  2.59126827 -2.59302004] 0.005004087793479967 0.0013067072012602002 0.7202442659234815 8.629772842217875e-05\n",
      "18 [-3.78497602 -5.31294607  2.6428522  -2.64448747] 0.005003538780403724 0.001162195830382462 0.7453289450007315 7.610393743057477e-05\n",
      "19 [-3.79679179 -5.29445708  2.69457123 -2.69609588] 0.00500308304299878 0.0011208988308444787 0.7228386345645815 6.936690590384738e-05\n",
      "20 [-3.80787017 -5.27727607  2.74481952 -2.74624304] 0.005002673980267176 0.0010135952001440116 0.7400453045926398 6.16911358412649e-05\n",
      "21 [-3.8185626  -5.26081868  2.79491776 -2.79624557] 0.005002328599553761 0.0009689351374577194 0.7241798037227236 5.6130784845297246e-05\n",
      "22 [-3.82865648 -5.24540484  2.84380192 -2.84504138] 0.005002020707499437 0.0008866832575622242 0.7356258132394364 5.0256436434635794e-05\n",
      "23 [-3.83837229 -5.23067115  2.89232646 -2.89348247] 0.005001757486817601 0.0008421001870365374 0.7246705796623232 4.569690415193332e-05\n",
      "24 [-3.84758965 -5.21679156  2.93980423 -2.94088268] 0.005001524021320047 0.0007770523305635664 0.732026704953803 4.1130328218866203e-05\n",
      "25 [-3.85644603 -5.20354034  2.98677153 -2.98777677] 0.005001322652404532 0.0007345389867089817 0.7246120449372319 3.740168106415434e-05\n",
      "26 [-3.86487737 -5.19100479  3.03279444 -3.03373127] 0.005001144709947796 0.0006815667745587693 0.7291704655001251 3.3800399728260734e-05\n",
      "27 [-3.87296954 -5.17904364  3.07819871 -3.07907099] 0.005000990314839265 0.000642118376781884 0.7242456187675921 3.0751215087835994e-05\n",
      "28 [-3.88069161 -5.16769474  3.12271474 -3.12352649] 0.00500085427055583 0.0005978506344286316 0.7269734517544861 2.7874628475142575e-05\n",
      "29 [-3.88809789 -5.15686808  3.16653304 -3.16728765] 0.005000735805162472 0.0005618249837026634 0.7237689882710968 2.5376016773745823e-05\n",
      "30 [-3.89517617 -5.14657458  3.20948704 -3.2101879 ] 0.005000631675807794 0.0005240269906569735 0.7253654207231414 2.305234233661922e-05\n",
      "31 [-3.9019616  -5.13675518  3.25168258 -3.25233269] 0.005000540853606588 0.0004914063581793297 0.7233455278091705 2.0997697175822426e-05\n",
      "32 [-3.90845198 -5.12740709  3.29301544 -3.29361772] 0.0050004612191275645 0.0004585734282462478 0.724301431587459 1.9102048763554803e-05\n",
      "33 [-3.91467091 -5.11849007  3.33353948 -3.33409656] 0.005000391765425523 0.0004291416656399538 0.7231135289037507 1.7404791592061775e-05\n",
      "34 [-3.9206211  -5.1099951   3.37318678 -3.37370121] 0.00500033104155273 0.00040023571071984634 0.723767867321942 1.5844693224103324e-05\n",
      "35 [-3.92631902 -5.10189358  3.4119795  -3.41245364] 0.0050002781660362415 0.00037368989087311136 0.7231967045218382 1.4435283848944181e-05\n",
      "36 [-3.9317695  -5.09417433  3.4498698  -3.45030588] 0.005000232103631821 0.0003479718360017148 0.72378534778555 1.3141057435639051e-05\n",
      "37 [-3.93698446 -5.08681625  3.48686031 -3.48726041] 0.005000192121439282 0.0003239874947148953 0.7237160536898755 1.1963961798496564e-05\n",
      "38 [-3.94196925 -5.0798081   3.52291326 -3.52327939] 0.005000157455591948 0.0003009126362690552 0.7244114693097514 1.0882278429668995e-05\n",
      "39 [-3.94673277 -5.07313388  3.55801865 -3.55835268] 0.005000127511782239 0.0002791786325133695 0.7248033206136567 9.893229023871001e-06\n",
      "40 [-3.95128007 -5.06678339  3.59214272 -3.59244645] 0.005000101711749554 0.0002583322393418033 0.7257461006057176 8.982710424019125e-06\n",
      "41 [-3.95561782 -5.06074433  3.62526642 -3.62554155] 0.005000079578982867 0.00023856726860979616 0.7266171218647334 8.146384526868928e-06\n",
      "42 [-3.95975033 -5.05500803  3.65735609 -3.65760425] 0.005000060667301252 0.0002196253562929719 0.7279420362168876 7.374542959962141e-06\n",
      "43 [-3.96368251 -5.04956515  3.6883852  -3.68860794] 0.005000044596014851 0.00020158442757321066 0.7293642515220694 6.662670343405423e-06\n",
      "44 [-3.96741766 -5.04440883  3.71831735 -3.71851617] 0.005000031015872276 0.00018429021519267286 0.7312248147050643 6.003736774438278e-06\n",
      "45 [-3.97095911 -5.03953229  3.74711869 -3.74729504] 0.0050000196224670185 0.0001677665300256273 0.7333310721859334 5.393596967922594e-06\n",
      "46 [-3.97430898 -5.03493065  3.77474765 -3.77490292] 0.005000010139299705 0.0001519170151611654 0.7359283351321496 4.8269549346711405e-06\n",
      "47 [-3.97746904 -5.03059958  3.80116206 -3.80129761] 0.005000002322089144 0.00013674285032255762 0.7389345707971281 4.300210198003893e-06\n",
      "48 [-3.98043998 -5.02653642  3.82631251 -3.82642966] 0.004999995949823918 0.00012218276978892897 0.7425595797700137 3.8092627957196366e-06\n",
      "49 [-3.98322187 -5.02273943  3.85014632 -3.85024637] 0.004999990825447375 0.0001082322308813867 0.746812983038325 3.3510840645814273e-06\n",
      "50 [-3.98581366 -5.01920855  3.87260267 -3.8726869 ] 0.004999986770777954 9.485512688586079e-05 0.75192141638602 2.922465894574972e-06\n",
      "51 [-3.98821337 -5.01594508  3.89361444 -3.89368411] 0.004999983625888955 8.205228702182904e-05 0.7580003448323012 2.5209522597583272e-06\n",
      "52 [-3.99041762 -5.01295227  3.91310391 -3.91316029] 0.004999981246024297 6.981162578030553e-05 0.7653618720860679 2.144100822847713e-06\n",
      "53 [-3.99242167 -5.01023534  3.93098268 -3.93102705] 0.004999979500649104 5.815109231647325e-05 0.7742931162969904 1.790119851757725e-06\n",
      "54 [-3.99421884 -5.0078022   3.94714671 -3.94718036] 0.004999978271518097 4.709175639314514e-05 0.7853222308114772 1.4574764383436293e-06\n",
      "55 [-3.99580025 -5.00566381  3.9614739  -3.96149817] 0.004999977451844727 3.669080555926407e-05 0.7990861798319864 1.145529615650175e-06\n",
      "56 [-3.99715406 -5.00383523  3.97381709 -3.97383338] 0.004999976945223052 2.7035192565718486e-05 0.8166159020012608 8.546625973267681e-07\n",
      "57 [-3.99826489 -5.00233635  3.98399926 -3.98400902] 0.004999976665296838 1.828397387046779e-05 0.8392586171599564 5.876834461662662e-07\n",
      "58 [-3.99911338 -5.00119255  3.99180997 -3.99181477] 0.00499997653581051 1.070519877006959e-05 0.8686998371661803 3.520416729820213e-07\n",
      "59 [-3.99967922 -5.0004306   3.99703456 -3.99703609] 0.004999976491925184 4.771717542827875e-06 0.9051112486971894 1.6479807819616736e-07\n",
      "60 [-3.99995941 -5.00005399  3.99962549 -3.99962542] 0.004999976483856145 1.170440402258055e-06 0.9403308436681147 5.493269273205578e-08\n",
      "61 [-4.0000253  -4.99996602  4.00023376 -4.00023335] 0.004999976483462949 6.438180601142651e-08 0.9591553172127582 1.8310897577351925e-08\n",
      "62 [-4.00002667 -4.99996442  4.00024577 -4.00024536] 0.004999976483462037 5.351440297840515e-11 1.0029491986005017 6.103632525783975e-09\n"
     ]
    }
   ],
   "source": [
    "x0 = [-1,-2,1,-1]\n",
    "x,iter,sl,gl,ml= lmls(ex2,Jex2,yhat,x0,t,[1e-3,1e-8,1e-8,10])"
   ]
  },
  {
   "cell_type": "code",
   "execution_count": 244,
   "metadata": {},
   "outputs": [],
   "source": [
    "x = np.linspace(0,iter,iter+1)"
   ]
  },
  {
   "cell_type": "code",
   "execution_count": 245,
   "metadata": {},
   "outputs": [
    {
     "data": {
      "text/plain": [
       "[<matplotlib.lines.Line2D at 0x7f7d40584860>]"
      ]
     },
     "execution_count": 245,
     "metadata": {},
     "output_type": "execute_result"
    },
    {
     "data": {
      "image/png": "[encoded data removed]",
      "text/plain": [
       "<Figure size 432x288 with 1 Axes>"
      ]
     },
     "metadata": {
      "needs_background": "light"
     },
     "output_type": "display_data"
    }
   ],
   "source": [
    "plt.plot(x,sl,'bs')\n",
    "plt.yscale('log')\n",
    "plt.plot(x,gl,'ro')\n",
    "plt.plot(x,ml,'g^')"
   ]
  }
 ],
 "metadata": {
  "kernelspec": {
   "display_name": "Python 3",
   "language": "python",
   "name": "python3"
  },
  "language_info": {
   "codemirror_mode": {
    "name": "ipython",
    "version": 3
   },
   "file_extension": ".py",
   "mimetype": "text/x-python",
   "name": "python",
   "nbconvert_exporter": "python",
   "pygments_lexer": "ipython3",
   "version": "3.7.3"
  }
 },
 "nbformat": 4,
 "nbformat_minor": 2
}
