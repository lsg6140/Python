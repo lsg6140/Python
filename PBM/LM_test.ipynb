{
 "cells": [
  {
   "cell_type": "code",
   "execution_count": 1,
   "metadata": {},
   "outputs": [],
   "source": [
    "import pe_ode as pe\n",
    "import numpy as np\n",
    "from numpy import linalg as LA\n",
    "import matplotlib.pyplot as plt\n",
    "from scipy.integrate import solve_ivp, odeint"
   ]
  },
  {
   "cell_type": "code",
   "execution_count": 2,
   "metadata": {},
   "outputs": [],
   "source": [
    "yhat_model1=np.array([[0,1.4,6.3,10.5,14.2,17.6,21.4,23.0,27.0,30.5,34.4,38.8,41.6,43.5,45.3]])\n",
    "t_model1 = np.array([0,1,2,3,4,5,6,7,9,11,14,19,24,29,39])\n",
    "k_model1 = np.array([0.4577e-5,0.2796e-3])"
   ]
  },
  {
   "cell_type": "code",
   "execution_count": 3,
   "metadata": {},
   "outputs": [],
   "source": [
    "def model1_scaled_pe(u,kbar):\n",
    "    dudt = kbar[0]*(126.2/91.9-u)*(1-u)**2-kbar[1]*u**2\n",
    "    return dudt"
   ]
  },
  {
   "cell_type": "code",
   "execution_count": 4,
   "metadata": {},
   "outputs": [],
   "source": [
    "k_guess1 = np.array([1e-6,1e-6])\n",
    "yc1 = 91.9\n",
    "tc1 = t_model1[-1]\n",
    "yhat_bar1 = yhat_model1/yc1\n",
    "tbar1 = t_model1/tc1\n",
    "kbar1 = np.empty(2)\n",
    "kbar1[0] = k_model1[0]*yc1**2*tc1\n",
    "kbar1[1] = k_model1[1]*yc1*tc1\n",
    "kbar10 = np.empty(2)\n",
    "kbar10[0] = k_guess1[0]*yc1**2*tc1\n",
    "kbar10[1] = k_guess1[1]*yc1*tc1\n",
    "Q1 = np.eye(1)"
   ]
  },
  {
   "cell_type": "code",
   "execution_count": 5,
   "metadata": {},
   "outputs": [
    {
     "name": "stdout",
     "output_type": "stream",
     "text": [
      "Iteration | Evaluation | Objective function | Reduced gradient | mu\n",
      "         0|           1|          4.7501e-01|          2.49e-01|1.3e-03\n",
      "         1|           2|          5.7400e-02|          1.19e-01|4.3e-04\n",
      "         2|           3|          1.1670e-02|          1.88e-02|1.4e-04\n",
      "         3|           4|          1.0668e-02|          9.06e-04|4.8e-05\n",
      "         4|           5|          1.0584e-02|          8.49e-05|1.6e-05\n",
      "         5|           6|          9.7612e-03|          4.74e-04|5.4e-06\n",
      "         6|           7|          2.9080e-03|          1.10e-03|1.8e-06\n",
      "         7|           8|          2.5892e-03|          1.60e-04|6.0e-07\n",
      "         8|           9|          2.5891e-03|          4.19e-06|2.0e-07\n",
      "         9|          10|          2.5891e-03|          3.72e-07|6.6e-08\n"
     ]
    }
   ],
   "source": [
    "pe1 = pe.lm(model1_scaled_pe,yhat_bar1,Q1,kbar10,tbar1)"
   ]
  }
 ],
 "metadata": {
  "kernelspec": {
   "display_name": "Python 3",
   "language": "python",
   "name": "python3"
  },
  "language_info": {
   "codemirror_mode": {
    "name": "ipython",
    "version": 3
   },
   "file_extension": ".py",
   "mimetype": "text/x-python",
   "name": "python",
   "nbconvert_exporter": "python",
   "pygments_lexer": "ipython3",
   "version": "3.7.3"
  }
 },
 "nbformat": 4,
 "nbformat_minor": 2
}
