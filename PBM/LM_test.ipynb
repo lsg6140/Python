{
 "cells": [
  {
   "cell_type": "code",
   "execution_count": 1,
   "metadata": {},
   "outputs": [],
   "source": [
    "import pe_ode as pe\n",
    "import numpy as np\n",
    "from numpy import linalg as LA\n",
    "import matplotlib.pyplot as plt\n",
    "from scipy.integrate import solve_ivp, odeint"
   ]
  },
  {
   "cell_type": "code",
   "execution_count": 2,
   "metadata": {},
   "outputs": [],
   "source": [
    "yhat_model1=np.array([[0,1.4,6.3,10.5,14.2,17.6,21.4,23.0,27.0,30.5,34.4,38.8,41.6,43.5,45.3]])\n",
    "t_model1 = np.array([0,1,2,3,4,5,6,7,9,11,14,19,24,29,39])\n",
    "k_model1 = np.array([0.4577e-5,0.2796e-3])"
   ]
  },
  {
   "cell_type": "code",
   "execution_count": 3,
   "metadata": {},
   "outputs": [],
   "source": [
    "def model1_scaled_pe(u,kbar):\n",
    "    dudt = kbar[0]*(126.2/91.9-u)*(1-u)**2-kbar[1]*u**2\n",
    "    return dudt"
   ]
  },
  {
   "cell_type": "code",
   "execution_count": 4,
   "metadata": {},
   "outputs": [],
   "source": [
    "k_guess1 = np.array([1e-6,1e-6])\n",
    "yc1 = 91.9\n",
    "tc1 = t_model1[-1]\n",
    "yhat_bar1 = yhat_model1/yc1\n",
    "tbar1 = t_model1/tc1\n",
    "kbar1 = np.empty(2)\n",
    "kbar1[0] = k_model1[0]*yc1**2*tc1\n",
    "kbar1[1] = k_model1[1]*yc1*tc1\n",
    "kbar10 = np.empty(2)\n",
    "kbar10[0] = k_guess1[0]*yc1**2*tc1\n",
    "kbar10[1] = k_guess1[1]*yc1*tc1\n",
    "Q1 = np.eye(1)"
   ]
  },
  {
   "cell_type": "code",
   "execution_count": 5,
   "metadata": {},
   "outputs": [
    {
     "name": "stdout",
     "output_type": "stream",
     "text": [
      "Iteration | Objective function | Reduced gradient |   mu   |   rho\n",
      "g is\n",
      "[-0.75455613  0.01324812]\n",
      "L0 - L is  0.21807260268006362\n",
      "S0 is \n",
      "0.05616891803913487\n",
      "g is\n",
      "[-0.12995515  0.00794591]\n",
      "         1|          5.6169e-02|          1.18e-01| 4.7e-05| 1.9e+00\n",
      "Iter end\n",
      "\n",
      "\n",
      "\n",
      "L0 - L is  0.02200119149448777\n",
      "S0 is \n",
      "0.011577476850480238\n",
      "g is\n",
      "[-0.01471194 -0.0062424 ]\n",
      "         2|          1.1577e-02|          1.83e-02| 1.6e-05| 2.0e+00\n",
      "Iter end\n",
      "\n",
      "\n",
      "\n",
      "L0 - L is  0.0005532845467661847\n",
      "S0 is \n",
      "0.010241550562251202\n",
      "g is\n",
      "[-0.0008441  -0.00889802]\n",
      "         3|          1.0242e-02|          1.11e-03| 5.2e-06| 2.4e+00\n",
      "Iter end\n",
      "\n",
      "\n",
      "\n",
      "L0 - L is  0.00239832326923163\n",
      "S0 is \n",
      "0.003945334274879391\n",
      "g is\n",
      "[-0.00095738 -0.00306044]\n",
      "         4|          3.9453e-03|          1.70e-03| 1.7e-06| 2.6e+00\n",
      "Iter end\n",
      "\n",
      "\n",
      "\n",
      "L0 - L is  0.0007093564162018487\n",
      "S0 is \n",
      "0.002589752481151463\n",
      "g is\n",
      "[ 1.65670196e-04 -8.30387273e-05]\n",
      "         5|          2.5898e-03|          2.50e-04| 5.8e-07| 1.9e+00\n",
      "Iter end\n",
      "\n",
      "\n",
      "\n",
      "L0 - L is  3.5640532271315497e-07\n",
      "S0 is \n",
      "0.0025891319173546325\n",
      "g is\n",
      "[2.87946563e-06 1.45056595e-06]\n",
      "         6|          2.5891e-03|          4.34e-06| 1.9e-07| 1.7e+00\n",
      "Iter end\n",
      "\n",
      "\n",
      "\n",
      "L0 - L is  3.671745672226413e-10\n",
      "         7|          2.5893e-03|          4.34e-06| 3.9e-07|-5.5e+02\n",
      "Iter end\n",
      "\n",
      "\n",
      "\n",
      "L0 - L is  3.671749763279704e-10\n",
      "S0 is \n",
      "0.002589058925809282\n",
      "g is\n",
      "[ 2.49563853e-07 -1.00386898e-07]\n",
      "         8|          2.5891e-03|          3.76e-07| 1.3e-07| 2.0e+02\n",
      "Iter end\n",
      "\n",
      "\n",
      "\n",
      "L0 - L is  5.096737639333769e-13\n",
      "         9|          2.5893e-03|          3.76e-07| 2.6e-07|-5.3e+05\n",
      "Iter end\n",
      "\n",
      "\n",
      "\n",
      "L0 - L is  5.09673792419117e-13\n",
      "S0 is \n",
      "0.0025890244013924697\n",
      "g is\n",
      "[-2.31752807e-07  1.71308313e-07]\n",
      "        10|          2.5890e-03|          3.49e-07| 8.6e-08| 6.8e+04\n",
      "Iter end\n",
      "\n",
      "\n",
      "\n",
      "L0 - L is  1.7170740808290723e-12\n",
      "        11|          2.5894e-03|          3.49e-07| 1.7e-07|-2.0e+05\n",
      "Iter end\n",
      "\n",
      "\n",
      "\n",
      "L0 - L is  1.7170743214748472e-12\n",
      "S0 is \n",
      "0.002588941595026196\n",
      "g is\n",
      "[ 1.46987387e-06 -4.83065156e-07]\n",
      "        12|          2.5889e-03|          2.22e-06| 5.8e-08| 4.8e+04\n",
      "Iter end\n",
      "\n",
      "\n",
      "\n",
      "L0 - L is  1.2254850644440367e-11\n",
      "        13|          2.5891e-03|          2.22e-06| 1.2e-07|-9.5e+03\n",
      "Iter end\n",
      "\n",
      "\n",
      "\n",
      "L0 - L is  1.225485102798918e-11\n",
      "        14|          2.5893e-03|          2.22e-06| 4.6e-07|-3.3e+04\n",
      "Iter end\n",
      "\n",
      "\n",
      "\n",
      "L0 - L is  1.2254853309573517e-11\n",
      "        15|          2.5892e-03|          2.22e-06| 3.7e-06|-2.0e+04\n",
      "Iter end\n",
      "\n",
      "\n",
      "\n",
      "L0 - L is  1.2254872977267e-11\n",
      "        16|          2.5891e-03|          2.22e-06| 5.9e-05|-1.7e+04\n",
      "Iter end\n",
      "\n",
      "\n",
      "\n",
      "L0 - L is  1.2254762666949012e-11\n",
      "        17|          2.5891e-03|          2.22e-06| 1.9e-03|-1.0e+04\n",
      "Iter end\n",
      "\n",
      "\n",
      "\n",
      "L0 - L is  1.1988427000547247e-11\n",
      "        18|          2.5891e-03|          2.22e-06| 1.2e-01|-9.9e+03\n",
      "Iter end\n",
      "\n",
      "\n",
      "\n",
      "L0 - L is  9.405507068175986e-12\n",
      "        19|          2.5891e-03|          2.22e-06| 1.5e+01|-1.2e+04\n",
      "Iter end\n",
      "\n",
      "\n",
      "\n",
      "L0 - L is  5.171627060346929e-13\n",
      "        20|          2.5891e-03|          2.22e-06| 4.0e+03|-3.8e+05\n",
      "Iter end\n",
      "\n",
      "\n",
      "\n",
      "        21|          2.5891e-03|          2.22e-06| 4.0e+03|-3.8e+05\n",
      "Iter end\n",
      "\n",
      "\n",
      "\n"
     ]
    }
   ],
   "source": [
    "opts = [1e-3,1e-8,1e-8,100]\n",
    "pe1 = pe.lm(model1_scaled_pe,yhat_bar1,Q1,kbar10,tbar1,opts)"
   ]
  },
  {
   "cell_type": "code",
   "execution_count": 6,
   "metadata": {},
   "outputs": [
    {
     "name": "stdout",
     "output_type": "stream",
     "text": [
      "Iteration | Objective function | Reduced gradient |   mu   |   rho\n",
      "g is\n",
      "[-2.68253920e-06 -2.09193598e-07]\n",
      "L0 - L is  6.584423058814862e-11\n",
      "S0 is \n",
      "0.002589007417512477\n",
      "g is\n",
      "[3.72099524e-07 2.99838870e-07]\n",
      "         1|          2.5890e-03|          5.61e-07| 1.1e-04| 5.0e+03\n",
      "Iter end\n",
      "\n",
      "\n",
      "\n",
      "L0 - L is  1.228716328073398e-11\n",
      "         2|          2.5892e-03|          5.61e-07| 2.1e-04|-1.6e+04\n",
      "Iter end\n",
      "\n",
      "\n",
      "\n",
      "L0 - L is  1.2281246685591193e-11\n",
      "         3|          2.5890e-03|          5.61e-07| 8.6e-04|-1.4e+03\n",
      "Iter end\n",
      "\n",
      "\n",
      "\n",
      "L0 - L is  1.2116335059295066e-11\n",
      "         4|          2.5894e-03|          5.61e-07| 6.9e-03|-2.9e+04\n",
      "Iter end\n",
      "\n",
      "\n",
      "\n",
      "L0 - L is  8.792711300820538e-12\n",
      "         5|          2.5891e-03|          5.61e-07| 1.1e-01|-5.8e+03\n",
      "Iter end\n",
      "\n",
      "\n",
      "\n",
      "L0 - L is  1.6822924882724592e-12\n",
      "         6|          2.5891e-03|          5.61e-07| 3.5e+00|-4.7e+04\n",
      "Iter end\n",
      "\n",
      "\n",
      "\n",
      "L0 - L is  1.5397810776888095e-13\n",
      "         7|          2.5890e-03|          5.61e-07| 2.2e+02|-1.4e+05\n",
      "Iter end\n",
      "\n",
      "\n",
      "\n",
      "         8|          2.5890e-03|          5.61e-07| 2.2e+02|-1.4e+05\n",
      "Iter end\n",
      "\n",
      "\n",
      "\n"
     ]
    }
   ],
   "source": [
    "pe11 = pe.lm(model1_scaled_pe,yhat_bar1,Q1,kbar1,tbar1,opts)"
   ]
  },
  {
   "cell_type": "code",
   "execution_count": 7,
   "metadata": {},
   "outputs": [
    {
     "name": "stdout",
     "output_type": "stream",
     "text": [
      "[array([1.50759275, 1.00216656]), array([[0.        , 0.04950332, 0.09275547, 0.13086466, 0.16468032,\n",
      "        0.19486122, 0.22194261, 0.24634344, 0.28844632, 0.32330447,\n",
      "        0.36527369, 0.41564105, 0.44971618, 0.47321888, 0.50118087]]), [21, 'h']]\n"
     ]
    }
   ],
   "source": [
    "print(pe1)"
   ]
  },
  {
   "cell_type": "code",
   "execution_count": 8,
   "metadata": {},
   "outputs": [
    {
     "name": "stdout",
     "output_type": "stream",
     "text": [
      "[array([1.50760527, 1.00222759]), array([[0.        , 0.04950393, 0.09275664, 0.13086442, 0.16468089,\n",
      "        0.19486286, 0.22194423, 0.24634374, 0.28844139, 0.32331404,\n",
      "        0.36527209, 0.41564501, 0.44972148, 0.47320257, 0.50117965]]), [8, 'h']]\n"
     ]
    }
   ],
   "source": [
    "print(pe11)"
   ]
  },
  {
   "cell_type": "code",
   "execution_count": 9,
   "metadata": {},
   "outputs": [
    {
     "name": "stdout",
     "output_type": "stream",
     "text": [
      "[1.50759275 1.00216656]\n",
      "[1.50760527 1.00222759]\n"
     ]
    }
   ],
   "source": [
    "print(pe1[0])\n",
    "print(pe11[0])"
   ]
  },
  {
   "cell_type": "code",
   "execution_count": 10,
   "metadata": {},
   "outputs": [
    {
     "data": {
      "text/plain": [
       "array([0.9999917 , 0.99993911])"
      ]
     },
     "execution_count": 10,
     "metadata": {},
     "output_type": "execute_result"
    }
   ],
   "source": [
    "pe1[0]/pe11[0]"
   ]
  },
  {
   "cell_type": "code",
   "execution_count": 11,
   "metadata": {},
   "outputs": [],
   "source": [
    "t_model2 = np.array([0,5.63,11.32,16.97,22.62,34.00,39.70,45.20,169.7],dtype='f')*1e-4\n",
    "yhat_model2 = np.array([[1,0.828,0.704,0.622,0.565,0.499,0.482,0.470,0.443],\n",
    "                   [0,0.0737,0.1130,0.1322,0.1400,0.1468,0.1477,0.1477,0.1476]],dtype='f')\n",
    "k_model2 = np.array([354.61,400.23])"
   ]
  },
  {
   "cell_type": "code",
   "execution_count": 12,
   "metadata": {},
   "outputs": [],
   "source": [
    "def model2_scaled_pe(u,kbar):\n",
    "    K1 = 0.242\n",
    "    K2 = 0.428\n",
    "    M = 1\n",
    "    r1 = kbar[0]*(u[0]**2-u[1]*(2/M-2*u[0]-u[1])/(3*K1))\n",
    "    r2 = kbar[1]*(u[0]*u[1]-(1/M-u[0]-2*u[1])*(2/M-2*u[0]-u[1])/(9*K2))\n",
    "    dudt = np.empty(2)\n",
    "    dudt[0] = -r1-r2\n",
    "    dudt[1] = r1/2-r2\n",
    "    return dudt"
   ]
  },
  {
   "cell_type": "code",
   "execution_count": 13,
   "metadata": {},
   "outputs": [],
   "source": [
    "k20 = np.array([1e4,1e4])\n",
    "M = 1.0\n",
    "yhat_bar2 = yhat_model2/M\n",
    "tc2 = t_model2[-1]\n",
    "tbar2 = t_model2/tc2\n",
    "kbar2 = np.empty(2)\n",
    "kbar2[0] = k_model2[0]*M*tc2\n",
    "kbar2[1] = k_model2[1]*M*tc2\n",
    "kbar20 = np.empty(2)\n",
    "kbar20[0] = k20[0]*(M*tc2)\n",
    "kbar20[1] = k20[1]*(M*tc2)\n",
    "Q2 = np.eye(2)"
   ]
  },
  {
   "cell_type": "code",
   "execution_count": 14,
   "metadata": {},
   "outputs": [
    {
     "name": "stdout",
     "output_type": "stream",
     "text": [
      "Iteration | Objective function | Reduced gradient |   mu   |   rho\n",
      "g is\n",
      "[0.00542316 0.00042156]\n",
      "L0 - L is  0.009569625049052307\n",
      "S0 is \n",
      "0.0018881295090129372\n",
      "g is\n",
      "[-0.0032866  -0.00017147]\n",
      "         1|          1.8881e-03|          1.78e-02| 4.1e-05| 1.7e+00\n",
      "Iter end\n",
      "\n",
      "\n",
      "\n",
      "L0 - L is  0.0009449901650130005\n",
      "S0 is \n",
      "1.501009458312292e-05\n",
      "g is\n",
      "[-1.88659425e-04 -9.36132322e-06]\n",
      "         2|          1.5010e-05|          1.13e-03| 1.4e-05| 2.0e+00\n",
      "Iter end\n",
      "\n",
      "\n",
      "\n",
      "L0 - L is  3.979931487724671e-06\n",
      "S0 is \n",
      "7.0517525305847385e-06\n",
      "g is\n",
      "[-1.45629074e-06 -2.59302248e-08]\n",
      "         3|          7.0518e-06|          8.76e-06| 4.6e-06| 2.0e+00\n",
      "Iter end\n",
      "\n",
      "\n",
      "\n",
      "L0 - L is  2.4276302284464213e-10\n",
      "         4|          7.0539e-06|          8.76e-06| 9.2e-06|-8.7e+00\n",
      "Iter end\n",
      "\n",
      "\n",
      "\n",
      "L0 - L is  2.4309811626765077e-10\n",
      "         5|          7.0539e-06|          8.76e-06| 3.7e-05|-9.0e+00\n",
      "Iter end\n",
      "\n",
      "\n",
      "\n",
      "L0 - L is  2.4510266569563945e-10\n",
      "S0 is \n",
      "7.050877500183028e-06\n",
      "g is\n",
      "[-7.28514748e-09 -2.13931264e-10]\n",
      "         6|          7.0509e-06|          4.38e-08| 1.2e-05| 3.6e+00\n",
      "Iter end\n",
      "\n",
      "\n",
      "\n",
      "L0 - L is  6.027710990398045e-15\n",
      "S0 is \n",
      "7.050706697009747e-06\n",
      "g is\n",
      "[-3.38808968e-09  8.21146687e-11]\n",
      "         7|          7.0507e-06|          2.04e-08| 4.1e-06| 2.8e+04\n",
      "Iter end\n",
      "\n",
      "\n",
      "\n",
      "L0 - L is  1.4497150639583781e-15\n",
      "         8|          7.0540e-06|          2.04e-08| 8.1e-06|-2.3e+06\n",
      "Iter end\n",
      "\n",
      "\n",
      "\n",
      "L0 - L is  1.4549679640435969e-15\n",
      "         9|          7.0539e-06|          2.04e-08| 3.3e-05|-2.2e+06\n",
      "Iter end\n",
      "\n",
      "\n",
      "\n",
      "L0 - L is  1.486275859485784e-15\n",
      "        10|          7.0514e-06|          2.04e-08| 2.6e-04|-4.5e+05\n",
      "Iter end\n",
      "\n",
      "\n",
      "\n",
      "L0 - L is  1.7620857307569755e-15\n",
      "        11|          7.0509e-06|          2.04e-08| 4.2e-03|-1.0e+05\n",
      "Iter end\n",
      "\n",
      "\n",
      "\n",
      "L0 - L is  4.1596663243377575e-15\n",
      "S0 is \n",
      "7.0486346708275736e-06\n",
      "g is\n",
      "[-1.44638681e-08 -2.03939495e-09]\n",
      "        12|          7.0486e-06|          8.70e-08| 1.4e-03| 5.0e+05\n",
      "Iter end\n",
      "\n",
      "\n",
      "\n",
      "L0 - L is  8.465694785313023e-14\n",
      "        13|          7.0511e-06|          8.70e-08| 2.8e-03|-3.0e+04\n",
      "Iter end\n",
      "\n",
      "\n",
      "\n",
      "L0 - L is  1.1285996693711625e-13\n",
      "        14|          7.0488e-06|          8.70e-08| 1.1e-02|-1.8e+03\n",
      "Iter end\n",
      "\n",
      "\n",
      "\n",
      "L0 - L is  1.5822734208820185e-13\n",
      "        15|          7.0522e-06|          8.70e-08| 8.9e-02|-2.2e+04\n",
      "Iter end\n",
      "\n",
      "\n",
      "\n",
      "L0 - L is  2.382108450722142e-13\n",
      "        16|          7.0520e-06|          8.70e-08| 1.4e+00|-1.4e+04\n",
      "Iter end\n",
      "\n",
      "\n",
      "\n",
      "L0 - L is  8.307060757629989e-14\n",
      "        17|          7.0511e-06|          8.70e-08| 4.6e+01|-2.9e+04\n",
      "Iter end\n",
      "\n",
      "\n",
      "\n",
      "        18|          7.0511e-06|          8.70e-08| 4.6e+01|-2.9e+04\n",
      "Iter end\n",
      "\n",
      "\n",
      "\n"
     ]
    }
   ],
   "source": [
    "kbar20t = np.array([5e2,5e2])*tc2\n",
    "opts2 = [1e-3,1e-8,1e-8,100]\n",
    "pe2 = pe.lm(model2_scaled_pe,yhat_bar2,Q2,kbar20t,tbar2,opts2)"
   ]
  },
  {
   "cell_type": "code",
   "execution_count": 15,
   "metadata": {},
   "outputs": [
    {
     "data": {
      "text/plain": [
       "0.4879999999999999"
      ]
     },
     "execution_count": 15,
     "metadata": {},
     "output_type": "execute_result"
    }
   ],
   "source": [
    "rho = 0.9\n",
    "1-(2*rho-1)**3"
   ]
  },
  {
   "cell_type": "code",
   "execution_count": 16,
   "metadata": {},
   "outputs": [
    {
     "name": "stdout",
     "output_type": "stream",
     "text": [
      "[array([6.01761552, 6.79179215]), array([[1.        , 0.82833426, 0.70541073, 0.62146827, 0.56432719,\n",
      "        0.49898481, 0.48109912, 0.4693483 , 0.44329901],\n",
      "       [0.        , 0.07379112, 0.11221202, 0.13131402, 0.14069775,\n",
      "        0.14727296, 0.14814621, 0.14843817, 0.14773838]]), [18, 'h']]\n"
     ]
    }
   ],
   "source": [
    "print(pe2)"
   ]
  },
  {
   "cell_type": "code",
   "execution_count": 17,
   "metadata": {},
   "outputs": [
    {
     "name": "stdout",
     "output_type": "stream",
     "text": [
      "Iteration | Objective function | Reduced gradient |   mu   |   rho\n",
      "g is\n",
      "[5.32582329e-07 3.66306911e-08]\n",
      "L0 - L is  3.4983325800685525e-11\n",
      "         1|          7.0540e-06|          3.20e-06| 3.2e-04|-8.5e+01\n",
      "Iter end\n",
      "\n",
      "\n",
      "\n",
      "L0 - L is  3.689340847063574e-11\n",
      "         2|          7.0513e-06|          3.20e-06| 1.3e-03|-7.7e+00\n",
      "Iter end\n",
      "\n",
      "\n",
      "\n",
      "L0 - L is  4.7022189531153945e-11\n",
      "         3|          7.0511e-06|          3.20e-06| 1.0e-02|-1.6e+00\n",
      "Iter end\n",
      "\n",
      "\n",
      "\n",
      "L0 - L is  1.0609504053118205e-10\n",
      "         4|          7.0514e-06|          3.20e-06| 1.6e-01|-3.9e+00\n",
      "Iter end\n",
      "\n",
      "\n",
      "\n",
      "L0 - L is  3.091139208953995e-10\n",
      "         5|          7.0511e-06|          3.20e-06| 5.2e+00|-4.0e-01\n",
      "Iter end\n",
      "\n",
      "\n",
      "\n",
      "L0 - L is  3.457448650762977e-11\n",
      "         6|          7.0515e-06|          3.20e-06| 3.4e+02|-1.5e+01\n",
      "Iter end\n",
      "\n",
      "\n",
      "\n",
      "         7|          7.0515e-06|          3.20e-06| 3.4e+02|-1.5e+01\n",
      "Iter end\n",
      "\n",
      "\n",
      "\n"
     ]
    }
   ],
   "source": [
    "pe2 = pe.lm(model2_scaled_pe,yhat_bar2,Q2,kbar2,tbar2,[1e-3,1e-8,1e-8,100])"
   ]
  },
  {
   "cell_type": "code",
   "execution_count": 18,
   "metadata": {},
   "outputs": [
    {
     "name": "stdout",
     "output_type": "stream",
     "text": [
      "[array([6.01773145, 6.79190282]), array([[1.        , 0.82833158, 0.705407  , 0.62146446, 0.56432375,\n",
      "        0.49898246, 0.48109726, 0.46934663, 0.44329901],\n",
      "       [0.        , 0.0737921 , 0.11221306, 0.13131483, 0.14069831,\n",
      "        0.14727319, 0.14814634, 0.14843829, 0.14773838]]), [7, 'h']]\n"
     ]
    }
   ],
   "source": [
    "print(pe2)"
   ]
  },
  {
   "cell_type": "code",
   "execution_count": 19,
   "metadata": {},
   "outputs": [],
   "source": [
    "Y,J = pe.state_jacob_int(model2_scaled_pe,yhat_bar2[:,0],kbar20,tbar2)"
   ]
  },
  {
   "cell_type": "code",
   "execution_count": 20,
   "metadata": {},
   "outputs": [
    {
     "name": "stdout",
     "output_type": "stream",
     "text": [
      "[[1.         0.44331414 0.44329307 0.4432931  0.44329309 0.44329309\n",
      "  0.44329309 0.44329309 0.44329309]\n",
      " [0.         0.14775787 0.14773596 0.14773599 0.14773598 0.14773598\n",
      "  0.14773598 0.14773598 0.14773598]]\n"
     ]
    }
   ],
   "source": [
    "print(Y)"
   ]
  },
  {
   "cell_type": "code",
   "execution_count": 21,
   "metadata": {},
   "outputs": [
    {
     "name": "stdout",
     "output_type": "stream",
     "text": [
      "[[0. 0.]\n",
      " [0. 0.]]\n",
      "[[-4.38236014e-07 -7.88192754e-07]\n",
      " [ 2.19120901e-07 -1.29974882e-06]]\n",
      "[[ 4.89706450e-10  6.40922748e-10]\n",
      " [-2.32276129e-10  1.09202552e-09]]\n",
      "[[-6.80755065e-11 -9.65273604e-11]\n",
      " [ 2.88830072e-11 -3.18692351e-10]]\n",
      "[[ 5.46895495e-11  6.23940348e-11]\n",
      " [-2.33607529e-11  2.18315751e-10]]\n",
      "[[-2.61679587e-11  2.82837751e-11]\n",
      " [ 5.98140432e-12 -1.30885301e-10]]\n",
      "[[-3.88541674e-13  7.26346019e-11]\n",
      " [-6.73578764e-12 -4.37529818e-11]]\n",
      "[[-2.49307383e-13  4.59197942e-11]\n",
      " [-4.27221023e-12 -2.77239407e-11]]\n",
      "[[ 2.80946635e-12  3.77180756e-11]\n",
      " [-4.26672754e-12 -4.85938845e-12]]\n"
     ]
    }
   ],
   "source": [
    "print(*J,sep='\\n')"
   ]
  },
  {
   "cell_type": "code",
   "execution_count": 22,
   "metadata": {},
   "outputs": [
    {
     "name": "stdout",
     "output_type": "stream",
     "text": [
      "[ 0.00000000e+00  3.84685867e-01  2.60706927e-01  1.78706882e-01\n",
      "  1.21706909e-01  5.57069187e-02  3.87069005e-02  2.67069062e-02\n",
      " -2.93103466e-04]\n",
      "[ 0.00000000e+00 -7.40578714e-02 -3.47359652e-02 -1.55359849e-02\n",
      " -7.73597909e-03 -9.35988339e-04 -3.59866586e-05 -3.59864678e-05\n",
      " -1.35987824e-04]\n"
     ]
    }
   ],
   "source": [
    "S,r=pe.objective_func(yhat_bar2,Y,Q2,9)\n",
    "print(*r,sep='\\n')"
   ]
  },
  {
   "cell_type": "code",
   "execution_count": 23,
   "metadata": {},
   "outputs": [
    {
     "name": "stdout",
     "output_type": "stream",
     "text": [
      "[[2.40065077e-13 6.06123736e-14]\n",
      " [6.06123736e-14 2.31059660e-12]]\n",
      "[1.84682353e-07 2.06821488e-07]\n"
     ]
    }
   ],
   "source": [
    "H,g=pe.Hg(J,Q2,r,2,9)\n",
    "print(H)\n",
    "print(g)"
   ]
  },
  {
   "cell_type": "code",
   "execution_count": 24,
   "metadata": {},
   "outputs": [],
   "source": [
    "K = np.diag(kbar20)\n",
    "Hr = K@H@K\n",
    "gr = K@g"
   ]
  },
  {
   "cell_type": "code",
   "execution_count": 38,
   "metadata": {},
   "outputs": [
    {
     "name": "stdout",
     "output_type": "stream",
     "text": [
      "[6.86236077e-09 6.65918176e-08]\n"
     ]
    },
    {
     "data": {
      "text/plain": [
       "array([[1., 0.],\n",
       "       [0., 1.]])"
      ]
     },
     "execution_count": 38,
     "metadata": {},
     "output_type": "execute_result"
    }
   ],
   "source": [
    "w, v = LA.eig(Hr)\n",
    "print(w)\n",
    "v.T@v"
   ]
  },
  {
   "cell_type": "code",
   "execution_count": 25,
   "metadata": {},
   "outputs": [
    {
     "name": "stdout",
     "output_type": "stream",
     "text": [
      "[[169.69999298   0.        ]\n",
      " [  0.         169.69999298]]\n",
      "[[6.91341512e-09 1.74552045e-09]\n",
      " [1.74552045e-09 6.65407633e-08]]\n",
      "[3.1340594e-05 3.5097605e-05]\n"
     ]
    }
   ],
   "source": [
    "print(K)\n",
    "print(Hr)\n",
    "print(gr)"
   ]
  },
  {
   "cell_type": "code",
   "execution_count": 26,
   "metadata": {},
   "outputs": [
    {
     "name": "stdout",
     "output_type": "stream",
     "text": [
      "6.654076329740317e-08\n"
     ]
    }
   ],
   "source": [
    "mu = max(np.diag(Hr))\n",
    "print(mu)"
   ]
  },
  {
   "cell_type": "code",
   "execution_count": 27,
   "metadata": {},
   "outputs": [],
   "source": [
    "hr = pe.svdsolve(Hr+1e1*mu*np.eye(2),-gr)"
   ]
  },
  {
   "cell_type": "code",
   "execution_count": 28,
   "metadata": {},
   "outputs": [
    {
     "name": "stdout",
     "output_type": "stream",
     "text": [
      "[-46.49131282 -47.84005768]\n"
     ]
    }
   ],
   "source": [
    "print(hr)"
   ]
  },
  {
   "cell_type": "code",
   "execution_count": 29,
   "metadata": {},
   "outputs": [
    {
     "data": {
      "text/plain": [
       "array([123.20868017, 121.85993531])"
      ]
     },
     "execution_count": 29,
     "metadata": {},
     "output_type": "execute_result"
    }
   ],
   "source": [
    "kbar20+hr"
   ]
  },
  {
   "cell_type": "code",
   "execution_count": 30,
   "metadata": {},
   "outputs": [],
   "source": [
    "Y,J = pe.state_jacob_int(model2_scaled_pe,yhat_bar2[:,0],kbar20+hr,tbar2)"
   ]
  },
  {
   "cell_type": "code",
   "execution_count": 31,
   "metadata": {},
   "outputs": [
    {
     "name": "stdout",
     "output_type": "stream",
     "text": [
      "[-7889.57545923 -8118.45745223]\n"
     ]
    }
   ],
   "source": [
    "print(K@hr)"
   ]
  },
  {
   "cell_type": "code",
   "execution_count": 32,
   "metadata": {},
   "outputs": [],
   "source": [
    "h = pe.svdsolve(H,-g)"
   ]
  },
  {
   "cell_type": "code",
   "execution_count": 33,
   "metadata": {},
   "outputs": [
    {
     "name": "stdout",
     "output_type": "stream",
     "text": [
      "[-751679.98905972  -69791.6631466 ]\n"
     ]
    }
   ],
   "source": [
    "print(h)"
   ]
  }
 ],
 "metadata": {
  "kernelspec": {
   "display_name": "Python 3",
   "language": "python",
   "name": "python3"
  },
  "language_info": {
   "codemirror_mode": {
    "name": "ipython",
    "version": 3
   },
   "file_extension": ".py",
   "mimetype": "text/x-python",
   "name": "python",
   "nbconvert_exporter": "python",
   "pygments_lexer": "ipython3",
   "version": "3.7.3"
  }
 },
 "nbformat": 4,
 "nbformat_minor": 2
}
