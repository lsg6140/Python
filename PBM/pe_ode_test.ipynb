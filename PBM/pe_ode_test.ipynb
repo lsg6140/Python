{
 "cells": [
  {
   "cell_type": "code",
   "execution_count": 1,
   "metadata": {},
   "outputs": [],
   "source": [
    "import pe_ode as pe\n",
    "import numpy as np\n",
    "from numpy import linalg as LA\n",
    "import matplotlib.pyplot as plt\n",
    "from scipy.integrate import solve_ivp, odeint"
   ]
  },
  {
   "cell_type": "markdown",
   "metadata": {},
   "source": [
    "# Test of Parameter Estimation methods for ODE model\n",
    "## Model 1: Homogeneous gas phase reaction model\n",
    "$$2NO+O_2\\leftrightarrow2NO_2$$\n",
    "is described by the following equation\n",
    "$$\\frac{dy}{dt}=k_1(126.2-y)(91.9-y)^2-k_2y^2;~~y(0)=0$$"
   ]
  },
  {
   "cell_type": "code",
   "execution_count": 2,
   "metadata": {},
   "outputs": [],
   "source": [
    "def model1(y,k):\n",
    "    dydt = k[0]*(126.2-y)*(91.9-y)**2-k[1]*y**2\n",
    "    return dydt"
   ]
  },
  {
   "cell_type": "markdown",
   "metadata": {},
   "source": [
    "## Model 2: Pyrolytic dehydrogenation model\n",
    "Pyrolytic dehydrogenation of benzene to diphenyl and triphenyl\n",
    "$$2C_2H_6\\longleftrightarrow C_{12}H_{10}+H_2$$\n",
    "$$C_6H_6+C_{12}H_{10}\\longleftrightarrow C_{10}H_{14}+H_2$$\n",
    "with differential equations model\n",
    "\\begin{align*}\n",
    "\\frac{dy_1}{dt}=&-r_1-r_2;~~y_1(0)=1\\\\\n",
    "\\frac{dy_2}{dt}=&\\frac{r_1}{2}-r_2;~~~~y_2(0)=0\\\\\n",
    "r_1=&k_1\\left(y_1^2-y_2\\frac{2-2y_1-y_2}{3K_1}\\right)\\\\\n",
    "r_2=&k_2\\left(y_1y_2-\\frac{(1-y_1-2y_2)(2-2y_1-y_2)}{9K_2}\\right)\n",
    "\\end{align*}\n",
    "with $K_1=0.242$ and $K_2=0.428$"
   ]
  },
  {
   "cell_type": "code",
   "execution_count": 3,
   "metadata": {},
   "outputs": [],
   "source": [
    "def model2(y,k):\n",
    "    K1 = 0.242\n",
    "    K2 = 0.428\n",
    "    r1 = k[0]*(y[0]**2-y[1]*(2-2*y[0]-y[1])/(3*K1))\n",
    "    r2 = k[1]*(y[0]*y[1]-(1-y[0]-2*y[1])*(2-2*y[0]-y[1])/(9*K2))\n",
    "    dydt = np.empty(2)\n",
    "    dydt[0] = -r1-r2\n",
    "    dydt[1] = r1/2-r2\n",
    "    return dydt"
   ]
  },
  {
   "cell_type": "markdown",
   "metadata": {},
   "source": [
    "## Jacobian\n",
    "### Model 1\n",
    "Differential equation $\\frac{d\\mathbf{J}}{dt}$ with $\\mathbf{J}=\\frac{\\partial\\mathbf{y}}{\\partial\\mathbf{k}}$ is\n",
    "$$\\frac{d\\mathbf{J}}{dt}=\\frac{\\partial\\mathbf{f}}{\\partial\\mathbf{y}}\\mathbf{J}+\\frac{\\partial\\mathbf{f}}{\\partial\\mathbf{k}}$$\n",
    "For this model\n",
    "$$\\frac{\\partial f}{\\partial y}=-k_1(91.9-y)^2-2k_1(126.2-y)(91.9-y)-2k_2y$$\n",
    "$$\\frac{\\partial f}{\\partial k_1}=(126.2-y)(91.9-y)^2$$\n",
    "$$\\frac{\\partial f}{\\partial k_2}=-y^2$$"
   ]
  },
  {
   "cell_type": "code",
   "execution_count": 4,
   "metadata": {},
   "outputs": [],
   "source": [
    "def model1_dfdy(y,k):\n",
    "    dfdy = -k[0]*(91.9-y)**2-2*k[0]*(126.2-y)*(91.9-y)-2*k[1]*y\n",
    "    return dfdy\n",
    "def model1_dfdk(y,k):\n",
    "    dfdk = np.empty(2)\n",
    "    dfdk[0] = (126.2-y)*(91.9-y)**2\n",
    "    dfdk[1] = -y**2\n",
    "    return dfdk"
   ]
  },
  {
   "cell_type": "markdown",
   "metadata": {},
   "source": [
    "### Model 2\n",
    "\\begin{align*}\n",
    "r_1=&2y_1+\\frac{2y_2}{3K_1}\\\\\n",
    "r_2=&\\frac{2y_1+2y_2-2}{3K_1}\\\\\n",
    "r_3=&y_2-\\frac{4y_1+5y_2-4}{9K_2}\\\\\n",
    "r_4=&y_1-\\frac{5y_1+4y_2-5}{9K_2}\\\\\\\\\n",
    "\\frac{\\partial f_1}{\\partial y_1}=&-k_1r_1-k_2r_3,\\hspace{1cm}\\frac{\\partial f_1}{\\partial y_2}=-k_1r_2-k_2r_4\\\\\n",
    "\\frac{\\partial f_2}{\\partial y_1}=&\\frac{k_1}{2}r_1-k_2r_3,\\hspace{1.3cm}\\frac{\\partial f_2}{\\partial y_2}=\\frac{k_1}{2}r_2-k_2r_4\\\\\\\\\n",
    "\\frac{\\partial f_1}{\\partial k_1}=&-\\left(y_1^2+\\frac{y_2^2+2y_1y_2-2y_2}{3K_1}\\right)\\\\\n",
    "\\frac{\\partial f_1}{\\partial k_2}=&-\\left(y_1y_2-\\frac{2y_1^2-4y_1+5y_1y_2-5y_2+2y_2^2+2}{9K_2}\\right)\\\\\n",
    "\\frac{\\partial f_2}{\\partial k_1}=&-\\frac{1}{2}\\frac{\\partial f_1}{\\partial k_1}\\\\\n",
    "\\frac{\\partial f_2}{\\partial k_2}=&\\frac{\\partial f_1}{\\partial k_2}\n",
    "\\end{align*}"
   ]
  },
  {
   "cell_type": "code",
   "execution_count": 5,
   "metadata": {},
   "outputs": [],
   "source": [
    "def model2_dfdy(y,k):\n",
    "    K1 = 0.242\n",
    "    K2 = 0.428\n",
    "    r1 = 2*y[0]+2*y[1]/(3*K1)\n",
    "    r2 = 2*(y[0]+y[1]-1)/(3*K1)\n",
    "    r3 = y[1]-(4*y[0]+5*y[1]-4)/(9*K2)\n",
    "    r4 = y[0]-(5*y[0]+4*y[1]-5)/(9*K2)\n",
    "    dfdy = np.empty((2,2))\n",
    "    dfdy[0,0] = -k[0]*r1-k[1]*r3\n",
    "    dfdy[0,1] = -k[0]*r2-k[1]*r4\n",
    "    dfdy[1,0] = k[0]*r1/2-k[1]*r3\n",
    "    dfdy[1,1] = k[0]*r2/2-k[1]*r4\n",
    "    return dfdy\n",
    "def model2_dfdk(y,k):\n",
    "    K1 = 0.242\n",
    "    K2 = 0.428\n",
    "    dfdk = np.empty((2,2))\n",
    "    dfdk[0,0] = -(y[0]**2+(y[1]**2+2*y[0]*y[1]-2*y[1])/(3*K1))\n",
    "    dfdk[0,1] = -(y[0]*y[1]-(2*y[0]**2-4*y[0]+5*y[0]*y[1]-5*y[1]+2*y[1]**2+2)/(9*K2))\n",
    "    dfdk[1,0] = -dfdk[0,0]/2\n",
    "    dfdk[1,1] = dfdk[0,1]\n",
    "    return dfdk"
   ]
  },
  {
   "cell_type": "markdown",
   "metadata": {},
   "source": [
    "## Comparison with numerical differentiation\n",
    "Numerical differentiation by `pe_ode` functions and analytic results given above will be compared. \n",
    "### Model 1\n",
    "Homogeneous gas model has 15 measurements and the parameter estimations are $k_1=0.4577\\times10^{-5}$ and $k_2=0.2796\\times10^{-3}$"
   ]
  },
  {
   "cell_type": "code",
   "execution_count": 6,
   "metadata": {
    "scrolled": false
   },
   "outputs": [],
   "source": [
    "yhat_model1=np.array([[0,1.4,6.3,10.5,14.2,17.6,21.4,23.0,27.0,30.5,34.4,38.8,41.6,43.5,45.3]])\n",
    "t_model1 = np.array([0,1,2,3,4,5,6,7,9,11,14,19,24,29,39])\n",
    "k_model1 = np.array([0.4577e-5,0.2796e-3])"
   ]
  },
  {
   "cell_type": "code",
   "execution_count": 7,
   "metadata": {
    "scrolled": true
   },
   "outputs": [
    {
     "name": "stdout",
     "output_type": "stream",
     "text": [
      "dfdy difference 7.08e-07 (inf norm)\n",
      "dfdk difference 7.64e-15 (inf norm)\n"
     ]
    }
   ],
   "source": [
    "dfdy_anal = np.empty(15)\n",
    "dfdy_num = np.empty(15)\n",
    "dfdk_anal = np.empty((2,15))\n",
    "dfdk_num = np.empty((2,15))\n",
    "y_temp = pe.state_only_int(model1,np.array([0]),k_model1,t_model1)\n",
    "y_k_model1 = y_temp[0]\n",
    "for i in range(15):\n",
    "    dfdy_anal[i] = model1_dfdy(y_k_model1[:,i],k_model1)\n",
    "    dfdy_num[i] = pe.dfdy_ode(model1,y_k_model1[:,i],k_model1,1)\n",
    "    dfdk_anal[:,i] = model1_dfdk(y_k_model1[:,i],k_model1)\n",
    "    dfdk_num[:,i] = pe.dfdk_ode(model1,y_k_model1[:,i],k_model1,1,2)\n",
    "dfdy_diff = dfdy_anal-dfdy_num\n",
    "dfdk_diff = dfdk_anal-dfdk_num\n",
    "rel_dfdy = np.max(np.abs(dfdy_diff))/np.linalg.norm(dfdy_anal,np.inf)\n",
    "rel_dfdk = np.max(np.abs(dfdk_diff))/np.linalg.norm(dfdk_anal,np.inf)\n",
    "print('dfdy difference {0:1.2e} (inf norm)'.format(rel_dfdy))    \n",
    "print('dfdk difference {0:1.2e} (inf norm)'.format(rel_dfdk))"
   ]
  },
  {
   "cell_type": "markdown",
   "metadata": {},
   "source": [
    "### Model 2\n",
    "Dehydrogenation model has eight measurements and the parameter estimations are $k_1=354.61$ and $k_2=400.23$"
   ]
  },
  {
   "cell_type": "code",
   "execution_count": 8,
   "metadata": {},
   "outputs": [],
   "source": [
    "t_model2 = np.array([0,5.63,11.32,16.97,22.62,34.00,39.70,45.20,169.7],dtype='f')*1e-4\n",
    "yhat_model2 = np.array([[1,0.828,0.704,0.622,0.565,0.499,0.482,0.470,0.443],\n",
    "                   [0,0.0737,0.1130,0.1322,0.1400,0.1468,0.1477,0.1477,0.1476]],dtype='f')\n",
    "y0_model2 = yhat_model2[:,0]\n",
    "k_model2 = np.array([354.61,400.23])"
   ]
  },
  {
   "cell_type": "code",
   "execution_count": 9,
   "metadata": {},
   "outputs": [
    {
     "name": "stdout",
     "output_type": "stream",
     "text": [
      "dfdy difference 2.69e-09\n",
      "dfdk difference 2.87e-06\n"
     ]
    }
   ],
   "source": [
    "k1000 = np.array([1000,1000],dtype='float64')\n",
    "N_model2 = np.size(t_model2)\n",
    "dfdy_model2_ana = np.empty((N_model2,2,2))\n",
    "dfdy_model2_num = np.empty((N_model2,2,2))\n",
    "dfdk_model2_ana = np.empty((N_model2,2,2))\n",
    "dfdk_model2_num = np.empty((N_model2,2,2))\n",
    "y1000,fasu = pe.state_only_int(model2,y0_model2,k1000,t_model2)\n",
    "for i in range(N_model2):\n",
    "    dfdy_model2_ana[i] = model2_dfdy(y1000[:,i],k1000)\n",
    "    dfdy_model2_num[i] = pe.dfdy_ode(model2,y1000[:,i],k1000,2)\n",
    "    dfdk_model2_ana[i] = model2_dfdk(y1000[:,i],k1000)\n",
    "    dfdk_model2_num[i] = pe.dfdk_ode(model2,y1000[:,i],k1000,2,2)\n",
    "dfdy_diff = dfdy_model2_ana-dfdy_model2_num\n",
    "dfdk_diff = dfdk_model2_ana-dfdk_model2_num\n",
    "rel_dfdy = np.linalg.norm(dfdy_diff)/np.linalg.norm(dfdy_model2_ana)\n",
    "rel_dfdk = np.linalg.norm(dfdk_diff)/np.linalg.norm(dfdk_model2_ana)\n",
    "print('dfdy difference {0:1.2e}'.format(rel_dfdy))\n",
    "print('dfdk difference {0:1.2e}'.format(rel_dfdk))"
   ]
  },
  {
   "cell_type": "markdown",
   "metadata": {},
   "source": [
    "## Test of $\\varphi(\\mathbf{z})$\n",
    "### Model 1\n",
    "With an initial condition $y_0=0$, $\\mathbf{J}=\\begin{bmatrix}0&0\\end{bmatrix}$\n",
    "$$\\frac{dy}{dt}=4.577\\times10^{-6}(126.2-0)(91.9-0)^2-2.796\\times10^{-4}\\times0^2=4.8783$$\n",
    "$$\\frac{\\partial f}{\\partial y}=-4.577\\times10^{-6}(91.9-0)^2-2\\times4.577\\times10^{-6}(126.2-0)(91.9-0)-2\\times2.796\\times10^{-4}\\times0=-0.1448$$\n",
    "$$\\frac{\\partial f}{\\partial k_1}=(126.2-0)(91.9-0)^2=1065836$$\n",
    "$$\\frac{\\partial f}{\\partial k_2}=-0^2=0$$\n",
    "The differential equation for Jacobian is\n",
    "$$\\frac{d\\mathbf{J}}{dt}=-0.1448\\times\\begin{bmatrix}0 & 0\\end{bmatrix}+\\begin{bmatrix}1065836&0\\end{bmatrix}=\\begin{bmatrix}1065836&0\\end{bmatrix}$$"
   ]
  },
  {
   "cell_type": "code",
   "execution_count": 10,
   "metadata": {},
   "outputs": [
    {
     "name": "stdout",
     "output_type": "stream",
     "text": [
      "Analytic dJdt is  [1065835.982       0.   ]\n",
      "Numerical dJdt is  [1065835.98199994       0.        ]\n"
     ]
    }
   ],
   "source": [
    "y_temp = 0\n",
    "dfdy_model1_ana = model1_dfdy(y_temp,k_model1)\n",
    "dfdk_model1_ana = model1_dfdk(y_temp,k_model1)\n",
    "J_temp = np.array([0,0])\n",
    "dJdt_model1_ana = dfdy_model1_ana*J_temp+dfdk_model1_ana\n",
    "print('Analytic dJdt is ',dJdt_model1_ana)\n",
    "z = np.empty(3)\n",
    "z[0] = y_temp\n",
    "z[1:] = J_temp\n",
    "dJdt_model1_num = pe.phi_z(model1,z,k_model1,1,2)\n",
    "print('Numerical dJdt is ',dJdt_model1_num[1:])"
   ]
  },
  {
   "cell_type": "markdown",
   "metadata": {},
   "source": [
    "### Model 2\n",
    "Artificial initial condition $y0=[5~~10]$ and $\\mathbf{J}=\\begin{bmatrix}\n",
    "200&300\\\\\n",
    "150&50\\end{bmatrix}$\n",
    "$$\\frac{d\\mathbf{J}}{dt}=\\frac{\\partial\\mathbf{f}}{\\partial\\mathbf{y}}\\mathbf{J}+\\frac{\\partial\\mathbf{f}}{\\partial\\mathbf{k}}$$"
   ]
  },
  {
   "cell_type": "code",
   "execution_count": 11,
   "metadata": {},
   "outputs": [
    {
     "name": "stdout",
     "output_type": "stream",
     "text": [
      "Analytic dJdt is \n",
      " [[-3508740.85315775 -3610034.82730877]\n",
      " [ 3563353.91956953  3407433.3131871 ]]\n",
      "Numerical dJdt is \n",
      " [[-3508741.33291654 -3610035.15135963]\n",
      " [ 3563354.37318194  3407433.77309991]]\n"
     ]
    }
   ],
   "source": [
    "y_model2_temp0 = np.array([5,10])\n",
    "J_model2_temp = np.array([[200,300],[150,50]])\n",
    "dfdy_model2_temp = model2_dfdy(y_model2_temp0,k_model2)\n",
    "dfdk_model2_temp = model2_dfdk(y_model2_temp0,k_model2)\n",
    "dJdt_model2_ana = np.matmul(dfdy_model2_temp,J_model2_temp)+dfdk_model2_temp\n",
    "z_model2 = np.empty(6)\n",
    "z_model2[0:2] = y_model2_temp0\n",
    "z_model2[2:] = J_model2_temp.transpose().flatten()\n",
    "dzdt_model2 = pe.phi_z(model2,z_model2,k_model2,2,2)\n",
    "dJdt_model2_num = dzdt_model2[2:].reshape(2,2).transpose()\n",
    "print('Analytic dJdt is \\n',dJdt_model2_ana)\n",
    "print('Numerical dJdt is \\n',dJdt_model2_num)"
   ]
  },
  {
   "cell_type": "code",
   "execution_count": 12,
   "metadata": {},
   "outputs": [
    {
     "name": "stdout",
     "output_type": "stream",
     "text": [
      "Analytic dJdt is \n",
      " [[-1.   0. ]\n",
      " [ 0.5  0. ]]\n",
      "Numerical dJdt is \n",
      " [[-1.00008037  0.        ]\n",
      " [ 0.50004019  0.        ]]\n"
     ]
    }
   ],
   "source": [
    "y_model2_temp0 = np.array([1,0])\n",
    "J_model2_temp = np.array([[0,0],[0,0]])\n",
    "k_model2_guess = np.array([10000,10000])\n",
    "dfdy_model2_temp = model2_dfdy(y_model2_temp0,k_model2_guess)\n",
    "dfdk_model2_guess_temp = model2_dfdk(y_model2_temp0,k_model2_guess)\n",
    "dJdt_model2_ana = np.matmul(dfdy_model2_temp,J_model2_temp)+dfdk_model2_guess_temp\n",
    "z_model2 = np.empty(6)\n",
    "z_model2[0:2] = y_model2_temp0\n",
    "z_model2[2:] = J_model2_temp.transpose().flatten()\n",
    "dzdt_model2 = pe.phi_z(model2,z_model2,k_model2_guess,2,2)\n",
    "dJdt_model2_num = dzdt_model2[2:].reshape(2,2).transpose()\n",
    "print('Analytic dJdt is \\n',dJdt_model2_ana)\n",
    "print('Numerical dJdt is \\n',dJdt_model2_num)"
   ]
  },
  {
   "cell_type": "markdown",
   "metadata": {
    "scrolled": false
   },
   "source": [
    "## Integration with estimated parameters\n",
    "### Model 1"
   ]
  },
  {
   "cell_type": "code",
   "execution_count": 13,
   "metadata": {
    "scrolled": true
   },
   "outputs": [],
   "source": [
    "y0 = yhat_model1[:,0]\n",
    "res_model1 = pe.state_jacob_int(model1,y0,k_model1,t_model1)"
   ]
  },
  {
   "cell_type": "code",
   "execution_count": 14,
   "metadata": {},
   "outputs": [
    {
     "name": "stdout",
     "output_type": "stream",
     "text": [
      "Jacobian\n",
      "[[0. 0.]]\n",
      "[[ 9.27370654e+05 -6.89875129e+00]]\n",
      "[[ 1.63014749e+06 -4.84419743e+01]]\n",
      "[[ 2.16757281e+06 -1.44611048e+02]]\n",
      "[[ 2.58077504e+06 -3.05211321e+02]]\n",
      "[[ 2.89900622e+06 -5.33798827e+02]]\n",
      "[[ 3.14403358e+06 -8.30288775e+02]]\n",
      "[[ 3.33115141e+06 -1.19188702e+03]]\n",
      "[[ 3.57842540e+06 -2.09397023e+03]]\n",
      "[[ 3.70681368e+06 -3.20044231e+03]]\n",
      "[[3763593.48611649   -5150.32635678]]\n",
      "[[3669696.49666203   -8853.71520985]]\n",
      "[[3482142.95125699  -12718.05799824]]\n",
      "[[3274617.8936603   -16431.03234524]]\n",
      "[[2905273.18131808  -22776.51257757]]\n"
     ]
    },
    {
     "data": {
      "image/png": "[encoded data removed]",
      "text/plain": [
       "<Figure size 432x288 with 1 Axes>"
      ]
     },
     "metadata": {
      "needs_background": "light"
     },
     "output_type": "display_data"
    }
   ],
   "source": [
    "plt.clf()\n",
    "plt.figure(1)\n",
    "plt.scatter(t_model1,yhat_model1)\n",
    "plt.plot(t_model1,res_model1[0][0,:])\n",
    "print('Jacobian')\n",
    "print(*res_model1[1],sep='\\n')"
   ]
  },
  {
   "cell_type": "code",
   "execution_count": 15,
   "metadata": {},
   "outputs": [
    {
     "name": "stdout",
     "output_type": "stream",
     "text": [
      "[[0. 0.]]\n",
      "[[ 2.03850240e+05 -1.51645094e+00]]\n",
      "[[ 1.91239764e+05 -5.68294084e+00]]\n",
      "[[ 1.80235874e+05 -1.20245551e+01]]\n",
      "[[ 1.70529865e+05 -2.01674476e+01]]\n",
      "[[ 1.61887954e+05 -2.98086976e+01]]\n",
      "[[ 1.54146949e+05 -4.07077335e+01]]\n",
      "[[ 1.47145782e+05 -5.26488068e+01]]\n",
      "[[ 1.34993931e+05 -7.89937583e+01]]\n",
      "[[ 1.24759970e+05 -1.07717064e+02]]\n",
      "[[112117.89296547   -153.42882842]]\n",
      "[[96071.44443225  -231.78734524]]\n",
      "[[84253.25752026  -307.72367208]]\n",
      "[[75300.52481657  -377.83503268]]\n",
      "[[63077.70297514  -494.51118897]]\n"
     ]
    }
   ],
   "source": [
    "N1 = 15\n",
    "J_normal_y = np.zeros((N1,1,2))\n",
    "for i in range(1,N1):\n",
    "    J_normal_y[i] = res_model1[1][i]/res_model1[0][:,i]\n",
    "print(*J_normal_y,sep='\\n')\n",
    "K1 = np.diag(k_model1)"
   ]
  },
  {
   "cell_type": "markdown",
   "metadata": {},
   "source": [
    "### Model 2"
   ]
  },
  {
   "cell_type": "code",
   "execution_count": 16,
   "metadata": {
    "scrolled": false
   },
   "outputs": [
    {
     "name": "stdout",
     "output_type": "stream",
     "text": [
      "Jacobian\n",
      "[[0. 0.]\n",
      " [0. 0.]]\n",
      "[[-3.90267081e-04 -1.62685326e-05]\n",
      " [ 1.69437807e-04 -1.93878548e-05]]\n",
      "[[-5.26574250e-04 -3.82839771e-05]\n",
      " [ 2.08403141e-04 -5.19365181e-05]]\n",
      "[[-5.25552588e-04 -5.14564067e-05]\n",
      " [ 1.97280549e-04 -7.60591874e-05]]\n",
      "[[-4.65126820e-04 -5.58872386e-05]\n",
      " [ 1.70508583e-04 -8.72084943e-05]]\n",
      "[[-3.07581678e-04 -4.93449214e-05]\n",
      " [ 1.13525940e-04 -8.08521169e-05]]\n",
      "[[-2.38931834e-04 -4.27692119e-05]\n",
      " [ 8.98380206e-05 -7.06632214e-05]]\n",
      "[[-1.84061115e-04 -3.60878218e-05]\n",
      " [ 7.07467410e-05 -5.98401691e-05]]\n",
      "[[-1.30737774e-07 -5.85794893e-08]\n",
      " [ 7.75995370e-08 -1.26581694e-07]]\n"
     ]
    },
    {
     "data": {
      "image/png": "[encoded data removed]",
      "text/plain": [
       "<Figure size 432x288 with 1 Axes>"
      ]
     },
     "metadata": {
      "needs_background": "light"
     },
     "output_type": "display_data"
    }
   ],
   "source": [
    "res_model2 = pe.state_jacob_int(model2,y0_model2,k_model2,t_model2)\n",
    "plt.figure(2)\n",
    "plt.plot(t_model2,yhat_model2[0,:],'bs',t_model2,yhat_model2[1,:],'r^')\n",
    "plt.plot(t_model2,res_model2[0][0,:],'b',t_model2,res_model2[0][1,:],'r')\n",
    "print('Jacobian')\n",
    "print(*res_model2[1],sep='\\n')"
   ]
  },
  {
   "cell_type": "code",
   "execution_count": 17,
   "metadata": {},
   "outputs": [
    {
     "name": "stdout",
     "output_type": "stream",
     "text": [
      "Jacobian\n",
      "[[0. 0.]\n",
      " [0. 0.]]\n",
      "[[-6.62515472e-09 -1.29206277e-08]\n",
      " [ 3.37533379e-09 -2.13929020e-08]]\n",
      "[[-4.72899490e-11 -5.76980397e-11]\n",
      " [ 1.21700787e-11 -9.99656522e-11]]\n",
      "[[ 1.62862363e-11  1.73084084e-11]\n",
      " [-4.05611031e-12  2.98050754e-11]]\n",
      "[[-7.03178867e-12  2.26933607e-12]\n",
      " [-1.27993848e-11 -3.53131082e-12]]\n",
      "[[ 4.06963287e-13 -2.37187984e-13]\n",
      " [ 7.54141058e-13  1.21194553e-13]]\n",
      "[[ 2.04140498e-12 -8.11671351e-13]\n",
      " [ 3.80972217e-12  8.89097834e-13]]\n",
      "[[ 2.61831544e-12 -1.01416036e-12]\n",
      " [ 4.93389455e-12  1.14942023e-12]]\n",
      "[[-7.08942659e-15  5.76723447e-14]\n",
      " [-8.32483559e-14  6.15121288e-14]]\n",
      "[[-6.65813063e-09 -1.29607534e-08]\n",
      " [ 3.38006288e-09 -2.14643726e-08]]\n"
     ]
    }
   ],
   "source": [
    "k0_model2 = np.array([1e4,1e4])\n",
    "res_model2_guess = pe.state_jacob_int(model2,y0_model2,k0_model2,t_model2)\n",
    "print('Jacobian')\n",
    "print(*res_model2_guess[1],sep='\\n')\n",
    "sum = res_model2_guess[1][0]\n",
    "for i in range(1,9):\n",
    "    sum += res_model2_guess[1][i]\n",
    "print(sum)"
   ]
  },
  {
   "cell_type": "markdown",
   "metadata": {},
   "source": [
    "# Scaling\n",
    "## Scaling of model1\n",
    "$$2NO+O_2\\leftrightarrow2NO_2$$\n",
    "$$\\frac{dy}{dt}=k_1(126.2-y)(91.9-y)^2-k_2y^2;~~y(0)=0$$\n",
    "Unit of $y$ is $[M]$, $t$ is $[T]$, $k_1$ is $[M^{-2}T^{-1}]$, and $k_2$ is $[M^{-1}T^{-1}]$.\n",
    "Insert $u=y/y_c$ and $\\bar{t}=t/t_c$\n",
    "$$\\frac{y_c}{t_c}\\frac{du}{d\\bar{t}}=k_1(126.2-y_cu)(91.9-y_cu)^2-k_2y_c^2u^2$$\n",
    "$$\\frac{du}{d\\bar{t}}=k_1\\frac{t_c}{y_c}(126.2-y_cu)(91.9-y_cu)^2-t_ck_2y_cu^2$$\n",
    "$$\\frac{du}{d\\bar{t}}=k_1t_cy_c^2(126.2/y_c-u)(91.9/y_c-u)^2-t_ck_2y_cu^2$$\n",
    "Let $y_c=91.9$ and $t_c=\\frac{1}{y_c^2k_1}$,\n",
    "$$\\frac{du}{d\\bar{t}}=(126.2/91.9-u)(1-u)^2-\\alpha u^2$$\n",
    "where $\\alpha = \\frac{k_2}{91.9k_1}$."
   ]
  },
  {
   "cell_type": "code",
   "execution_count": 18,
   "metadata": {},
   "outputs": [],
   "source": [
    "def model1_scaled(u,alpha):\n",
    "    dudt = (126.2/91.9-u)*(1-u)**2-alpha*u**2\n",
    "    return dudt"
   ]
  },
  {
   "cell_type": "code",
   "execution_count": 19,
   "metadata": {},
   "outputs": [],
   "source": [
    "yc1 = 91.9\n",
    "alpha1 = k_model1[1]/(yc1*k_model1[0])\n",
    "tc1 = 1/(yc1**2*k_model1[0])\n",
    "tbar1 = t_model1/tc1\n",
    "y0bar1 = y0/yc1\n",
    "Q1 = np.eye(1)"
   ]
  },
  {
   "cell_type": "code",
   "execution_count": 20,
   "metadata": {},
   "outputs": [],
   "source": [
    "res_model1_scaled = pe.state_jacob_int(model1_scaled,y0bar1,alpha1,tbar1)"
   ]
  },
  {
   "cell_type": "code",
   "execution_count": 21,
   "metadata": {
    "scrolled": true
   },
   "outputs": [
    {
     "data": {
      "text/plain": [
       "[<matplotlib.lines.Line2D at 0x7f328ef1a080>]"
      ]
     },
     "execution_count": 21,
     "metadata": {},
     "output_type": "execute_result"
    },
    {
     "data": {
      "image/png": "[encoded data removed]",
      "text/plain": [
       "<Figure size 432x288 with 1 Axes>"
      ]
     },
     "metadata": {
      "needs_background": "light"
     },
     "output_type": "display_data"
    }
   ],
   "source": [
    "plt.scatter(tbar1,yhat_model1/yc1)\n",
    "plt.plot(tbar1,res_model1_scaled[0][0,:])"
   ]
  },
  {
   "cell_type": "code",
   "execution_count": 22,
   "metadata": {},
   "outputs": [
    {
     "name": "stdout",
     "output_type": "stream",
     "text": [
      "Jacobian\n",
      "[[0.]]\n",
      "[[-3.16561338e-05]]\n",
      "[[-0.00022175]]\n",
      "[[-0.00066186]]\n",
      "[[-0.0013968]]\n",
      "[[-0.00244349]]\n",
      "[[-0.00379999]]\n",
      "[[-0.00545538]]\n",
      "[[-0.00958408]]\n",
      "[[-0.01464812]]\n",
      "[[-0.02357401]]\n",
      "[[-0.04052473]]\n",
      "[[-0.05820845]]\n",
      "[[-0.07520724]]\n",
      "[[-0.10425128]]\n"
     ]
    }
   ],
   "source": [
    "print('Jacobian')\n",
    "print(*res_model1_scaled[1],sep='\\n')"
   ]
  },
  {
   "cell_type": "code",
   "execution_count": 23,
   "metadata": {},
   "outputs": [
    {
     "name": "stdout",
     "output_type": "stream",
     "text": [
      "0.0025894030218937517\n",
      "[7.84646492e-07]\n"
     ]
    }
   ],
   "source": [
    "S_scaled1,g_scaled1 = pe.Sg_ode(model1_scaled,yhat_model1/yc1,Q1,alpha1,tbar1)\n",
    "print(S_scaled1)\n",
    "print(g_scaled1)"
   ]
  },
  {
   "cell_type": "markdown",
   "metadata": {},
   "source": [
    "## Scaling for parameter estimation\n",
    "$$\\frac{du}{d\\bar{t}}=k_1t_cy_c^2(126.2/y_c-u)(91.9/y_c-u)^2-t_ck_2y_cu^2$$\n",
    "Let $y_c=91.9$ and $t_c=t_\\text{end}$,\n",
    "$$\\frac{du}{d\\bar{t}}=91.9^2t_\\text{end}k_1(126.2/91.9-u)(1-u)^2-91.9t_\\text{end}k_2u^2$$\n",
    "$$\\frac{du}{d\\bar{t}}=\\bar{k}_1(126.2/91.9-u)(1-u)^2-\\bar{k}_2u^2$$\n",
    "where $k_1=\\frac{\\bar{k}_1}{91.9^2t_\\text{end}}$ and $k_2=\\frac{\\bar{k}_2}{91.9t_\\text{end}}$."
   ]
  },
  {
   "cell_type": "code",
   "execution_count": 24,
   "metadata": {},
   "outputs": [],
   "source": [
    "def model1_scaled_pe(u,kbar):\n",
    "    dudt = kbar[0]*(126.2/91.9-u)*(1-u)**2-kbar[1]*u**2\n",
    "    return dudt"
   ]
  },
  {
   "cell_type": "code",
   "execution_count": 25,
   "metadata": {},
   "outputs": [
    {
     "name": "stdout",
     "output_type": "stream",
     "text": [
      "[0.32937879 0.0035841 ]\n"
     ]
    }
   ],
   "source": [
    "k_guess1 = np.array([1e-6,1e-6])\n",
    "yc1 = 91.9\n",
    "tc1 = t_model1[-1]\n",
    "yhat_bar1 = yhat_model1/yc1\n",
    "tbar1 = t_model1/tc1\n",
    "kbar1 = np.empty(2)\n",
    "kbar1[0] = k_model1[0]*yc1**2*tc1\n",
    "kbar1[1] = k_model1[1]*yc1*tc1\n",
    "kbar10 = np.empty(2)\n",
    "kbar10[0] = k_guess1[0]*yc1**2*tc1\n",
    "kbar10[1] = k_guess1[1]*yc1*tc1\n",
    "print(kbar10)"
   ]
  },
  {
   "cell_type": "code",
   "execution_count": 26,
   "metadata": {},
   "outputs": [],
   "source": [
    "res_model1_scaled_pe= pe.state_jacob_int(model1_scaled_pe,y0bar1,kbar1,tbar1)"
   ]
  },
  {
   "cell_type": "code",
   "execution_count": 27,
   "metadata": {},
   "outputs": [
    {
     "data": {
      "text/plain": [
       "[<matplotlib.lines.Line2D at 0x7f328ef07320>]"
      ]
     },
     "execution_count": 27,
     "metadata": {},
     "output_type": "execute_result"
    },
    {
     "data": {
      "image/png": "[encoded data removed]",
      "text/plain": [
       "<Figure size 432x288 with 1 Axes>"
      ]
     },
     "metadata": {
      "needs_background": "light"
     },
     "output_type": "display_data"
    }
   ],
   "source": [
    "plt.scatter(tbar1,yhat_model1/yc1)\n",
    "plt.plot(tbar1,res_model1_scaled_pe[0][0,:])"
   ]
  },
  {
   "cell_type": "code",
   "execution_count": 28,
   "metadata": {
    "scrolled": true
   },
   "outputs": [
    {
     "name": "stdout",
     "output_type": "stream",
     "text": [
      "Jacobian\n",
      "[[0. 0.]]\n",
      "[[ 3.06368401e-02 -2.09522944e-05]]\n",
      "[[ 0.05385483 -0.00014713]]\n",
      "[[ 0.07160716 -0.00043901]]\n",
      "[[ 0.08525746 -0.00092661]]\n",
      "[[ 0.09577622 -0.0016208 ]]\n",
      "[[ 0.10386406 -0.00252077]]\n",
      "[[ 0.11004802 -0.00361859]]\n",
      "[[ 0.11821246 -0.00635738]]\n",
      "[[ 0.12246727 -0.00971647]]\n",
      "[[ 0.12432792 -0.01563676]]\n",
      "[[ 0.12122268 -0.02688159]]\n",
      "[[ 0.11503206 -0.038614  ]]\n",
      "[[ 0.10818949 -0.04987976]]\n",
      "[[ 0.09598011 -0.06914894]]\n"
     ]
    }
   ],
   "source": [
    "print('Jacobian')\n",
    "print(*res_model1_scaled_pe[1],sep='\\n')"
   ]
  },
  {
   "cell_type": "code",
   "execution_count": 29,
   "metadata": {},
   "outputs": [
    {
     "name": "stdout",
     "output_type": "stream",
     "text": [
      "0.0025893368224180016\n",
      "[-2.68253920e-06 -2.09193598e-07]\n"
     ]
    }
   ],
   "source": [
    "S_scaled1,g_scaled1 = pe.Sg_ode(model1_scaled_pe,yhat_model1/yc1,Q1,kbar1,tbar1)\n",
    "print(S_scaled1)\n",
    "print(g_scaled1)"
   ]
  },
  {
   "cell_type": "code",
   "execution_count": 30,
   "metadata": {},
   "outputs": [
    {
     "name": "stdout",
     "output_type": "stream",
     "text": [
      "[-4.04410683e-06 -2.09635909e-07]\n"
     ]
    }
   ],
   "source": [
    "g_reduced1 = g_scaled1@np.diag(kbar1)\n",
    "print(g_reduced1)"
   ]
  },
  {
   "cell_type": "code",
   "execution_count": 31,
   "metadata": {},
   "outputs": [],
   "source": [
    "res_model1_scaled_pe0= pe.state_jacob_int(model1_scaled_pe,y0bar1,kbar10,tbar1)"
   ]
  },
  {
   "cell_type": "code",
   "execution_count": 32,
   "metadata": {},
   "outputs": [
    {
     "data": {
      "text/plain": [
       "[<matplotlib.lines.Line2D at 0x7f328ef93b00>]"
      ]
     },
     "execution_count": 32,
     "metadata": {},
     "output_type": "execute_result"
    },
    {
     "data": {
      "image/png": "[encoded data removed]",
      "text/plain": [
       "<Figure size 432x288 with 1 Axes>"
      ]
     },
     "metadata": {
      "needs_background": "light"
     },
     "output_type": "display_data"
    }
   ],
   "source": [
    "plt.scatter(tbar1,yhat_model1/yc1)\n",
    "plt.plot(tbar1,res_model1_scaled_pe0[0][0,:])"
   ]
  },
  {
   "cell_type": "code",
   "execution_count": 33,
   "metadata": {},
   "outputs": [
    {
     "name": "stdout",
     "output_type": "stream",
     "text": [
      "Jacobian\n",
      "[[0. 0.]]\n",
      "[[ 3.41235144e-02 -1.01532784e-06]]\n",
      "[[ 6.61892411e-02 -8.67383011e-06]]\n",
      "[[ 9.63425069e-02 -2.83623794e-05]]\n",
      "[[ 1.24720572e-01 -6.50680528e-05]]\n",
      "[[ 1.51455070e-01 -1.23495145e-04]]\n",
      "[[ 0.17666247 -0.00020761]]\n",
      "[[ 0.2004411  -0.00032052]]\n",
      "[[ 0.24409517 -0.00064466]]\n",
      "[[ 0.28311925 -0.00111679]]\n",
      "[[ 0.33417027 -0.00213284]]\n",
      "[[ 0.40310947 -0.00473078]]\n",
      "[[ 0.45642816 -0.00852831]]\n",
      "[[ 0.49799093 -0.01355324]]\n",
      "[[ 0.55617513 -0.02722835]]\n"
     ]
    }
   ],
   "source": [
    "print('Jacobian')\n",
    "print(*res_model1_scaled_pe0[1],sep='\\n')"
   ]
  },
  {
   "cell_type": "code",
   "execution_count": 34,
   "metadata": {},
   "outputs": [
    {
     "name": "stdout",
     "output_type": "stream",
     "text": [
      "0.47500925061657884\n",
      "[-0.75455613  0.01324812]\n"
     ]
    }
   ],
   "source": [
    "S_scaled10,g_scaled10 = pe.Sg_ode(model1_scaled_pe,yhat_model1/yc1,Q1,kbar10,tbar1)\n",
    "print(S_scaled10)\n",
    "print(g_scaled10)"
   ]
  },
  {
   "cell_type": "code",
   "execution_count": 35,
   "metadata": {},
   "outputs": [
    {
     "name": "stdout",
     "output_type": "stream",
     "text": [
      "[-2.48534785e-01  4.74825852e-05]\n"
     ]
    }
   ],
   "source": [
    "g_reduced10 = g_scaled10@np.diag(kbar10)\n",
    "print(g_reduced10)"
   ]
  },
  {
   "cell_type": "markdown",
   "metadata": {},
   "source": [
    "## Scaling of model2\n",
    "\\begin{align*}\n",
    "\\frac{dy_1}{dt}=&-k_1\\left(y_1^2-y_2\\frac{2-2y_1-y_2}{3K_1}\\right)-k_2\\left(y_1y_2-\\frac{(1-y_1-2y_2)(2-2y_1-y_2)}{9K_2}\\right);~~y_1(0)=1\\\\\n",
    "\\frac{dy_2}{dt}=&\\frac{k_1}{2}\\left(y_1^2-y_2\\frac{2-2y_1-y_2}{3K_1}\\right)-k_2\\left(y_1y_2-\\frac{(1-y_1-2y_2)(2-2y_1-y_2)}{9K_2}\\right);~~~~y_2(0)=0\\\\\n",
    "\\end{align*}\n",
    "Introducing $u_1=\\frac{y_1}{M_1},~~u_2=\\frac{y_2}{M_2},~~\\bar{t}=k_1M_1t$\n",
    "\\begin{align*}\n",
    "M_1^2k_1\\frac{du_1}{d\\bar{t}}=&-k_1\\left(M_1^2u_1^2-M_2u_2\\frac{2-2M_1u_1-M_2u_2}{3K_1}\\right)\\\\\n",
    "&~~-k_2\\left(M_1M_2u_1u_2-\\frac{(1-M_1u_1-2M_2u_2)(2-2M_1u_1-M_2u_2)}{9K_2}\\right)\\\\\n",
    "\\frac{du_1}{d\\bar{t}}=&-\\left(u_1^2-\\beta u_2\\frac{2/M_1-2u_1-\\beta u_2}{3K_1}\\right)\\\\\n",
    "&~~-\\alpha\\left(\\beta u_1u_2-\\frac{(1/M_1-u_1-2\\beta u_2)(2/M_1-2u_1-\\beta u_2)}{9K_2}\\right)\\\\\n",
    "M_1M_2k_1\\frac{du_2}{d\\bar{t}}=&\\frac{k_1}{2}\\left(M_1^2u_1^2-M_2u_2\\frac{2-2M_1u_1-M_2u_2}{3K_1}\\right)\\\\\n",
    "&~~-k_2\\left(M_1M_2u_1u_2-\\frac{(1-M_1u_1-2M_2u_2)(2-2M_1u_1-M_2u_2)}{9K_2}\\right)\\\\\n",
    "\\frac{du_2}{d\\bar{t}}=&\\frac{1}{2}\\left(\\beta^{-1}u_1^2-u_2\\frac{2/M_1-2u_1-\\beta u_2}{3K_1}\\right)\\\\\n",
    "&~~-\\alpha\\left(u_1u_2-\\frac{(1/M_1-u_1-2\\beta u_2)(2/M_2-2\\beta^{-1}u_1-u_2)}{9K_2}\\right)\\\\\n",
    "\\end{align*}\n",
    "where $\\alpha=\\frac{k_2}{k_1}$ and $\\beta=\\frac{M_2}{M_1}$."
   ]
  },
  {
   "cell_type": "code",
   "execution_count": 36,
   "metadata": {},
   "outputs": [],
   "source": [
    "def model2_scaled(u,alpha):\n",
    "    K1 = 0.242\n",
    "    K2 = 0.428\n",
    "    dudt = np.empty(2)\n",
    "    M1 = 1\n",
    "    M2 = 0.2\n",
    "    beta = M2/M1\n",
    "    r1 = u[0]**2-beta*u[1]*(2/M1-2*u[0]-beta*u[1])/(3*K1)\n",
    "    r2 = beta*u[0]*u[1]-(1/M1-u[0]-2*beta*u[1])*(2/M1-2*u[0]-beta*u[1])/(9*K2)\n",
    "    dudt[0] = -r1-alpha*r2\n",
    "    dudt[1] = r1/(beta*2)-alpha*r2/beta\n",
    "    return dudt"
   ]
  },
  {
   "cell_type": "code",
   "execution_count": 37,
   "metadata": {},
   "outputs": [],
   "source": [
    "alpha2 = k_model2[1]/k_model2[0]\n",
    "tbar2 = k_model2[0]*t_model2\n",
    "res_model2_scaled = pe.state_jacob_int(model2_scaled,y0_model2,alpha2,tbar2)"
   ]
  },
  {
   "cell_type": "code",
   "execution_count": 38,
   "metadata": {},
   "outputs": [
    {
     "data": {
      "text/plain": [
       "[<matplotlib.lines.Line2D at 0x7f328edfee48>,\n",
       " <matplotlib.lines.Line2D at 0x7f328edfef28>]"
      ]
     },
     "execution_count": 38,
     "metadata": {},
     "output_type": "execute_result"
    },
    {
     "data": {
      "image/png": "[encoded data removed]",
      "text/plain": [
       "<Figure size 432x288 with 1 Axes>"
      ]
     },
     "metadata": {
      "needs_background": "light"
     },
     "output_type": "display_data"
    }
   ],
   "source": [
    "plt.plot(tbar2,yhat_model2[0,:],'bs',tbar2,yhat_model2[1,:]/0.2,'r^')\n",
    "plt.plot(tbar2,res_model2_scaled[0][0,:],'b',tbar2,res_model2_scaled[0][1,:],'r')"
   ]
  },
  {
   "cell_type": "code",
   "execution_count": 39,
   "metadata": {},
   "outputs": [],
   "source": [
    "M1 = 1\n",
    "M2 = 0.2\n",
    "yhat_bar2 = np.empty((2,9))\n",
    "yhat_bar2[0] = yhat_model2[0]/M1\n",
    "yhat_bar2[1] = yhat_model2[1]/M2\n",
    "Q2 = np.eye(2)"
   ]
  },
  {
   "cell_type": "code",
   "execution_count": 40,
   "metadata": {},
   "outputs": [
    {
     "name": "stdout",
     "output_type": "stream",
     "text": [
      "7.654116043872022e-05\n",
      "[-0.00057352]\n"
     ]
    }
   ],
   "source": [
    "S_scaled2,g_scaled2 = pe.Sg_ode(model2_scaled,yhat_bar2,Q2,alpha2,tbar2)\n",
    "print(S_scaled2)\n",
    "print(g_scaled2)"
   ]
  },
  {
   "cell_type": "code",
   "execution_count": 41,
   "metadata": {},
   "outputs": [
    {
     "name": "stdout",
     "output_type": "stream",
     "text": [
      "Jacobian\n",
      "[[0.]\n",
      " [0.]]\n",
      "[[-0.00575957]\n",
      " [-0.03433398]]\n",
      "[[-0.01356937]\n",
      " [-0.09204756]]\n",
      "[[-0.01824057]\n",
      " [-0.13488666]]\n",
      "[[-0.01981102]\n",
      " [-0.15465307]]\n",
      "[[-0.01748836]\n",
      " [-0.14335525]]\n",
      "[[-0.01516145]\n",
      " [-0.12531464]]\n",
      "[[-0.01279402]\n",
      " [-0.10611978]]\n",
      "[[-2.03645766e-05]\n",
      " [-2.20684400e-04]]\n"
     ]
    }
   ],
   "source": [
    "print('Jacobian')\n",
    "print(*res_model2_scaled[1],sep='\\n')"
   ]
  },
  {
   "cell_type": "markdown",
   "metadata": {},
   "source": [
    "## Scaling for parameter estimation\n",
    "\\begin{align*}\n",
    "\\frac{M_1}{t_c}\\frac{du_1}{d\\bar{t}}=&-k_1\\left(M_1^2u_1^2-M_2u_2\\frac{2-2M_1u_1-M_2u_2}{3K_1}\\right)\\\\\n",
    "&-k_2\\left(M_1M_2u_1u_2-\\frac{(1-M_1u_1-2M_2u_2)(2-2M_1u_1-M_2u_2)}{9K_2}\\right)\\\\\n",
    "=&-k_1M_1^2\\left(u_1^2-\\frac{M_2}{M_1}u_2\\frac{\\frac{2}{M_1}-2u_1-\\frac{M_2}{M_1}u_2}{3K_1}\\right)\\\\\n",
    "&-k_2M_1^2\\left(\\frac{M_2}{M_1}u_1u_2-\\frac{(\\frac{1}{M_1}-u_1-2\\frac{M_2}{M_1}u_2)(\\frac{2}{M_1}-2u_1-\\frac{M_2}{M_1}u_2)}{9K_2}\\right)\\\\\n",
    "\\frac{du_1}{d\\bar{t}}=&-k_1M_1t_c\\left(u_1^2-\\frac{M_2}{M_1}u_2\\frac{\\frac{2}{M_1}-2u_1-\\frac{M_2}{M_1}u_2}{3K_1}\\right)\\\\\n",
    "&-k_2M_1t_c\\left(\\frac{M_2}{M_1}u_1u_2-\\frac{(\\frac{1}{M_1}-u_1-2\\frac{M_2}{M_1}u_2)(\\frac{2}{M_1}-2u_1-\\frac{M_2}{M_1}u_2)}{9K_2}\\right)\n",
    "\\end{align*}\n",
    "\n",
    "\\begin{align*}\n",
    "\\frac{M_2}{t_c}\\frac{du_2}{d\\bar{t}}=&\\frac{k_1}{2}\\left(M_1^2u_1^2-M_2u_2\\frac{2-2M_1u_1-M_2u_2}{3K_1}\\right)\\\\\n",
    "&-k_2\\left(M_1M_2u_1u_2-\\frac{(1-M_1u_1-2M_2u_2)(2-2M_1u_1-M_2u_2)}{9K_2}\\right)\\\\\n",
    "=&\\frac{k_1M_1^2}{2}\\left(u_1^2-\\frac{M_2}{M_1}u_2\\frac{\\frac{2}{M_1}-2u_1-\\frac{M_2}{M_1}u_2}{3K_1}\\right)\\\\\n",
    "&-k_2M_1^2\\left(\\frac{M_2}{M_1}u_1u_2-\\frac{(\\frac{1}{M_1}-u_1-2\\frac{M_2}{M_1}u_2)(\\frac{2}{M_1}-2u_1-\\frac{M_2}{M_1}u_2)}{9K_2}\\right)\\\\\n",
    "\\frac{du_2}{d\\bar{t}}=&\\frac{k_1M_1t_c}{2}\\frac{M_1}{M_2}\\left(u_1^2-\\frac{M_2}{M_1}u_2\\frac{\\frac{2}{M_1}-2u_1-\\frac{M_2}{M_1}u_2}{3K_1}\\right)\\\\\n",
    "&-k_2M_1t_c\\frac{M_1}{M_2}\\left(\\frac{M_2}{M_1}u_1u_2-\\frac{(\\frac{1}{M_1}-u_1-2\\frac{M_2}{M_1}u_2)(\\frac{2}{M_1}-2u_1-\\frac{M_2}{M_1}u_2)}{9K_2}\\right)\n",
    "\\end{align*}"
   ]
  },
  {
   "cell_type": "markdown",
   "metadata": {},
   "source": [
    "Let $M_1=M_2=M$ and $t_c=t_\\text{end}$,\n",
    "\\begin{align*}\n",
    "\\frac{du_1}{d\\bar{t}}=&-\\bar{k}_1\\left(u_1^2-u_2\\frac{\\frac{2}{M}-2u_1-u_2}{3K_1}\\right)\\\\\n",
    "&-\\bar{k}_2\\left(u_1u_2-\\frac{(\\frac{1}{M}-u_1-2u_2)(\\frac{2}{M}-2u_1-u_2)}{9K_2}\\right)\n",
    "\\end{align*}\n",
    "\\begin{align*}\n",
    "\\frac{du_2}{d\\bar{t}}=&\\frac{\\bar{k}_1}{2}\\left(u_1^2-u_2\\frac{\\frac{2}{M}-2u_1-u_2}{3K_1}\\right)\\\\\n",
    "&-\\bar{k}_2\\left(u_1u_2-\\frac{(\\frac{1}{M}-u_1-2u_2)(\\frac{2}{M}-2u_1-u_2)}{9K_2}\\right)\n",
    "\\end{align*}\n",
    "where $k_1=\\frac{\\bar{k}_1}{Mt_\\text{end}}$ and $k_2=\\frac{\\bar{k}_2}{Mt_\\text{end}}$."
   ]
  },
  {
   "cell_type": "code",
   "execution_count": 42,
   "metadata": {},
   "outputs": [],
   "source": [
    "def model2_scaled_pe(u,kbar):\n",
    "    K1 = 0.242\n",
    "    K2 = 0.428\n",
    "    M = 1\n",
    "    r1 = kbar[0]*(u[0]**2-u[1]*(2/M-2*u[0]-u[1])/(3*K1))\n",
    "    r2 = kbar[1]*(u[0]*u[1]-(1/M-u[0]-2*u[1])*(2/M-2*u[0]-u[1])/(9*K2))\n",
    "    dudt = np.empty(2)\n",
    "    dudt[0] = -r1-r2\n",
    "    dudt[1] = r1/2-r2\n",
    "    return dudt"
   ]
  },
  {
   "cell_type": "code",
   "execution_count": 43,
   "metadata": {},
   "outputs": [
    {
     "name": "stdout",
     "output_type": "stream",
     "text": [
      "[169.69999298 169.69999298]\n"
     ]
    }
   ],
   "source": [
    "k20 = np.array([1e4,1e4])\n",
    "M = 1.0\n",
    "yhat_bar2 = yhat_model2/M\n",
    "y0bar2 = yhat_bar2[:,0]\n",
    "tc2 = t_model2[-1]\n",
    "tbar2 = t_model2/tc2\n",
    "kbar2 = np.empty(2)\n",
    "kbar2[0] = k_model2[0]*M*tc2\n",
    "kbar2[1] = k_model2[1]*M*tc2\n",
    "kbar20 = np.empty(2)\n",
    "kbar20[0] = k20[0]*(M*tc2)\n",
    "kbar20[1] = k20[1]*(M*tc2)\n",
    "print(kbar20)"
   ]
  },
  {
   "cell_type": "code",
   "execution_count": 44,
   "metadata": {},
   "outputs": [],
   "source": [
    "res_model2_scaled_pe= pe.state_jacob_int(model2_scaled_pe,y0bar2,kbar2,tbar2)"
   ]
  },
  {
   "cell_type": "code",
   "execution_count": 45,
   "metadata": {},
   "outputs": [
    {
     "data": {
      "text/plain": [
       "[<matplotlib.lines.Line2D at 0x7f328ed71e48>,\n",
       " <matplotlib.lines.Line2D at 0x7f328ed71f28>]"
      ]
     },
     "execution_count": 45,
     "metadata": {},
     "output_type": "execute_result"
    },
    {
     "data": {
      "image/png": "[encoded data removed]",
      "text/plain": [
       "<Figure size 432x288 with 1 Axes>"
      ]
     },
     "metadata": {
      "needs_background": "light"
     },
     "output_type": "display_data"
    }
   ],
   "source": [
    "plt.plot(tbar2,yhat_bar2[0,:],'bs',tbar2,yhat_bar2[1,:],'r^')\n",
    "plt.plot(tbar2,res_model2_scaled_pe[0][0,:],'b',tbar2,res_model2_scaled_pe[0][1,:],'r')"
   ]
  },
  {
   "cell_type": "code",
   "execution_count": 46,
   "metadata": {},
   "outputs": [
    {
     "name": "stdout",
     "output_type": "stream",
     "text": [
      "Jacobian\n",
      "[[0. 0.]\n",
      " [0. 0.]]\n",
      "[[-0.02299987 -0.00095702]\n",
      " [ 0.00998918 -0.00114103]]\n",
      "[[-0.03103604 -0.00225477]\n",
      " [ 0.01228567 -0.00305904]]\n",
      "[[-0.03096979 -0.00303101]\n",
      " [ 0.01162685 -0.00448239]]\n",
      "[[-0.02740395 -0.00329238]\n",
      " [ 0.01004713 -0.00513979]]\n",
      "[[-0.01812099 -0.00290635]\n",
      " [ 0.00669142 -0.00476428]]\n",
      "[[-0.01407999 -0.00251985]\n",
      " [ 0.00529579 -0.00416511]]\n",
      "[[-0.01084503 -0.00212588]\n",
      " [ 0.00417    -0.00352608]]\n",
      "[[-7.41415510e-06 -3.38694059e-06]\n",
      " [ 4.44880820e-06 -7.33706364e-06]]\n"
     ]
    }
   ],
   "source": [
    "print('Jacobian')\n",
    "print(*res_model2_scaled_pe[1],sep='\\n')"
   ]
  },
  {
   "cell_type": "code",
   "execution_count": 47,
   "metadata": {},
   "outputs": [
    {
     "name": "stdout",
     "output_type": "stream",
     "text": [
      "7.051009882562633e-06\n",
      "[5.32582329e-07 3.66306911e-08]\n"
     ]
    }
   ],
   "source": [
    "S_scaled2,g_scaled2 = pe.Sg_ode(model2_scaled_pe,yhat_bar2,Q2,kbar2,tbar2)\n",
    "print(S_scaled2)\n",
    "print(g_scaled2)"
   ]
  },
  {
   "cell_type": "code",
   "execution_count": 48,
   "metadata": {},
   "outputs": [
    {
     "name": "stdout",
     "output_type": "stream",
     "text": [
      "[3.20493743e-06 2.48792094e-07]\n"
     ]
    }
   ],
   "source": [
    "g_reduced2 = g_scaled2@np.diag(kbar2)\n",
    "print(g_reduced2)"
   ]
  },
  {
   "cell_type": "code",
   "execution_count": 49,
   "metadata": {},
   "outputs": [],
   "source": [
    "res_model2_scaled_pe0= pe.state_jacob_int(model2_scaled_pe,y0bar2,kbar20,tbar2)"
   ]
  },
  {
   "cell_type": "code",
   "execution_count": 50,
   "metadata": {},
   "outputs": [
    {
     "data": {
      "text/plain": [
       "[<matplotlib.lines.Line2D at 0x7f328ecdf4a8>,\n",
       " <matplotlib.lines.Line2D at 0x7f328ecdf588>]"
      ]
     },
     "execution_count": 50,
     "metadata": {},
     "output_type": "execute_result"
    },
    {
     "data": {
      "image/png": "[encoded data removed]",
      "text/plain": [
       "<Figure size 432x288 with 1 Axes>"
      ]
     },
     "metadata": {
      "needs_background": "light"
     },
     "output_type": "display_data"
    }
   ],
   "source": [
    "plt.plot(tbar2,yhat_bar2[0,:],'bs',tbar2,yhat_bar2[1,:],'r^')\n",
    "plt.plot(tbar2,res_model2_scaled_pe0[0][0,:],'b',tbar2,res_model2_scaled_pe0[0][1,:],'r')"
   ]
  },
  {
   "cell_type": "code",
   "execution_count": 51,
   "metadata": {},
   "outputs": [
    {
     "name": "stdout",
     "output_type": "stream",
     "text": [
      "Jacobian\n",
      "[[0. 0.]\n",
      " [0. 0.]]\n",
      "[[-4.38236014e-07 -7.88192754e-07]\n",
      " [ 2.19120901e-07 -1.29974882e-06]]\n",
      "[[ 4.89706450e-10  6.40922748e-10]\n",
      " [-2.32276129e-10  1.09202552e-09]]\n",
      "[[-6.80755065e-11 -9.65273604e-11]\n",
      " [ 2.88830072e-11 -3.18692351e-10]]\n",
      "[[ 5.46895495e-11  6.23940348e-11]\n",
      " [-2.33607529e-11  2.18315751e-10]]\n",
      "[[-2.61679587e-11  2.82837751e-11]\n",
      " [ 5.98140432e-12 -1.30885301e-10]]\n",
      "[[-3.88541674e-13  7.26346019e-11]\n",
      " [-6.73578764e-12 -4.37529818e-11]]\n",
      "[[-2.49307383e-13  4.59197942e-11]\n",
      " [-4.27221023e-12 -2.77239407e-11]]\n",
      "[[ 2.80946635e-12  3.77180756e-11]\n",
      " [-4.26672754e-12 -4.85938845e-12]]\n"
     ]
    }
   ],
   "source": [
    "print('Jacobian')\n",
    "print(*res_model2_scaled_pe0[1],sep='\\n')"
   ]
  },
  {
   "cell_type": "code",
   "execution_count": 52,
   "metadata": {},
   "outputs": [
    {
     "name": "stdout",
     "output_type": "stream",
     "text": [
      "0.27500813434344207\n",
      "[1.84682353e-07 2.06821488e-07]\n"
     ]
    }
   ],
   "source": [
    "S_scaled20,g_scaled20 = pe.Sg_ode(model2_scaled_pe,yhat_bar2,Q2,kbar20,tbar2)\n",
    "print(S_scaled20)\n",
    "print(g_scaled20)"
   ]
  },
  {
   "cell_type": "code",
   "execution_count": 53,
   "metadata": {},
   "outputs": [
    {
     "name": "stdout",
     "output_type": "stream",
     "text": [
      "[3.1340594e-05 3.5097605e-05]\n"
     ]
    }
   ],
   "source": [
    "g_reduced20 = g_scaled20@np.diag(kbar20)\n",
    "print(g_reduced20)"
   ]
  },
  {
   "cell_type": "markdown",
   "metadata": {},
   "source": [
    "### Reduced Jacobian\n",
    "Reduced parameter sensitivity matrix $\\mathbf{J}_\\text{R}$ is\n",
    "$$\\mathbf{J}_\\text{R}=\\mathbf{JK}$$\n",
    "where $\\mathbf{K}=\\text{diag}(k_1,\\cdots,k_p)$"
   ]
  },
  {
   "cell_type": "code",
   "execution_count": 54,
   "metadata": {
    "scrolled": true
   },
   "outputs": [
    {
     "name": "stdout",
     "output_type": "stream",
     "text": [
      "[[[ 0.00000000e+00  0.00000000e+00]\n",
      "  [ 0.00000000e+00  0.00000000e+00]]\n",
      "\n",
      " [[-1.38407046e-01 -6.49996122e-03]\n",
      "  [ 6.01121928e-02 -7.74974246e-03]]\n",
      "\n",
      " [[-1.86766528e-01 -1.53141562e-02]\n",
      "  [ 7.39318554e-02 -2.07766695e-02]]\n",
      "\n",
      " [[-1.86367852e-01 -2.05863151e-02]\n",
      "  [ 6.99672891e-02 -3.04439858e-02]]\n",
      "\n",
      " [[-1.64909612e-01 -2.23615569e-02]\n",
      "  [ 6.04609526e-02 -3.49089330e-02]]\n",
      "\n",
      " [[-1.09047226e-01 -1.97396515e-02]\n",
      "  [ 4.02671689e-02 -3.23585114e-02]]\n",
      "\n",
      " [[-8.47296091e-02 -1.71145835e-02]\n",
      "  [ 3.18686135e-02 -2.82890043e-02]]\n",
      "\n",
      " [[-6.52625002e-02 -1.44387478e-02]\n",
      "  [ 2.50939647e-02 -2.39488130e-02]]\n",
      "\n",
      " [[-4.46163943e-05 -2.30037713e-05]\n",
      "  [ 2.67717330e-05 -4.98326232e-05]]]\n"
     ]
    }
   ],
   "source": [
    "K2 = np.diag(kbar2)\n",
    "JR2 = res_model2_scaled_pe[1]@K2\n",
    "print(JR2)"
   ]
  },
  {
   "cell_type": "code",
   "execution_count": 55,
   "metadata": {},
   "outputs": [
    {
     "name": "stdout",
     "output_type": "stream",
     "text": [
      "[[[ 0.00000000e+00  0.00000000e+00]\n",
      "  [ 0.00000000e+00  0.00000000e+00]]\n",
      "\n",
      " [[-2.63718664e-06 -5.35332859e-06]\n",
      "  [ 1.31861074e-06 -8.82776765e-06]]\n",
      "\n",
      " [[ 2.94692190e-09  4.35308502e-09]\n",
      "  [-1.39777537e-09  7.41693124e-09]]\n",
      "\n",
      " [[-4.09660117e-10 -6.55604451e-10]\n",
      "  [ 1.73810181e-10 -2.16452748e-09]]\n",
      "\n",
      " [[ 3.29107022e-10  4.23774221e-10]\n",
      "  [-1.40578738e-10  1.48277936e-09]]\n",
      "\n",
      " [[-1.57471748e-10  1.92100652e-10]\n",
      "  [ 3.59944849e-11 -8.88960246e-10]]\n",
      "\n",
      " [[-2.33813945e-12  4.93327158e-10]\n",
      "  [-4.05341612e-11 -2.97166001e-10]]\n",
      "\n",
      " [[-1.50026488e-12  3.11882779e-10]\n",
      "  [-2.57090139e-11 -1.88298311e-10]]\n",
      "\n",
      " [[ 1.69066140e-11  2.56177504e-10]\n",
      "  [-2.56760205e-11 -3.30044941e-11]]]\n"
     ]
    }
   ],
   "source": [
    "K20 = np.diag(kbar20)\n",
    "JR20 = res_model2_scaled_pe0[1]@K2\n",
    "print(JR20)"
   ]
  },
  {
   "cell_type": "markdown",
   "metadata": {},
   "source": [
    "# Parameter estimation with Levenberg-Marquardt method\n",
    "## Model 1 "
   ]
  },
  {
   "cell_type": "code",
   "execution_count": 56,
   "metadata": {},
   "outputs": [
    {
     "name": "stdout",
     "output_type": "stream",
     "text": [
      "Iteration | Evaluation | Objective function | Reduced gradient | mu\n",
      "         0\t         1\t\t   4.75e-01\t\t   2.49e-01\t\t  1.30e-03\n",
      "         1\t         2\t\t   5.74e-02\t\t   1.19e-01\t\t  4.35e-04\n",
      "         2\t         3\t\t   1.17e-02\t\t   1.88e-02\t\t  1.45e-04\n",
      "         3\t         4\t\t   1.07e-02\t\t   9.06e-04\t\t  4.83e-05\n",
      "         4\t         5\t\t   1.06e-02\t\t   8.49e-05\t\t  1.61e-05\n",
      "         5\t         6\t\t   9.76e-03\t\t   4.74e-04\t\t  5.37e-06\n",
      "         6\t         7\t\t   2.91e-03\t\t   1.10e-03\t\t  1.79e-06\n",
      "         7\t         8\t\t   2.59e-03\t\t   1.60e-04\t\t  5.96e-07\n",
      "         8\t         9\t\t   2.59e-03\t\t   4.19e-06\t\t  1.99e-07\n",
      "         9\t        10\t\t   2.59e-03\t\t   3.72e-07\t\t  6.63e-08\n"
     ]
    }
   ],
   "source": [
    "pe1 = pe.lm(model1_scaled_pe,yhat_bar1,Q1,kbar10,tbar1)"
   ]
  },
  {
   "cell_type": "code",
   "execution_count": 57,
   "metadata": {},
   "outputs": [
    {
     "name": "stdout",
     "output_type": "stream",
     "text": [
      "[1.50760173 1.00221855]\n",
      "[[0.         0.04950383 0.09275549 0.13086482 0.16468117 0.19486079\n",
      "  0.2219443  0.24634362 0.28844777 0.32330318 0.36527425 0.41564529\n",
      "  0.44972035 0.47320413 0.50118002]]\n",
      "[10, 9]\n"
     ]
    }
   ],
   "source": [
    "print(*pe1,sep='\\n')"
   ]
  },
  {
   "cell_type": "code",
   "execution_count": 58,
   "metadata": {},
   "outputs": [
    {
     "name": "stdout",
     "output_type": "stream",
     "text": [
      "[1.50756672 1.00211436]\n"
     ]
    }
   ],
   "source": [
    "print(kbar1)"
   ]
  },
  {
   "cell_type": "code",
   "execution_count": 59,
   "metadata": {},
   "outputs": [
    {
     "data": {
      "text/plain": [
       "[<matplotlib.lines.Line2D at 0x7f328eca8a58>]"
      ]
     },
     "execution_count": 59,
     "metadata": {},
     "output_type": "execute_result"
    },
    {
     "data": {
      "image/png": "[encoded data removed]",
      "text/plain": [
       "<Figure size 432x288 with 1 Axes>"
      ]
     },
     "metadata": {
      "needs_background": "light"
     },
     "output_type": "display_data"
    }
   ],
   "source": [
    "plt.scatter(tbar1,yhat_model1/yc1)\n",
    "plt.plot(tbar1,pe1[1][0,:])"
   ]
  },
  {
   "cell_type": "code",
   "execution_count": 60,
   "metadata": {
    "scrolled": true
   },
   "outputs": [
    {
     "name": "stdout",
     "output_type": "stream",
     "text": [
      "Iteration | Evaluation | Objective function | Reduced gradient | mu\n",
      "         0\t         1\t\t   7.05e-06\t\t   3.20e-06\t\t  4.42e-06\n"
     ]
    }
   ],
   "source": [
    "pe2 = pe.lm(model2_scaled_pe,yhat_bar2,Q2,kbar2,tbar2)"
   ]
  },
  {
   "cell_type": "code",
   "execution_count": 61,
   "metadata": {},
   "outputs": [
    {
     "name": "stdout",
     "output_type": "stream",
     "text": [
      "[array([6.01773145, 6.79190282]), array([[1.        , 0.82833156, 0.70540696, 0.62146441, 0.56432376,\n",
      "        0.49898239, 0.48109735, 0.4693448 , 0.443299  ],\n",
      "       [0.        , 0.07379222, 0.11221304, 0.13131486, 0.14069828,\n",
      "        0.14727322, 0.1481463 , 0.14843863, 0.14773838]]), [8, 8]]\n"
     ]
    }
   ],
   "source": [
    "print(pe2)"
   ]
  }
 ],
 "metadata": {
  "kernelspec": {
   "display_name": "Python 3",
   "language": "python",
   "name": "python3"
  },
  "language_info": {
   "codemirror_mode": {
    "name": "ipython",
    "version": 3
   },
   "file_extension": ".py",
   "mimetype": "text/x-python",
   "name": "python",
   "nbconvert_exporter": "python",
   "pygments_lexer": "ipython3",
   "version": "3.7.3"
  }
 },
 "nbformat": 4,
 "nbformat_minor": 2
}
