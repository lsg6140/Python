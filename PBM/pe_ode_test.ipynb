{
 "cells": [
  {
   "cell_type": "code",
   "execution_count": 1,
   "metadata": {},
   "outputs": [],
   "source": [
    "import pe_ode as pe\n",
    "import numpy as np\n",
    "import matplotlib.pyplot as plt\n",
    "from scipy.integrate import solve_ivp, odeint"
   ]
  },
  {
   "cell_type": "markdown",
   "metadata": {},
   "source": [
    "# Test of Parameter Estimation methods for ODE model\n",
    "## Model 1: Homogeneous gas phase reaction model\n",
    "$$2NO+O_2\\leftrightarrow2NO_2$$\n",
    "is described by the following equation\n",
    "$$\\frac{dy}{dt}=k_1(126.2-y)(91.9-y)^2-k_2y^2;~~y(0)=0$$"
   ]
  },
  {
   "cell_type": "code",
   "execution_count": 2,
   "metadata": {},
   "outputs": [],
   "source": [
    "def model1(y,k):\n",
    "    dydt = k[0]*(126.2-y)*(91.9-y)**2-k[1]*y**2\n",
    "    return dydt"
   ]
  },
  {
   "cell_type": "markdown",
   "metadata": {},
   "source": [
    "## Model 2: Pyrolytic dehydrogenation model\n",
    "Pyrolytic dehydrogenation of benzene to diphenyl and triphenyl\n",
    "$$2C_2H_6\\longleftrightarrow C_{12}H_{10}+H_2$$\n",
    "$$C_6H_6+C_{12}H_{10}\\longleftrightarrow C_{10}H_{14}+H_2$$\n",
    "with differential equations model\n",
    "\\begin{align*}\n",
    "\\frac{dy_1}{dt}=&-r_1-r_2;~~y_1(0)=1\\\\\n",
    "\\frac{dy_2}{dt}=&\\frac{r_1}{2}-r_2;~~~~y_2(0)=0\\\\\n",
    "r_1=&k_1\\left(y_1^2-y_2\\frac{2-2y_1-y_2}{3K_1}\\right)\\\\\n",
    "r_2=&k_2\\left(y_1y_2-\\frac{(1-y_1-2y_2)(2-2y_1-y_2)}{9K_2}\\right)\n",
    "\\end{align*}\n",
    "with $K_1=0.242$ and $K_2=0.428$"
   ]
  },
  {
   "cell_type": "code",
   "execution_count": 3,
   "metadata": {},
   "outputs": [],
   "source": [
    "def model2(y,k):\n",
    "    K1 = 0.242\n",
    "    K2 = 0.428\n",
    "    r1 = k[0]*(y[0]**2-y[1]*(2-2*y[0]-y[1])/(3*K1))\n",
    "    r2 = k[1]*(y[0]*y[1]-(1-y[0]-2*y[1])*(2-2*y[0]-y[1])/(9*K2))\n",
    "    dydt = np.empty(2)\n",
    "    dydt[0] = -r1-r2\n",
    "    dydt[1] = r1/2-r2\n",
    "    return dydt"
   ]
  },
  {
   "cell_type": "markdown",
   "metadata": {},
   "source": [
    "## Jacobian\n",
    "### Model 1\n",
    "Differential equation $\\frac{d\\mathbf{J}}{dt}$ with $\\mathbf{J}=\\frac{\\partial\\mathbf{y}}{\\partial\\mathbf{k}}$ is\n",
    "$$\\frac{d\\mathbf{J}}{dt}=\\frac{\\partial\\mathbf{f}}{\\partial\\mathbf{y}}\\mathbf{J}+\\frac{\\partial\\mathbf{f}}{\\partial\\mathbf{k}}$$\n",
    "For this model\n",
    "$$\\frac{\\partial f}{\\partial y}=-k_1(91.9-y)^2-2k_1(126.2-y)(91.9-y)-2k_2y$$\n",
    "$$\\frac{\\partial f}{\\partial k_1}=(126.2-y)(91.9-y)^2$$\n",
    "$$\\frac{\\partial f}{\\partial k_2}=-y^2$$"
   ]
  },
  {
   "cell_type": "code",
   "execution_count": 4,
   "metadata": {},
   "outputs": [],
   "source": [
    "def model1_dfdy(y,k):\n",
    "    dfdy = -k[0]*(91.9-y)**2-2*k[0]*(126.2-y)*(91.9-y)-2*k[1]*y\n",
    "    return dfdy\n",
    "def model1_dfdk(y,k):\n",
    "    dfdk = np.empty(2)\n",
    "    dfdk[0] = (126.2-y)*(91.9-y)**2\n",
    "    dfdk[1] = -y**2\n",
    "    return dfdk"
   ]
  },
  {
   "cell_type": "markdown",
   "metadata": {},
   "source": [
    "### Model 2\n",
    "\\begin{align*}\n",
    "r_1=&2y_1+\\frac{2y_2}{3K_1}\\\\\n",
    "r_2=&\\frac{2y_1+2y_2-2}{3K_1}\\\\\n",
    "r_3=&y_2-\\frac{4y_1+5y_2-4}{9K_2}\\\\\n",
    "r_4=&y_1-\\frac{5y_1+4y_2-5}{9K_2}\\\\\\\\\n",
    "\\frac{\\partial f_1}{\\partial y_1}=&-k_1r_1-k_2r_3,\\hspace{1cm}\\frac{\\partial f_1}{\\partial y_2}=-k_1r_2-k_2r_4\\\\\n",
    "\\frac{\\partial f_2}{\\partial y_1}=&\\frac{k_1}{2}r_1-k_2r_3,\\hspace{1.3cm}\\frac{\\partial f_2}{\\partial y_2}=\\frac{k_1}{2}r_2-k_2r_4\\\\\\\\\n",
    "\\frac{\\partial f_1}{\\partial k_1}=&-\\left(y_1^2+\\frac{y_2^2+2y_1y_2-2y_2}{3K_1}\\right)\\\\\n",
    "\\frac{\\partial f_1}{\\partial k_2}=&-\\left(y_1y_2-\\frac{2y_1^2-4y_1+5y_1y_2-5y_2+2y_2^2+2}{9K_2}\\right)\\\\\n",
    "\\frac{\\partial f_2}{\\partial k_1}=&-\\frac{1}{2}\\frac{\\partial f_1}{\\partial k_1}\\\\\n",
    "\\frac{\\partial f_2}{\\partial k_2}=&\\frac{\\partial f_1}{\\partial k_2}\n",
    "\\end{align*}"
   ]
  },
  {
   "cell_type": "code",
   "execution_count": 5,
   "metadata": {},
   "outputs": [],
   "source": [
    "def model2_dfdy(y,k):\n",
    "    K1 = 0.242\n",
    "    K2 = 0.428\n",
    "    r1 = 2*y[0]+2*y[1]/(3*K1)\n",
    "    r2 = 2*(y[0]+y[1]-1)/(3*K1)\n",
    "    r3 = y[1]-(4*y[0]+5*y[1]-4)/(9*K2)\n",
    "    r4 = y[0]-(5*y[0]+4*y[1]-5)/(9*K2)\n",
    "    dfdy = np.empty((2,2))\n",
    "    dfdy[0,0] = -k[0]*r1-k[1]*r3\n",
    "    dfdy[0,1] = -k[0]*r2-k[1]*r4\n",
    "    dfdy[1,0] = k[0]*r1/2-k[1]*r3\n",
    "    dfdy[1,1] = k[0]*r2/2-k[1]*r4\n",
    "    return dfdy\n",
    "def model2_dfdk(y,k):\n",
    "    K1 = 0.242\n",
    "    K2 = 0.428\n",
    "    dfdk = np.empty((2,2))\n",
    "    dfdk[0,0] = -(y[0]**2+(y[1]**2+2*y[0]*y[1]-2*y[1])/(3*K1))\n",
    "    dfdk[0,1] = -(y[0]*y[1]-(2*y[0]**2-4*y[0]+5*y[0]*y[1]-5*y[1]+2*y[1]**2+2)/(9*K2))\n",
    "    dfdk[1,0] = -dfdk[0,0]/2\n",
    "    dfdk[1,1] = dfdk[0,1]\n",
    "    return dfdk"
   ]
  },
  {
   "cell_type": "markdown",
   "metadata": {},
   "source": [
    "## Comparison with numerical differentiation\n",
    "Numerical differentiation by `pe_ode` functions and analytic results given above will be compared. \n",
    "### Model 1\n",
    "Homogeneous gas model has 15 measurements and the parameter estimations are $k_1=0.4577\\times10^{-5}$ and $k_2=0.2796\\times10^{-3}$"
   ]
  },
  {
   "cell_type": "code",
   "execution_count": 6,
   "metadata": {
    "scrolled": false
   },
   "outputs": [],
   "source": [
    "yhat_model1=np.array([[0,1.4,6.3,10.5,14.2,17.6,21.4,23.0,27.0,30.5,34.4,38.8,41.6,43.5,45.3]])\n",
    "t_model1 = np.array([0,1,2,3,4,5,6,7,9,11,14,19,24,29,39])\n",
    "k_model1 = np.array([0.4577e-5,0.2796e-3])"
   ]
  },
  {
   "cell_type": "code",
   "execution_count": 7,
   "metadata": {
    "scrolled": true
   },
   "outputs": [
    {
     "name": "stdout",
     "output_type": "stream",
     "text": [
      "dfdy difference 7.08e-07 (inf norm)\n",
      "dfdk difference 7.64e-15 (inf norm)\n"
     ]
    }
   ],
   "source": [
    "dfdy_anal = np.empty(15)\n",
    "dfdy_num = np.empty(15)\n",
    "dfdk_anal = np.empty((2,15))\n",
    "dfdk_num = np.empty((2,15))\n",
    "y_temp = pe.state_only_int(model1,np.array([0]),k_model1,t_model1)\n",
    "y_k_model1 = y_temp[0]\n",
    "for i in range(15):\n",
    "    dfdy_anal[i] = model1_dfdy(y_k_model1[:,i],k_model1)\n",
    "    dfdy_num[i] = pe.dfdy_ode(model1,y_k_model1[:,i],k_model1,1)\n",
    "    dfdk_anal[:,i] = model1_dfdk(y_k_model1[:,i],k_model1)\n",
    "    dfdk_num[:,i] = pe.dfdk_ode(model1,y_k_model1[:,i],k_model1,1,2)\n",
    "dfdy_diff = dfdy_anal-dfdy_num\n",
    "dfdk_diff = dfdk_anal-dfdk_num\n",
    "rel_dfdy = np.max(np.abs(dfdy_diff))/np.linalg.norm(dfdy_anal,np.inf)\n",
    "rel_dfdk = np.max(np.abs(dfdk_diff))/np.linalg.norm(dfdk_anal,np.inf)\n",
    "print('dfdy difference {0:1.2e} (inf norm)'.format(rel_dfdy))    \n",
    "print('dfdk difference {0:1.2e} (inf norm)'.format(rel_dfdk))"
   ]
  },
  {
   "cell_type": "markdown",
   "metadata": {},
   "source": [
    "### Model 2\n",
    "Dehydrogenation model has eight measurements and the parameter estimations are $k_1=354.61$ and $k_2=400.23$"
   ]
  },
  {
   "cell_type": "code",
   "execution_count": 8,
   "metadata": {},
   "outputs": [],
   "source": [
    "t_model2 = np.array([0,5.63,11.32,16.97,22.62,34.00,39.70,45.20,169.7],dtype='f')*1e-4\n",
    "yhat_model2 = np.array([[1,0.828,0.704,0.622,0.565,0.499,0.482,0.470,0.443],\n",
    "                   [0,0.0737,0.1130,0.1322,0.1400,0.1468,0.1477,0.1477,0.1476]],dtype='f')\n",
    "y0_model2 = yhat_model2[:,0]\n",
    "k_model2 = np.array([354.61,400.23])"
   ]
  },
  {
   "cell_type": "code",
   "execution_count": 9,
   "metadata": {},
   "outputs": [
    {
     "name": "stdout",
     "output_type": "stream",
     "text": [
      "dfdy difference 2.69e-09\n",
      "dfdk difference 2.87e-06\n"
     ]
    }
   ],
   "source": [
    "k1000 = np.array([1000,1000],dtype='float64')\n",
    "N_model2 = np.size(t_model2)\n",
    "dfdy_model2_ana = np.empty((N_model2,2,2))\n",
    "dfdy_model2_num = np.empty((N_model2,2,2))\n",
    "dfdk_model2_ana = np.empty((N_model2,2,2))\n",
    "dfdk_model2_num = np.empty((N_model2,2,2))\n",
    "y1000,fasu = pe.state_only_int(model2,y0_model2,k1000,t_model2)\n",
    "for i in range(N_model2):\n",
    "    dfdy_model2_ana[i] = model2_dfdy(y1000[:,i],k1000)\n",
    "    dfdy_model2_num[i] = pe.dfdy_ode(model2,y1000[:,i],k1000,2)\n",
    "    dfdk_model2_ana[i] = model2_dfdk(y1000[:,i],k1000)\n",
    "    dfdk_model2_num[i] = pe.dfdk_ode(model2,y1000[:,i],k1000,2,2)\n",
    "dfdy_diff = dfdy_model2_ana-dfdy_model2_num\n",
    "dfdk_diff = dfdk_model2_ana-dfdk_model2_num\n",
    "rel_dfdy = np.linalg.norm(dfdy_diff)/np.linalg.norm(dfdy_model2_ana)\n",
    "rel_dfdk = np.linalg.norm(dfdk_diff)/np.linalg.norm(dfdk_model2_ana)\n",
    "print('dfdy difference {0:1.2e}'.format(rel_dfdy))\n",
    "print('dfdk difference {0:1.2e}'.format(rel_dfdk))"
   ]
  },
  {
   "cell_type": "markdown",
   "metadata": {},
   "source": [
    "## Test of $\\varphi(\\mathbf{z})$\n",
    "### Model 1\n",
    "With an artificial initial condition $y_0=10$, $\\mathbf{J}=\\begin{bmatrix}1000&2000\\end{bmatrix}$\n",
    "$$\\frac{dy}{dt}=4.577\\times10^{-6}(126.2-10)(91.9-10)^2-2.796\\times10^{-4}\\times10^2=3.5395$$\n",
    "$$\\frac{\\partial f}{\\partial y}=-4.577\\times10^{-6}(91.9-10)^2-2\\times4.577\\times10^{-6}(126.2-10)(91.9-10)-2\\times2.796\\times10^{-4}\\times10=-0.1234$$\n",
    "$$\\frac{\\partial f}{\\partial k_1}=(126.2-10)(91.9-10)^2=779424$$\n",
    "$$\\frac{\\partial f}{\\partial k_2}=-10^2=-100$$\n",
    "The differential equation for Jacobian is\n",
    "$$\\frac{d\\mathbf{J}}{dt}=-0.1234\\times\\begin{bmatrix}1000 & 2000\\end{bmatrix}+\\begin{bmatrix}779424&-100\\end{bmatrix}=\\begin{bmatrix}779301&-346.8\\end{bmatrix}$$"
   ]
  },
  {
   "cell_type": "code",
   "execution_count": 10,
   "metadata": {},
   "outputs": [
    {
     "name": "stdout",
     "output_type": "stream",
     "text": [
      "Analytic dJdt is  [ 7.79300873e+05 -3.46818670e+02]\n",
      "Numerical dJdt is  [ 7.79300873e+05 -3.46818788e+02]\n"
     ]
    }
   ],
   "source": [
    "y_temp = 10\n",
    "dfdy_model1_ana = model1_dfdy(y_temp,k_model1)\n",
    "dfdk_model1_ana = model1_dfdk(10,k_model1)\n",
    "J_temp = np.array([1000,2000])\n",
    "dJdt_model1_ana = dfdy_model1_ana*J_temp+dfdk_model1_ana\n",
    "print('Analytic dJdt is ',dJdt_model1_ana)\n",
    "z = np.empty(3)\n",
    "z[0] = y_temp\n",
    "z[1:] = J_temp\n",
    "dJdt_model1_num = pe.phi_z(model1,z,k_model1,1,2)\n",
    "print('Numerical dJdt is ',dJdt_model1_num[1:])"
   ]
  },
  {
   "cell_type": "markdown",
   "metadata": {},
   "source": [
    "### Model 2\n",
    "Artificial initial condition $y0=[5~~10]$ and $\\mathbf{J}=\\begin{bmatrix}\n",
    "200&300\\\\\n",
    "150&50\\end{bmatrix}$\n",
    "$$\\frac{d\\mathbf{J}}{dt}=\\frac{\\partial\\mathbf{f}}{\\partial\\mathbf{y}}\\mathbf{J}+\\frac{\\partial\\mathbf{f}}{\\partial\\mathbf{k}}$$"
   ]
  },
  {
   "cell_type": "code",
   "execution_count": 11,
   "metadata": {},
   "outputs": [
    {
     "name": "stdout",
     "output_type": "stream",
     "text": [
      "Analytic dJdt is \n",
      " [[-3508740.85315775 -3610034.82730877]\n",
      " [ 3563353.91956953  3407433.3131871 ]]\n",
      "Numerical dJdt is \n",
      " [[-3508741.33291654 -3610035.15135963]\n",
      " [ 3563354.37318194  3407433.77309991]]\n"
     ]
    }
   ],
   "source": [
    "y_model2_temp0 = np.array([5,10])\n",
    "J_model2_temp = np.array([[200,300],[150,50]])\n",
    "dfdy_model2_temp = model2_dfdy(y_model2_temp0,k_model2)\n",
    "dfdk_model2_temp = model2_dfdk(y_model2_temp0,k_model2)\n",
    "dJdt_model2_ana = np.matmul(dfdy_model2_temp,J_model2_temp)+dfdk_model2_temp\n",
    "z_model2 = np.empty(6)\n",
    "z_model2[0:2] = y_model2_temp0\n",
    "z_model2[2:] = J_model2_temp.transpose().flatten()\n",
    "dzdt_model2 = pe.phi_z(model2,z_model2,k_model2,2,2)\n",
    "dJdt_model2_num = dzdt_model2[2:].reshape(2,2).transpose()\n",
    "print('Analytic dJdt is \\n',dJdt_model2_ana)\n",
    "print('Numerical dJdt is \\n',dJdt_model2_num)"
   ]
  },
  {
   "cell_type": "markdown",
   "metadata": {
    "scrolled": false
   },
   "source": [
    "## Integration with estimated parameters\n",
    "### Model 1"
   ]
  },
  {
   "cell_type": "code",
   "execution_count": 12,
   "metadata": {
    "scrolled": true
   },
   "outputs": [],
   "source": [
    "y0 = yhat_model1[:,0]\n",
    "res_model1 = pe.state_jacob_int(model1,y0,k_model1,t_model1)"
   ]
  },
  {
   "cell_type": "code",
   "execution_count": 35,
   "metadata": {},
   "outputs": [
    {
     "name": "stdout",
     "output_type": "stream",
     "text": [
      "Jacobian\n",
      "[[0. 0.]]\n",
      "[[ 9.27370654e+05 -6.89875129e+00]]\n",
      "[[ 1.63014749e+06 -4.84419743e+01]]\n",
      "[[ 2.16757281e+06 -1.44611048e+02]]\n",
      "[[ 2.58077504e+06 -3.05211321e+02]]\n",
      "[[ 2.89900622e+06 -5.33798827e+02]]\n",
      "[[ 3.14403358e+06 -8.30288775e+02]]\n",
      "[[ 3.33115141e+06 -1.19188702e+03]]\n",
      "[[ 3.57842540e+06 -2.09397023e+03]]\n",
      "[[ 3.70681368e+06 -3.20044231e+03]]\n",
      "[[3763593.48611649   -5150.32635678]]\n",
      "[[3669696.49666203   -8853.71520985]]\n",
      "[[3482142.95125699  -12718.05799824]]\n",
      "[[3274617.8936603   -16431.03234524]]\n",
      "[[2905273.18131808  -22776.51257757]]\n",
      "True\n"
     ]
    },
    {
     "data": {
      "image/png": "[encoded data removed]",
      "text/plain": [
       "<Figure size 432x288 with 1 Axes>"
      ]
     },
     "metadata": {
      "needs_background": "light"
     },
     "output_type": "display_data"
    }
   ],
   "source": [
    "plt.clf()\n",
    "plt.figure(1)\n",
    "plt.scatter(t_model1,yhat_model1)\n",
    "plt.plot(t_model1,res_model1[0][0,:])\n",
    "print('Jacobian')\n",
    "print(*res_model1[1],sep='\\n')\n",
    "print(res_model1[2])"
   ]
  },
  {
   "cell_type": "markdown",
   "metadata": {},
   "source": [
    "### Model 2"
   ]
  },
  {
   "cell_type": "code",
   "execution_count": 45,
   "metadata": {
    "scrolled": false
   },
   "outputs": [
    {
     "name": "stdout",
     "output_type": "stream",
     "text": [
      "Jacobian\n",
      "[[0. 0.]\n",
      " [0. 0.]]\n",
      "[[-3.90267081e-04 -1.62685326e-05]\n",
      " [ 1.69437807e-04 -1.93878548e-05]]\n",
      "[[-5.26574250e-04 -3.82839771e-05]\n",
      " [ 2.08403141e-04 -5.19365181e-05]]\n",
      "[[-5.25552588e-04 -5.14564067e-05]\n",
      " [ 1.97280549e-04 -7.60591874e-05]]\n",
      "[[-4.65126820e-04 -5.58872386e-05]\n",
      " [ 1.70508583e-04 -8.72084943e-05]]\n",
      "[[-3.07581678e-04 -4.93449214e-05]\n",
      " [ 1.13525940e-04 -8.08521169e-05]]\n",
      "[[-2.38931834e-04 -4.27692119e-05]\n",
      " [ 8.98380206e-05 -7.06632214e-05]]\n",
      "[[-1.84061115e-04 -3.60878218e-05]\n",
      " [ 7.07467410e-05 -5.98401691e-05]]\n",
      "[[-1.30737774e-07 -5.85794893e-08]\n",
      " [ 7.75995370e-08 -1.26581694e-07]]\n",
      "True\n"
     ]
    },
    {
     "data": {
      "image/png": "[encoded data removed]",
      "text/plain": [
       "<Figure size 432x288 with 1 Axes>"
      ]
     },
     "metadata": {
      "needs_background": "light"
     },
     "output_type": "display_data"
    }
   ],
   "source": [
    "res_model2 = pe.state_jacob_int(model2,y0_model2,k_model2,t_model2)\n",
    "plt.figure(2)\n",
    "plt.plot(t_model2,yhat_model2[0,:],'bs',t_model2,yhat_model2[1,:],'r^')\n",
    "plt.plot(t_model2,res_model2[0][0,:],'b',t_model2,res_model2[0][1,:],'r')\n",
    "print('Jacobian')\n",
    "print(*res_model2[1],sep='\\n')\n",
    "print(res_model2[2])"
   ]
  },
  {
   "cell_type": "markdown",
   "metadata": {},
   "source": [
    "## Calculation of objective function and gradient of the objective function\n",
    "### Model 1 "
   ]
  },
  {
   "cell_type": "code",
   "execution_count": 46,
   "metadata": {},
   "outputs": [
    {
     "name": "stdout",
     "output_type": "stream",
     "text": [
      "21.866257353210703\n",
      "[-7.73248480e+03  5.97742677e+00]\n"
     ]
    }
   ],
   "source": [
    "Q1 = np.eye(1)\n",
    "S, g = pe.Sg_ode(model1,yhat_model1,Q1,k_model1,t_model1)\n",
    "print(S)\n",
    "print(g)"
   ]
  },
  {
   "cell_type": "markdown",
   "metadata": {},
   "source": [
    "### Model 2"
   ]
  },
  {
   "cell_type": "code",
   "execution_count": 47,
   "metadata": {},
   "outputs": [
    {
     "name": "stdout",
     "output_type": "stream",
     "text": [
      "7.105348481987903e-06\n",
      "[5.80758976e-09 2.45733185e-09]\n"
     ]
    }
   ],
   "source": [
    "Q2 = np.eye(2)\n",
    "S2, g2 = pe.Sg_ode(model2,yhat_model2,Q2,k_model2,t_model2)\n",
    "print(S2)\n",
    "print(g2)"
   ]
  }
 ],
 "metadata": {
  "kernelspec": {
   "display_name": "Python 3",
   "language": "python",
   "name": "python3"
  },
  "language_info": {
   "codemirror_mode": {
    "name": "ipython",
    "version": 3
   },
   "file_extension": ".py",
   "mimetype": "text/x-python",
   "name": "python",
   "nbconvert_exporter": "python",
   "pygments_lexer": "ipython3",
   "version": "3.7.3"
  }
 },
 "nbformat": 4,
 "nbformat_minor": 2
}
