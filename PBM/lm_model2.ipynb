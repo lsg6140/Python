{
 "cells": [
  {
   "cell_type": "code",
   "execution_count": 1,
   "metadata": {},
   "outputs": [],
   "source": [
    "%run lm_ode.ipynb"
   ]
  },
  {
   "cell_type": "code",
   "execution_count": 2,
   "metadata": {},
   "outputs": [],
   "source": [
    "import matplotlib.pyplot as plt"
   ]
  },
  {
   "cell_type": "markdown",
   "metadata": {},
   "source": [
    "# Model 2: Pyrolytic dehydrogenation model\n",
    "Pyrolytic dehydrogenation of benzene to diphenyl and triphenyl\n",
    "$$2C_2H_6\\longleftrightarrow C_{12}H_{10}+H_2$$\n",
    "$$C_6H_6+C_{12}H_{10}\\longleftrightarrow C_{10}H_{14}+H_2$$\n",
    "with differential equations model\n",
    "\\begin{align*}\n",
    "\\frac{dy_1}{dt}=&-r_1-r_2;\\hspace{10mm}y_1(0)=1\\\\\n",
    "\\frac{dy_2}{dt}=&\\frac{r_1}{2}-r_2;\\hspace{10mm}y_2(0)=0\\\\\n",
    "r_1=&k_1\\left(y_1^2-y_2\\frac{2-2y_1-y_2}{3K_1}\\right)\\\\\n",
    "r_2=&k_2\\left(y_1y_2-\\frac{(1-y_1-2y_2)(2-2y_1-y_2)}{9K_2}\\right)\n",
    "\\end{align*}\n",
    "with $K_1=0.242$ and $K_2=0.428$"
   ]
  },
  {
   "cell_type": "markdown",
   "metadata": {},
   "source": [
    "## Scaling for parameter estimation\n",
    "Let $u_1=\\frac{y_1}{M_1}$ and $u_2=\\frac{y_2}{M_2}$,\n",
    "\\begin{align*}\n",
    "\\frac{M_1}{t_c}\\frac{du_1}{d\\bar{t}}=&-k_1\\left(M_1^2u_1^2-M_2u_2\\frac{2-2M_1u_1-M_2u_2}{3K_1}\\right)\\\\\n",
    "&-k_2\\left(M_1M_2u_1u_2-\\frac{(1-M_1u_1-2M_2u_2)(2-2M_1u_1-M_2u_2)}{9K_2}\\right)\\\\\n",
    "=&-k_1M_1^2\\left(u_1^2-\\frac{M_2}{M_1}u_2\\frac{\\frac{2}{M_1}-2u_1-\\frac{M_2}{M_1}u_2}{3K_1}\\right)\\\\\n",
    "&-k_2M_1^2\\left(\\frac{M_2}{M_1}u_1u_2-\\frac{(\\frac{1}{M_1}-u_1-2\\frac{M_2}{M_1}u_2)(\\frac{2}{M_1}-2u_1-\\frac{M_2}{M_1}u_2)}{9K_2}\\right)\\\\\n",
    "\\frac{du_1}{d\\bar{t}}=&-k_1M_1t_c\\left(u_1^2-\\frac{M_2}{M_1}u_2\\frac{\\frac{2}{M_1}-2u_1-\\frac{M_2}{M_1}u_2}{3K_1}\\right)\\\\\n",
    "&-k_2M_1t_c\\left(\\frac{M_2}{M_1}u_1u_2-\\frac{(\\frac{1}{M_1}-u_1-2\\frac{M_2}{M_1}u_2)(\\frac{2}{M_1}-2u_1-\\frac{M_2}{M_1}u_2)}{9K_2}\\right)\n",
    "\\end{align*}\n",
    "\n",
    "\\begin{align*}\n",
    "\\frac{M_2}{t_c}\\frac{du_2}{d\\bar{t}}=&\\frac{k_1}{2}\\left(M_1^2u_1^2-M_2u_2\\frac{2-2M_1u_1-M_2u_2}{3K_1}\\right)\\\\\n",
    "&-k_2\\left(M_1M_2u_1u_2-\\frac{(1-M_1u_1-2M_2u_2)(2-2M_1u_1-M_2u_2)}{9K_2}\\right)\\\\\n",
    "=&\\frac{k_1M_1^2}{2}\\left(u_1^2-\\frac{M_2}{M_1}u_2\\frac{\\frac{2}{M_1}-2u_1-\\frac{M_2}{M_1}u_2}{3K_1}\\right)\\\\\n",
    "&-k_2M_1^2\\left(\\frac{M_2}{M_1}u_1u_2-\\frac{(\\frac{1}{M_1}-u_1-2\\frac{M_2}{M_1}u_2)(\\frac{2}{M_1}-2u_1-\\frac{M_2}{M_1}u_2)}{9K_2}\\right)\\\\\n",
    "\\frac{du_2}{d\\bar{t}}=&\\frac{k_1M_1t_c}{2}\\frac{M_1}{M_2}\\left(u_1^2-\\frac{M_2}{M_1}u_2\\frac{\\frac{2}{M_1}-2u_1-\\frac{M_2}{M_1}u_2}{3K_1}\\right)\\\\\n",
    "&-k_2M_1t_c\\frac{M_1}{M_2}\\left(\\frac{M_2}{M_1}u_1u_2-\\frac{(\\frac{1}{M_1}-u_1-2\\frac{M_2}{M_1}u_2)(\\frac{2}{M_1}-2u_1-\\frac{M_2}{M_1}u_2)}{9K_2}\\right)\n",
    "\\end{align*}"
   ]
  },
  {
   "cell_type": "markdown",
   "metadata": {},
   "source": [
    "Let $\\bar{k_1}=k_1M_1t_c$, $\\bar{k_2}=k_2M_1t_c$ and $\\frac{M_2}{M_1}=\\gamma$,\n",
    "\\begin{align*}\n",
    "\\frac{du_1}{d\\bar{t}}=&-\\bar{k}_1\\left(u_1^2-\\gamma u_2\\frac{\\frac{2}{M_1}-2u_1-\\gamma u_2}{3K_1}\\right)\\\\\n",
    "&-\\bar{k}_2\\left(\\gamma u_1u_2-\\frac{(\\frac{1}{M_1}-u_1-2\\gamma u_2)(\\frac{2}{M_1}-2u_1-\\gamma u_2)}{9K_2}\\right)\n",
    "\\end{align*}\n",
    "\\begin{align*}\n",
    "\\frac{du_2}{d\\bar{t}}=&\\frac{\\bar{k}_1}{2\\gamma}\\left(u_1^2-\\gamma u_2\\frac{\\frac{2}{M_1}-2u_1-\\gamma u_2}{3K_1}\\right)\\\\\n",
    "&-\\frac{\\bar{k}_2}{\\gamma}\\left(\\gamma u_1u_2-\\frac{(\\frac{1}{M_1}-u_1-2\\gamma u_2)(\\frac{2}{M_1}-2u_1-\\gamma u_2)}{9K_2}\\right)\n",
    "\\end{align*}"
   ]
  },
  {
   "cell_type": "code",
   "execution_count": 3,
   "metadata": {},
   "outputs": [],
   "source": [
    "def model2_scaled(u,kbar,M1,M2):\n",
    "    K1 = 0.242\n",
    "    K2 = 0.428\n",
    "    gamma = M2/M1\n",
    "    r1 = u[0]**2-gamma*u[1]*(2/M1-2*u[0]-gamma*u[1])/(3*K1)\n",
    "    r2 = gamma*u[0]*u[1]-(1/M1-u[0]-2*gamma*u[1])*(2/M1-2*u[0]-gamma*u[1])/(9*K2)\n",
    "    dudt = np.empty(2)\n",
    "    dudt[0] = -kbar[0]*r1-kbar[1]*r2\n",
    "    dudt[1] = kbar[0]*r1/(2*gamma)-kbar[1]*r2/gamma\n",
    "    return dudt"
   ]
  },
  {
   "cell_type": "markdown",
   "metadata": {},
   "source": [
    "## Integration with estimated paramters"
   ]
  },
  {
   "cell_type": "code",
   "execution_count": 4,
   "metadata": {},
   "outputs": [],
   "source": [
    "t = np.array([0,5.63,11.32,16.97,22.62,34.00,39.70,45.20,169.7],dtype='f')*1e-4\n",
    "yhat = np.array([[1,0.828,0.704,0.622,0.565,0.499,0.482,0.470,0.443],\n",
    "                   [0,0.0737,0.1130,0.1322,0.1400,0.1468,0.1477,0.1477,0.1476]],dtype='f')\n",
    "y0 = yhat[:,0]\n",
    "k = np.array([354.61,400.23])"
   ]
  },
  {
   "cell_type": "code",
   "execution_count": 5,
   "metadata": {},
   "outputs": [],
   "source": [
    "tc = t[-1]\n",
    "M1 = max(yhat[0,:])\n",
    "M2 = max(yhat[1,:])\n",
    "tbar = t/tc\n",
    "uhat = np.diag([1/M1,1/M2])@yhat\n",
    "u0 = uhat[:,0]\n",
    "kbar = k*M1*tc"
   ]
  },
  {
   "cell_type": "code",
   "execution_count": 6,
   "metadata": {},
   "outputs": [],
   "source": [
    "def model2(u,kbar):\n",
    "    return model2_scaled(u,kbar,M1,M2)"
   ]
  },
  {
   "cell_type": "code",
   "execution_count": 7,
   "metadata": {},
   "outputs": [],
   "source": [
    "res = integrator_jacobian(model2,u0,kbar,tbar)"
   ]
  },
  {
   "cell_type": "code",
   "execution_count": 8,
   "metadata": {},
   "outputs": [
    {
     "data": {
      "text/plain": [
       "[<matplotlib.lines.Line2D at 0x7f6463f5bda0>,\n",
       " <matplotlib.lines.Line2D at 0x7f6463f5be80>]"
      ]
     },
     "execution_count": 8,
     "metadata": {},
     "output_type": "execute_result"
    },
    {
     "data": {
      "image/png": "[encoded data removed]",
      "text/plain": [
       "<Figure size 432x288 with 1 Axes>"
      ]
     },
     "metadata": {
      "needs_background": "light"
     },
     "output_type": "display_data"
    }
   ],
   "source": [
    "plt.plot(tbar,uhat[0,:],'bs',tbar,uhat[1,:],'r^')\n",
    "plt.plot(tbar,res[0][0,:],'b',tbar,res[0][1,:],'r')"
   ]
  },
  {
   "cell_type": "markdown",
   "metadata": {},
   "source": [
    "## Parameter estimation with LM mothod\n",
    "### Test with given parameters"
   ]
  },
  {
   "cell_type": "code",
   "execution_count": 9,
   "metadata": {},
   "outputs": [
    {
     "name": "stdout",
     "output_type": "stream",
     "text": [
      "Iteration | Objective function | Reduced gradient |   mu   |   rho\n",
      "         1|          1.0880e-04|          1.86e-05| 3.7e-04| 1.2e+00\n"
     ]
    }
   ],
   "source": [
    "Q = np.eye(2)\n",
    "k_est = lm(model2,uhat,Q,kbar,tbar,[1e-3,1e-4,1e-4,100])"
   ]
  },
  {
   "cell_type": "code",
   "execution_count": 10,
   "metadata": {},
   "outputs": [
    {
     "data": {
      "text/plain": [
       "[array([6.06060304, 6.90925622]),\n",
       " array([[1.        , 0.82723439, 0.70381611, 0.61978866, 0.56277274,\n",
       "         0.49787775, 0.48020942, 0.46864165, 0.44329833],\n",
       "        [0.        , 0.50159618, 0.76085668, 0.88887367, 0.95143837,\n",
       "         0.9953009 , 1.00129306, 1.00345299, 1.00025579]]),\n",
       " [1, 'g']]"
      ]
     },
     "execution_count": 10,
     "metadata": {},
     "output_type": "execute_result"
    }
   ],
   "source": [
    "k_est"
   ]
  },
  {
   "cell_type": "markdown",
   "metadata": {},
   "source": [
    "### Initial guess with $k=[500,500]$"
   ]
  },
  {
   "cell_type": "code",
   "execution_count": 11,
   "metadata": {},
   "outputs": [
    {
     "name": "stdout",
     "output_type": "stream",
     "text": [
      "Iteration | Objective function | Reduced gradient |   mu   |   rho\n",
      "         1|          8.3497e-03|          9.34e-02| 2.9e-04| 1.6e+00\n",
      "         2|          1.1069e-04|          1.04e-03| 9.5e-05| 2.0e+00\n",
      "         3|          1.0882e-04|          6.30e-06| 3.2e-05| 1.9e+00\n"
     ]
    }
   ],
   "source": [
    "k0 = np.array([500,500])\n",
    "kbar0 = k0*M1*tc\n",
    "est = lm(model2,uhat,Q,kbar0,tbar,[1e-3,1e-4,1e-4,100])"
   ]
  },
  {
   "cell_type": "code",
   "execution_count": 12,
   "metadata": {},
   "outputs": [
    {
     "data": {
      "text/plain": [
       "[array([6.06104816, 6.91088138]),\n",
       " array([[1.        , 0.82722262, 0.70379873, 0.61977012, 0.56275538,\n",
       "         0.49786806, 0.48019915, 0.46863329, 0.44329832],\n",
       "        [0.        , 0.50161358, 0.76085978, 0.88885947, 0.95141288,\n",
       "         0.99526795, 1.0012687 , 1.00343103, 1.00025573]]),\n",
       " [3, 'g']]"
      ]
     },
     "execution_count": 12,
     "metadata": {},
     "output_type": "execute_result"
    }
   ],
   "source": [
    "est"
   ]
  },
  {
   "cell_type": "markdown",
   "metadata": {},
   "source": [
    "### Initial guess with $k=[10000,10000]$"
   ]
  },
  {
   "cell_type": "code",
   "execution_count": 13,
   "metadata": {},
   "outputs": [
    {
     "name": "stdout",
     "output_type": "stream",
     "text": [
      "Iteration | Objective function | Reduced gradient |   mu   |   rho\n",
      "         1|          2.6690e-01|          1.92e-01| 7.7e-08| 5.5e+01\n",
      "         2|          3.3004e-01|          1.92e-01| 1.5e-07|-1.4e+01\n",
      "         3|          3.2635e-01|          1.92e-01| 6.1e-07|-8.0e+00\n",
      "         4|          3.0928e-01|          1.92e-01| 4.9e-06|-1.7e+00\n",
      "         5|          2.7094e-01|          1.92e-01| 7.9e-05|-3.5e-02\n",
      "         6|          2.5345e-01|          1.92e-01| 1.5e-04| 1.0e-02\n",
      "         7|          6.3141e-01|          1.92e-01| 3.1e-04|-2.6e-01\n",
      "         8|          2.7404e-01|          1.92e-01| 1.2e-03|-1.2e-02\n",
      "         9|          2.0085e-01|          2.00e-01| 2.4e-03| 1.0e-02\n",
      "        10|          8.3272e-01|          2.00e-01| 4.7e-03|-1.6e-01\n",
      "        11|          2.9950e-01|          2.00e-01| 1.9e-02|-1.7e-02\n",
      "        12|          2.1627e-01|          2.00e-01| 1.5e-01|-2.6e-03\n",
      "        13|          8.3732e-02|          1.35e-02| 2.8e-01| 2.7e-02\n",
      "        14|          8.2584e-02|          1.24e-02| 5.6e-01| 1.5e-03\n",
      "        15|          8.2058e-02|          1.22e-02| 1.1e+00| 1.5e-03\n",
      "        16|          8.1790e-02|          1.21e-02| 2.2e+00| 1.5e-03\n",
      "        17|          8.1657e-02|          1.21e-02| 4.4e+00| 1.5e-03\n",
      "        18|          8.1592e-02|          1.21e-02| 8.8e+00| 1.5e-03\n",
      "        19|          8.1556e-02|          1.21e-02| 1.7e+01| 1.6e-03\n",
      "        20|          8.1538e-02|          1.21e-02| 3.5e+01| 1.6e-03\n",
      "        21|          8.1533e-02|          1.21e-02| 6.9e+01| 9.6e-04\n",
      "        22|          8.1525e-02|          1.21e-02| 1.4e+02| 2.6e-03\n",
      "        23|          8.1523e-02|          1.21e-02| 2.7e+02| 1.5e-03\n",
      "        24|          8.1524e-02|          1.21e-02| 5.5e+02|-1.7e-03\n",
      "        25|          8.1524e-02|          1.21e-02| 2.2e+03|-1.2e-03\n",
      "        26|          8.1520e-02|          1.21e-02| 3.9e+03| 3.6e-02\n",
      "        27|          8.1523e-02|          1.21e-02| 7.9e+03|-5.7e-02\n",
      "        28|          8.1524e-02|          1.21e-02| 3.1e+04|-1.5e-01\n",
      "        29|          8.1527e-02|          1.21e-02| 2.5e+05|-1.2e+00\n",
      "        30|          8.1524e-02|          1.21e-02| 4.0e+06|-4.8e+00\n",
      "        31|          8.1524e-02|          1.21e-02| 4.0e+06|-4.8e+00\n"
     ]
    }
   ],
   "source": [
    "k0 = np.array([1e4,1e4])\n",
    "kbar0 = k0*M1*tc\n",
    "est = lm(model2,uhat,Q,kbar0,tbar,[1e-1,1e-8,1e-8,100])"
   ]
  },
  {
   "cell_type": "code",
   "execution_count": 14,
   "metadata": {},
   "outputs": [
    {
     "data": {
      "text/plain": [
       "[array([11.18026766, 51.39445697]),\n",
       " array([[1.        , 0.69563324, 0.55626383, 0.4971802 , 0.46974197,\n",
       "         0.44978553, 0.44652634, 0.44494231, 0.44329309],\n",
       "        [0.        , 0.4943102 , 0.6847752 , 0.8258344 , 0.90912497,\n",
       "         0.97692182, 0.98855457, 0.99426298, 1.00024364]]),\n",
       " [31, 'h']]"
      ]
     },
     "execution_count": 14,
     "metadata": {},
     "output_type": "execute_result"
    }
   ],
   "source": [
    "est"
   ]
  },
  {
   "cell_type": "code",
   "execution_count": 15,
   "metadata": {},
   "outputs": [
    {
     "name": "stdout",
     "output_type": "stream",
     "text": [
      "Iteration | Objective function | Reduced gradient |   mu   |   rho\n",
      "         1|          7.7322e-02|          1.23e-02| 1.2e-01| 2.2e-03\n",
      "         2|          7.4684e-02|          1.34e-02| 2.4e-01| 2.8e-03\n",
      "         3|          7.3129e-02|          1.40e-02| 4.8e-01| 3.0e-03\n",
      "         4|          7.2265e-02|          1.44e-02| 9.5e-01| 3.2e-03\n",
      "         5|          7.1803e-02|          1.46e-02| 1.9e+00| 3.3e-03\n",
      "         6|          7.1565e-02|          1.47e-02| 3.7e+00| 3.3e-03\n",
      "         7|          7.1445e-02|          1.47e-02| 7.4e+00| 3.3e-03\n",
      "         8|          7.1379e-02|          1.48e-02| 1.5e+01| 3.5e-03\n",
      "         9|          7.1348e-02|          1.48e-02| 2.9e+01| 3.3e-03\n",
      "        10|          7.1331e-02|          1.48e-02| 5.7e+01| 3.4e-03\n",
      "        11|          7.1323e-02|          1.48e-02| 1.1e+02| 3.3e-03\n",
      "        12|          7.1320e-02|          1.48e-02| 2.2e+02| 3.0e-03\n",
      "        13|          7.1317e-02|          1.48e-02| 4.4e+02| 4.4e-03\n",
      "        14|          7.1316e-02|          1.48e-02| 8.8e+02| 2.8e-03\n",
      "        15|          7.1317e-02|          1.48e-02| 1.8e+03|-3.5e-03\n",
      "        16|          7.1319e-02|          1.48e-02| 7.0e+03|-3.7e-02\n",
      "        17|          7.1317e-02|          1.48e-02| 5.6e+04|-5.1e-02\n",
      "        18|          7.1317e-02|          1.48e-02| 9.0e+05|-1.1e-01\n",
      "        19|          7.1316e-02|          1.48e-02| 3.0e+05| 2.2e+00\n",
      "        20|          7.1316e-02|          1.48e-02| 6.0e+05|-3.5e-01\n",
      "        21|          7.1317e-02|          1.48e-02| 2.4e+06|-4.8e+00\n",
      "        22|          7.1317e-02|          1.48e-02| 2.4e+06|-4.8e+00\n"
     ]
    }
   ],
   "source": [
    "kest = est[0]\n",
    "est = lm(model2,uhat,Q,kest,tbar,[1e-1,1e-8,1e-8,100])"
   ]
  },
  {
   "cell_type": "code",
   "execution_count": 16,
   "metadata": {},
   "outputs": [
    {
     "data": {
      "text/plain": [
       "[array([10.35356674, 35.43041039]),\n",
       " array([[1.        , 0.71716587, 0.57238126, 0.50678026, 0.47555629,\n",
       "         0.45194873, 0.44781374, 0.44571309, 0.44329309],\n",
       "        [0.        , 0.53086762, 0.69434241, 0.81363325, 0.89424871,\n",
       "         0.96933794, 0.98387523, 0.99141961, 1.00024363]]),\n",
       " [22, 'h']]"
      ]
     },
     "execution_count": 16,
     "metadata": {},
     "output_type": "execute_result"
    }
   ],
   "source": [
    "est"
   ]
  },
  {
   "cell_type": "code",
   "execution_count": 17,
   "metadata": {},
   "outputs": [],
   "source": [
    "kest = est[0]\n",
    "res = integrator_jacobian(model2,u0,kest,tbar)"
   ]
  },
  {
   "cell_type": "code",
   "execution_count": 18,
   "metadata": {},
   "outputs": [
    {
     "data": {
      "text/plain": [
       "[<matplotlib.lines.Line2D at 0x7f6463eacf60>,\n",
       " <matplotlib.lines.Line2D at 0x7f6463eb5080>]"
      ]
     },
     "execution_count": 18,
     "metadata": {},
     "output_type": "execute_result"
    },
    {
     "data": {
      "image/png": "[encoded data removed]",
      "text/plain": [
       "<Figure size 432x288 with 1 Axes>"
      ]
     },
     "metadata": {
      "needs_background": "light"
     },
     "output_type": "display_data"
    }
   ],
   "source": [
    "plt.plot(tbar,uhat[0,:],'bs',tbar,uhat[1,:],'r^')\n",
    "plt.plot(tbar,res[0][0,:],'b',tbar,res[0][1,:],'r')"
   ]
  },
  {
   "cell_type": "code",
   "execution_count": 19,
   "metadata": {},
   "outputs": [
    {
     "name": "stdout",
     "output_type": "stream",
     "text": [
      "[0.5 1. ]\n"
     ]
    }
   ],
   "source": [
    "a = np.array([1,2])\n",
    "a = a/2\n",
    "print(a)"
   ]
  }
 ],
 "metadata": {
  "kernelspec": {
   "display_name": "Python 3",
   "language": "python",
   "name": "python3"
  },
  "language_info": {
   "codemirror_mode": {
    "name": "ipython",
    "version": 3
   },
   "file_extension": ".py",
   "mimetype": "text/x-python",
   "name": "python",
   "nbconvert_exporter": "python",
   "pygments_lexer": "ipython3",
   "version": "3.7.3"
  }
 },
 "nbformat": 4,
 "nbformat_minor": 2
}
