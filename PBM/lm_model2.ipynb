{
 "cells": [
  {
   "cell_type": "code",
   "execution_count": 1,
   "metadata": {},
   "outputs": [],
   "source": [
    "%run lm_ode.ipynb"
   ]
  },
  {
   "cell_type": "code",
   "execution_count": 2,
   "metadata": {},
   "outputs": [],
   "source": [
    "import matplotlib.pyplot as plt"
   ]
  },
  {
   "cell_type": "markdown",
   "metadata": {},
   "source": [
    "# Model 2: Pyrolytic dehydrogenation model\n",
    "Pyrolytic dehydrogenation of benzene to diphenyl and triphenyl\n",
    "$$2C_2H_6\\longleftrightarrow C_{12}H_{10}+H_2$$\n",
    "$$C_6H_6+C_{12}H_{10}\\longleftrightarrow C_{10}H_{14}+H_2$$\n",
    "with differential equations model\n",
    "\\begin{align*}\n",
    "\\frac{dy_1}{dt}=&-r_1-r_2;\\hspace{10mm}y_1(0)=1\\\\\n",
    "\\frac{dy_2}{dt}=&\\frac{r_1}{2}-r_2;\\hspace{10mm}y_2(0)=0\\\\\n",
    "r_1=&k_1\\left(y_1^2-y_2\\frac{2-2y_1-y_2}{3K_1}\\right)\\\\\n",
    "r_2=&k_2\\left(y_1y_2-\\frac{(1-y_1-2y_2)(2-2y_1-y_2)}{9K_2}\\right)\n",
    "\\end{align*}\n",
    "with $K_1=0.242$ and $K_2=0.428$"
   ]
  },
  {
   "cell_type": "markdown",
   "metadata": {},
   "source": [
    "## Scaling for parameter estimation\n",
    "Let $u_1=\\frac{y_1}{M_1}$ and $u_2=\\frac{y_2}{M_2}$,\n",
    "\\begin{align*}\n",
    "\\frac{M_1}{t_c}\\frac{du_1}{d\\bar{t}}=&-k_1\\left(M_1^2u_1^2-M_2u_2\\frac{2-2M_1u_1-M_2u_2}{3K_1}\\right)\\\\\n",
    "&-k_2\\left(M_1M_2u_1u_2-\\frac{(1-M_1u_1-2M_2u_2)(2-2M_1u_1-M_2u_2)}{9K_2}\\right)\\\\\n",
    "=&-k_1M_1^2\\left(u_1^2-\\frac{M_2}{M_1}u_2\\frac{\\frac{2}{M_1}-2u_1-\\frac{M_2}{M_1}u_2}{3K_1}\\right)\\\\\n",
    "&-k_2M_1^2\\left(\\frac{M_2}{M_1}u_1u_2-\\frac{(\\frac{1}{M_1}-u_1-2\\frac{M_2}{M_1}u_2)(\\frac{2}{M_1}-2u_1-\\frac{M_2}{M_1}u_2)}{9K_2}\\right)\\\\\n",
    "\\frac{du_1}{d\\bar{t}}=&-k_1M_1t_c\\left(u_1^2-\\frac{M_2}{M_1}u_2\\frac{\\frac{2}{M_1}-2u_1-\\frac{M_2}{M_1}u_2}{3K_1}\\right)\\\\\n",
    "&-k_2M_1t_c\\left(\\frac{M_2}{M_1}u_1u_2-\\frac{(\\frac{1}{M_1}-u_1-2\\frac{M_2}{M_1}u_2)(\\frac{2}{M_1}-2u_1-\\frac{M_2}{M_1}u_2)}{9K_2}\\right)\n",
    "\\end{align*}\n",
    "\n",
    "\\begin{align*}\n",
    "\\frac{M_2}{t_c}\\frac{du_2}{d\\bar{t}}=&\\frac{k_1}{2}\\left(M_1^2u_1^2-M_2u_2\\frac{2-2M_1u_1-M_2u_2}{3K_1}\\right)\\\\\n",
    "&-k_2\\left(M_1M_2u_1u_2-\\frac{(1-M_1u_1-2M_2u_2)(2-2M_1u_1-M_2u_2)}{9K_2}\\right)\\\\\n",
    "=&\\frac{k_1M_1^2}{2}\\left(u_1^2-\\frac{M_2}{M_1}u_2\\frac{\\frac{2}{M_1}-2u_1-\\frac{M_2}{M_1}u_2}{3K_1}\\right)\\\\\n",
    "&-k_2M_1^2\\left(\\frac{M_2}{M_1}u_1u_2-\\frac{(\\frac{1}{M_1}-u_1-2\\frac{M_2}{M_1}u_2)(\\frac{2}{M_1}-2u_1-\\frac{M_2}{M_1}u_2)}{9K_2}\\right)\\\\\n",
    "\\frac{du_2}{d\\bar{t}}=&\\frac{k_1M_1t_c}{2}\\frac{M_1}{M_2}\\left(u_1^2-\\frac{M_2}{M_1}u_2\\frac{\\frac{2}{M_1}-2u_1-\\frac{M_2}{M_1}u_2}{3K_1}\\right)\\\\\n",
    "&-k_2M_1t_c\\frac{M_1}{M_2}\\left(\\frac{M_2}{M_1}u_1u_2-\\frac{(\\frac{1}{M_1}-u_1-2\\frac{M_2}{M_1}u_2)(\\frac{2}{M_1}-2u_1-\\frac{M_2}{M_1}u_2)}{9K_2}\\right)\n",
    "\\end{align*}"
   ]
  },
  {
   "cell_type": "markdown",
   "metadata": {},
   "source": [
    "Let $\\bar{k_1}=k_1M_1t_c$, $\\bar{k_2}=k_2M_1t_c$ and $\\frac{M_2}{M_1}=\\gamma$,\n",
    "\\begin{align*}\n",
    "\\frac{du_1}{d\\bar{t}}=&-\\bar{k}_1\\left(u_1^2-\\gamma u_2\\frac{\\frac{2}{M_1}-2u_1-\\gamma u_2}{3K_1}\\right)\\\\\n",
    "&-\\bar{k}_2\\left(\\gamma u_1u_2-\\frac{(\\frac{1}{M_1}-u_1-2\\gamma u_2)(\\frac{2}{M_1}-2u_1-\\gamma u_2)}{9K_2}\\right)\n",
    "\\end{align*}\n",
    "\\begin{align*}\n",
    "\\frac{du_2}{d\\bar{t}}=&\\frac{\\bar{k}_1}{2\\gamma}\\left(u_1^2-\\gamma u_2\\frac{\\frac{2}{M_1}-2u_1-\\gamma u_2}{3K_1}\\right)\\\\\n",
    "&-\\frac{\\bar{k}_2}{\\gamma}\\left(\\gamma u_1u_2-\\frac{(\\frac{1}{M_1}-u_1-2\\gamma u_2)(\\frac{2}{M_1}-2u_1-\\gamma u_2)}{9K_2}\\right)\n",
    "\\end{align*}"
   ]
  },
  {
   "cell_type": "code",
   "execution_count": 3,
   "metadata": {},
   "outputs": [],
   "source": [
    "def model2_scaled(u,kbar,M1,M2):\n",
    "    K1 = 0.242\n",
    "    K2 = 0.428\n",
    "    gamma = M2/M1\n",
    "    r1 = u[0]**2-gamma*u[1]*(2/M1-2*u[0]-gamma*u[1])/(3*K1)\n",
    "    r2 = gamma*u[0]*u[1]-(1/M1-u[0]-2*gamma*u[1])*(2/M1-2*u[0]-gamma*u[1])/(9*K2)\n",
    "    dudt = np.empty(2)\n",
    "    dudt[0] = -kbar[0]*r1-kbar[1]*r2\n",
    "    dudt[1] = kbar[0]*r1/(2*gamma)-kbar[1]*r2/gamma\n",
    "    return dudt"
   ]
  },
  {
   "cell_type": "markdown",
   "metadata": {},
   "source": [
    "## Integration with estimated paramters"
   ]
  },
  {
   "cell_type": "code",
   "execution_count": 4,
   "metadata": {},
   "outputs": [],
   "source": [
    "t = np.array([0,5.63,11.32,16.97,22.62,34.00,39.70,45.20,169.7],dtype='f')*1e-4\n",
    "yhat = np.array([[1,0.828,0.704,0.622,0.565,0.499,0.482,0.470,0.443],\n",
    "                   [0,0.0737,0.1130,0.1322,0.1400,0.1468,0.1477,0.1477,0.1476]],dtype='f')\n",
    "y0 = yhat[:,0]\n",
    "k = np.array([354.61,400.23])"
   ]
  },
  {
   "cell_type": "code",
   "execution_count": 5,
   "metadata": {},
   "outputs": [],
   "source": [
    "tc = t[-1]\n",
    "M1 = max(yhat[0,:])\n",
    "M2 = max(yhat[1,:])\n",
    "tbar = t/tc\n",
    "uhat = np.diag([1/M1,1/M2])@yhat\n",
    "u0 = uhat[:,0]\n",
    "kbar = k*M1*tc"
   ]
  },
  {
   "cell_type": "code",
   "execution_count": 6,
   "metadata": {},
   "outputs": [],
   "source": [
    "def model2(u,kbar):\n",
    "    return model2_scaled(u,kbar,M1,M2)"
   ]
  },
  {
   "cell_type": "code",
   "execution_count": 7,
   "metadata": {},
   "outputs": [],
   "source": [
    "res = integrator_jacobian(model2,u0,kbar,tbar)"
   ]
  },
  {
   "cell_type": "code",
   "execution_count": 8,
   "metadata": {},
   "outputs": [
    {
     "data": {
      "text/plain": [
       "[<matplotlib.lines.Line2D at 0x7f22f9a32f98>,\n",
       " <matplotlib.lines.Line2D at 0x7f22f9a43080>]"
      ]
     },
     "execution_count": 8,
     "metadata": {},
     "output_type": "execute_result"
    },
    {
     "data": {
      "image/png": "[encoded data removed]",
      "text/plain": [
       "<Figure size 432x288 with 1 Axes>"
      ]
     },
     "metadata": {
      "needs_background": "light"
     },
     "output_type": "display_data"
    }
   ],
   "source": [
    "plt.plot(tbar,uhat[0,:],'bs',tbar,uhat[1,:],'r^')\n",
    "plt.plot(tbar,res[0][0,:],'b',tbar,res[0][1,:],'r')"
   ]
  },
  {
   "cell_type": "markdown",
   "metadata": {},
   "source": [
    "## Parameter estimation with LM mothod\n",
    "### Test with given parameters"
   ]
  },
  {
   "cell_type": "code",
   "execution_count": 9,
   "metadata": {},
   "outputs": [
    {
     "name": "stdout",
     "output_type": "stream",
     "text": [
      "Iteration | Objective function | Reduced gradient |   mu   |   rho\n",
      "         0|          1.3624e-04|          1.22e-03| 1.1e-03| Not calculated\n",
      "         1|          1.0880e-04|          1.86e-05| 3.7e-04| 1.2e+00\n"
     ]
    }
   ],
   "source": [
    "Q = np.eye(2)\n",
    "k_est = lm(model2,uhat,Q,kbar,tbar,[1e-3,1e-4,1e-4,100])"
   ]
  },
  {
   "cell_type": "code",
   "execution_count": 102,
   "metadata": {},
   "outputs": [
    {
     "name": "stdout",
     "output_type": "stream",
     "text": [
      "[357.13631626 407.14534494]\n"
     ]
    }
   ],
   "source": [
    "k_est\n",
    "print(k_est[0]/(M1*tc))"
   ]
  },
  {
   "cell_type": "markdown",
   "metadata": {},
   "source": [
    "### Initial guess with $k=[500,500]$"
   ]
  },
  {
   "cell_type": "code",
   "execution_count": 126,
   "metadata": {},
   "outputs": [
    {
     "name": "stdout",
     "output_type": "stream",
     "text": [
      "Iteration | Objective function | Reduced gradient |   mu   |   rho\n",
      "         0|          6.8843e-02|          2.39e-01| 8.6e-04| Not calculated\n",
      "         1|          8.3497e-03|          9.34e-02| 2.9e-04| 1.6e+00\n",
      "         2|          1.1069e-04|          1.04e-03| 9.5e-05| 2.0e+00\n",
      "         3|          1.0882e-04|          6.30e-06| 3.2e-05| 1.9e+00\n",
      "         4|          1.0880e-04|          7.56e-08| 1.1e-05| 1.8e+02\n",
      "         5|          1.0883e-04|          7.56e-08| 2.1e-05|-1.5e+06\n",
      "         6|          1.0882e-04|          7.56e-08| 8.5e-05|-1.1e+06\n",
      "         7|          1.0880e-04|          7.56e-08| 6.8e-04|-1.9e+05\n",
      "         8|          1.0883e-04|          7.56e-08| 1.1e-02|-1.1e+06\n",
      "         9|          1.0882e-04|          7.56e-08| 3.5e-01|-1.9e+05\n",
      "        10|          1.0877e-04|          1.55e-06| 1.2e-01| 1.9e+05\n",
      "        11|          1.0862e-04|          1.01e-05| 3.8e-02| 2.6e+03\n",
      "        12|          1.0877e-04|          1.01e-05| 7.7e-02|-8.3e+01\n",
      "        13|          1.0882e-04|          1.01e-05| 3.1e-01|-1.0e+02\n",
      "        14|          1.0879e-04|          1.01e-05| 2.5e+00|-1.1e+02\n",
      "        15|          1.0882e-04|          1.01e-05| 3.9e+01|-2.4e+02\n",
      "        16|          1.0882e-04|          1.01e-05| 1.3e+03|-2.2e+03\n",
      "        17|          1.0882e-04|          1.01e-05| 1.3e+03|-2.2e+03\n"
     ]
    }
   ],
   "source": [
    "k0 = np.array([500,500])\n",
    "kbar0 = k0*M1*tc\n",
    "est = lm(model2,uhat,Q,kbar0,tbar,[1e-3,1e-8,1e-8,100])"
   ]
  },
  {
   "cell_type": "code",
   "execution_count": 127,
   "metadata": {},
   "outputs": [
    {
     "name": "stdout",
     "output_type": "stream",
     "text": [
      "[357.1581939  407.21994252]\n"
     ]
    }
   ],
   "source": [
    "print(est[0]/(M1*tc))"
   ]
  },
  {
   "cell_type": "code",
   "execution_count": 12,
   "metadata": {},
   "outputs": [
    {
     "data": {
      "text/plain": [
       "[array([6.06104816, 6.91088138]),\n",
       " array([[1.        , 0.82722262, 0.70379873, 0.61977012, 0.56275538,\n",
       "         0.49786806, 0.48019915, 0.46863329, 0.44329832],\n",
       "        [0.        , 0.50161358, 0.76085978, 0.88885947, 0.95141288,\n",
       "         0.99526795, 1.0012687 , 1.00343103, 1.00025573]]),\n",
       " [3, 'g']]"
      ]
     },
     "execution_count": 12,
     "metadata": {},
     "output_type": "execute_result"
    }
   ],
   "source": [
    "est"
   ]
  },
  {
   "cell_type": "markdown",
   "metadata": {},
   "source": [
    "### Initial guess with $k=[10000,10000]$"
   ]
  },
  {
   "cell_type": "code",
   "execution_count": 13,
   "metadata": {},
   "outputs": [
    {
     "name": "stdout",
     "output_type": "stream",
     "text": [
      "Iteration | Objective function | Reduced gradient |   mu   |   rho\n",
      "         0|          3.5888e-01|          3.64e-01| 4.1e-02| Not calculated\n",
      "         1|          9.3714e-01|          3.64e-01| 8.2e-02|-1.5e-01\n",
      "         2|          3.2835e-01|          5.56e-01| 1.6e-01| 5.0e-03\n",
      "         3|          3.8401e-02|          1.07e-01| 2.3e-01| 1.2e-01\n",
      "         4|          1.9526e-02|          3.03e-02| 3.9e-01| 5.5e-02\n",
      "         5|          1.6134e-02|          2.49e-02| 7.1e-01| 3.2e-02\n",
      "         6|          1.4479e-02|          2.34e-02| 1.3e+00| 3.4e-02\n",
      "         7|          1.3599e-02|          2.27e-02| 2.3e+00| 3.6e-02\n",
      "         8|          1.3120e-02|          2.24e-02| 4.2e+00| 3.7e-02\n",
      "         9|          1.2857e-02|          2.22e-02| 7.4e+00| 3.7e-02\n",
      "        10|          1.2712e-02|          2.21e-02| 1.3e+01| 3.7e-02\n",
      "        11|          1.2631e-02|          2.20e-02| 2.4e+01| 3.7e-02\n",
      "        12|          1.2586e-02|          2.20e-02| 4.3e+01| 3.7e-02\n",
      "        13|          1.2561e-02|          2.20e-02| 7.7e+01| 3.7e-02\n",
      "        14|          1.2546e-02|          2.20e-02| 1.4e+02| 3.8e-02\n",
      "        15|          1.2539e-02|          2.19e-02| 2.5e+02| 3.7e-02\n",
      "        16|          1.2534e-02|          2.19e-02| 4.4e+02| 3.8e-02\n",
      "        17|          1.2532e-02|          2.19e-02| 7.9e+02| 3.9e-02\n",
      "        18|          1.2531e-02|          2.19e-02| 1.4e+03| 3.6e-02\n",
      "        19|          1.2530e-02|          2.19e-02| 2.5e+03| 4.2e-02\n",
      "        20|          1.2529e-02|          2.19e-02| 4.6e+03| 3.2e-02\n",
      "        21|          1.2529e-02|          2.19e-02| 7.9e+03| 4.8e-02\n",
      "        22|          1.2529e-02|          2.19e-02| 1.4e+04| 3.5e-02\n",
      "        23|          1.2529e-02|          2.19e-02| 2.9e+04|-4.7e-02\n",
      "        24|          1.2529e-02|          2.19e-02| 1.1e+05|-3.1e-02\n",
      "        25|          1.2529e-02|          2.19e-02| 9.2e+05|-2.4e-01\n",
      "        26|          1.2529e-02|          2.19e-02| 1.5e+07|-2.1e-01\n",
      "        27|          1.2529e-02|          2.19e-02| 1.5e+07|-2.1e-01\n"
     ]
    }
   ],
   "source": [
    "k0 = np.array([1e3,1e3])\n",
    "kbar0 = k0*M1*tc\n",
    "est = lm(model2,uhat,Q,kbar0,tbar,[1e-1,1e-8,1e-8,100])"
   ]
  },
  {
   "cell_type": "code",
   "execution_count": 14,
   "metadata": {},
   "outputs": [
    {
     "data": {
      "text/plain": [
       "[array([ 7.12610348, 10.58171716]),\n",
       " array([[1.        , 0.79996614, 0.6654987 , 0.58109146, 0.52859304,\n",
       "         0.47583581, 0.46342662, 0.45599924, 0.44329368],\n",
       "        [0.        , 0.54018249, 0.76889992, 0.86658768, 0.91392863,\n",
       "         0.95864086, 0.9709478 , 0.97947851, 1.00024127]]),\n",
       " [27, 'h']]"
      ]
     },
     "execution_count": 14,
     "metadata": {},
     "output_type": "execute_result"
    }
   ],
   "source": [
    "est"
   ]
  },
  {
   "cell_type": "code",
   "execution_count": 15,
   "metadata": {},
   "outputs": [
    {
     "name": "stdout",
     "output_type": "stream",
     "text": [
      "Iteration | Objective function | Reduced gradient |   mu   |   rho\n",
      "         0|          1.2529e-02|          2.19e-02| 9.3e-02| Not calculated\n",
      "         1|          5.1789e-03|          1.53e-02| 1.6e-01| 5.3e-02\n",
      "         2|          2.7542e-03|          1.20e-02| 2.7e-01| 6.5e-02\n",
      "         3|          1.8134e-03|          9.91e-03| 4.3e-01| 6.9e-02\n",
      "         4|          1.3874e-03|          8.69e-03| 7.1e-01| 7.0e-02\n",
      "         5|          1.1718e-03|          7.97e-03| 1.2e+00| 7.1e-02\n",
      "         6|          1.0568e-03|          7.56e-03| 1.9e+00| 7.0e-02\n",
      "         7|          9.9002e-04|          7.30e-03| 3.1e+00| 7.2e-02\n",
      "         8|          9.5171e-04|          7.15e-03| 5.0e+00| 7.1e-02\n",
      "         9|          9.2955e-04|          7.06e-03| 8.3e+00| 6.9e-02\n",
      "        10|          9.1592e-04|          7.01e-03| 1.4e+01| 7.1e-02\n",
      "        11|          9.0757e-04|          6.97e-03| 2.2e+01| 7.1e-02\n",
      "        12|          9.0183e-04|          6.94e-03| 3.5e+01| 8.0e-02\n",
      "        13|          8.9850e-04|          6.93e-03| 5.7e+01| 7.5e-02\n",
      "        14|          8.9747e-04|          6.93e-03| 1.0e+02| 3.7e-02\n",
      "        15|          8.9564e-04|          6.91e-03| 1.5e+02| 1.2e-01\n",
      "        16|          8.9563e-04|          6.92e-03| 2.9e+02| 1.0e-03\n",
      "        17|          8.9525e-04|          6.92e-03| 4.8e+02| 7.1e-02\n",
      "        18|          8.9428e-04|          6.91e-03| 5.1e+02| 3.0e-01\n",
      "        19|          8.9388e-04|          6.91e-03| 7.1e+02| 1.3e-01\n",
      "        20|          8.9391e-04|          6.91e-03| 1.4e+03|-1.1e-02\n",
      "        21|          8.9398e-04|          6.91e-03| 5.7e+03|-9.1e-02\n",
      "        22|          8.9472e-04|          6.91e-03| 4.6e+04|-3.1e+00\n",
      "        23|          8.9406e-04|          6.91e-03| 7.3e+05|-5.2e+00\n",
      "        24|          8.9406e-04|          6.91e-03| 7.3e+05|-5.2e+00\n"
     ]
    }
   ],
   "source": [
    "kest = est[0]\n",
    "est = lm(model2,uhat,Q,kest,tbar,[1e-1,1e-8,1e-8,100])"
   ]
  },
  {
   "cell_type": "code",
   "execution_count": 16,
   "metadata": {},
   "outputs": [
    {
     "data": {
      "text/plain": [
       "[array([6.29269332, 7.60646565]),\n",
       " array([[1.        , 0.82127383, 0.69521473, 0.61080158, 0.55453368,\n",
       "         0.49213769, 0.47565735, 0.4650704 , 0.44329595],\n",
       "        [0.        , 0.51159161, 0.76532185, 0.88599776, 0.94364908,\n",
       "         0.98506101, 0.99190926, 0.99535795, 1.00024295]]),\n",
       " [24, 'h']]"
      ]
     },
     "execution_count": 16,
     "metadata": {},
     "output_type": "execute_result"
    }
   ],
   "source": [
    "est"
   ]
  },
  {
   "cell_type": "code",
   "execution_count": 17,
   "metadata": {},
   "outputs": [],
   "source": [
    "kest = est[0]\n",
    "res = integrator_jacobian(model2,u0,kest,tbar)"
   ]
  },
  {
   "cell_type": "code",
   "execution_count": 18,
   "metadata": {},
   "outputs": [
    {
     "data": {
      "text/plain": [
       "[<matplotlib.lines.Line2D at 0x7f22f997ee48>,\n",
       " <matplotlib.lines.Line2D at 0x7f22f9987208>]"
      ]
     },
     "execution_count": 18,
     "metadata": {},
     "output_type": "execute_result"
    },
    {
     "data": {
      "image/png": "[encoded data removed]",
      "text/plain": [
       "<Figure size 432x288 with 1 Axes>"
      ]
     },
     "metadata": {
      "needs_background": "light"
     },
     "output_type": "display_data"
    }
   ],
   "source": [
    "plt.plot(tbar,uhat[0,:],'bs',tbar,uhat[1,:],'r^')\n",
    "plt.plot(tbar,res[0][0,:],'b',tbar,res[0][1,:],'r')"
   ]
  },
  {
   "cell_type": "code",
   "execution_count": 37,
   "metadata": {},
   "outputs": [],
   "source": [
    "def Sg_ode(ode,yhat,Q,k,time):\n",
    "    # check whether y is a scalar or a vector\n",
    "    try:\n",
    "        if np.size(yhat) == np.size(yhat,0):\n",
    "            y0 = yhat[0]\n",
    "            N = np.size(yhat)\n",
    "        else:\n",
    "            y0 = yhat[:,0]\n",
    "            N = np.size(yhat,1)\n",
    "\n",
    "        p = np.size(k)\n",
    "        Y,J = integrator_jacobian(ode,y0,k,time)\n",
    "        S,r = objective_func(yhat,Y,Q,N)\n",
    "        return S\n",
    "    except OverflowError:\n",
    "        print(\"Problem with integration. Try with another parameters\")\n",
    "        return"
   ]
  },
  {
   "cell_type": "code",
   "execution_count": 120,
   "metadata": {},
   "outputs": [],
   "source": [
    "k0 = np.array([5000,5000])\n",
    "kbar0 = k0*M1*tc\n",
    "Y,J = integrator_jacobian(model2,u0,kbar0,tbar)"
   ]
  },
  {
   "cell_type": "code",
   "execution_count": 121,
   "metadata": {},
   "outputs": [],
   "source": [
    "S, r = objective_func(uhat,Y,Q,np.size(uhat,1))\n",
    "H,g = Hg(J,Q,r,2,np.size(uhat,1))\n",
    "K = np.diag(kbar0)\n",
    "Hr = K@H@K\n",
    "gr = K@g\n",
    "hr = svdsolve(Hr,-gr)"
   ]
  },
  {
   "cell_type": "code",
   "execution_count": 122,
   "metadata": {},
   "outputs": [
    {
     "name": "stdout",
     "output_type": "stream",
     "text": [
      "[84.84999649 84.84999649]\n",
      "[-2734.71969214  -628.48568586]\n"
     ]
    }
   ],
   "source": [
    "h = K@hr\n",
    "print(kbar0)\n",
    "print(h)"
   ]
  },
  {
   "cell_type": "code",
   "execution_count": 123,
   "metadata": {},
   "outputs": [],
   "source": [
    "nx=100\n",
    "alpha = np.linspace(0,1e-3,nx)"
   ]
  },
  {
   "cell_type": "code",
   "execution_count": 124,
   "metadata": {},
   "outputs": [],
   "source": [
    "S = np.empty(nx)\n",
    "for i in range(nx):\n",
    "    S[i] = Sg_ode(model2,uhat,Q,kbar0+alpha[i]*h,tbar)"
   ]
  },
  {
   "cell_type": "code",
   "execution_count": 125,
   "metadata": {},
   "outputs": [
    {
     "data": {
      "text/plain": [
       "[<matplotlib.lines.Line2D at 0x7f22f8c82748>]"
      ]
     },
     "execution_count": 125,
     "metadata": {},
     "output_type": "execute_result"
    },
    {
     "data": {
      "image/png": "[encoded data removed]",
      "text/plain": [
       "<Figure size 432x288 with 1 Axes>"
      ]
     },
     "metadata": {
      "needs_background": "light"
     },
     "output_type": "display_data"
    }
   ],
   "source": [
    "plt.plot(alpha,S)"
   ]
  },
  {
   "cell_type": "code",
   "execution_count": 60,
   "metadata": {},
   "outputs": [],
   "source": [
    "hr = svdsolve(np.eye(2),-gr)"
   ]
  },
  {
   "cell_type": "code",
   "execution_count": 61,
   "metadata": {},
   "outputs": [
    {
     "name": "stdout",
     "output_type": "stream",
     "text": [
      "[-2.02465507  0.67693049]\n"
     ]
    }
   ],
   "source": [
    "h = K@hr\n",
    "print(h)"
   ]
  },
  {
   "cell_type": "code",
   "execution_count": 51,
   "metadata": {},
   "outputs": [],
   "source": [
    "S = np.empty(20)\n",
    "for i in range(20):\n",
    "    S[i] = Sg_ode(model2,uhat,Q,kbar0+alpha[i]*h,tbar)"
   ]
  },
  {
   "cell_type": "code",
   "execution_count": 52,
   "metadata": {},
   "outputs": [
    {
     "data": {
      "text/plain": [
       "[<matplotlib.lines.Line2D at 0x7f22f91ae7b8>]"
      ]
     },
     "execution_count": 52,
     "metadata": {},
     "output_type": "execute_result"
    },
    {
     "data": {
      "image/png": "[encoded data removed]",
      "text/plain": [
       "<Figure size 432x288 with 1 Axes>"
      ]
     },
     "metadata": {
      "needs_background": "light"
     },
     "output_type": "display_data"
    }
   ],
   "source": [
    "plt.plot(alpha,S)"
   ]
  }
 ],
 "metadata": {
  "kernelspec": {
   "display_name": "Python 3",
   "language": "python",
   "name": "python3"
  },
  "language_info": {
   "codemirror_mode": {
    "name": "ipython",
    "version": 3
   },
   "file_extension": ".py",
   "mimetype": "text/x-python",
   "name": "python",
   "nbconvert_exporter": "python",
   "pygments_lexer": "ipython3",
   "version": "3.7.3"
  }
 },
 "nbformat": 4,
 "nbformat_minor": 2
}
