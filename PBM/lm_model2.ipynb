{
 "cells": [
  {
   "cell_type": "code",
   "execution_count": 1,
   "metadata": {},
   "outputs": [],
   "source": [
    "%run lm_ode.ipynb"
   ]
  },
  {
   "cell_type": "code",
   "execution_count": 2,
   "metadata": {},
   "outputs": [],
   "source": [
    "import matplotlib.pyplot as plt"
   ]
  },
  {
   "cell_type": "markdown",
   "metadata": {},
   "source": [
    "# Model 2: Pyrolytic dehydrogenation model\n",
    "Pyrolytic dehydrogenation of benzene to diphenyl and triphenyl\n",
    "$$2C_2H_6\\longleftrightarrow C_{12}H_{10}+H_2$$\n",
    "$$C_6H_6+C_{12}H_{10}\\longleftrightarrow C_{10}H_{14}+H_2$$\n",
    "with differential equations model\n",
    "\\begin{align*}\n",
    "\\frac{dy_1}{dt}=&-r_1-r_2;\\hspace{10mm}y_1(0)=1\\\\\n",
    "\\frac{dy_2}{dt}=&\\frac{r_1}{2}-r_2;\\hspace{10mm}y_2(0)=0\\\\\n",
    "r_1=&k_1\\left(y_1^2-y_2\\frac{2-2y_1-y_2}{3K_1}\\right)\\\\\n",
    "r_2=&k_2\\left(y_1y_2-\\frac{(1-y_1-2y_2)(2-2y_1-y_2)}{9K_2}\\right)\n",
    "\\end{align*}\n",
    "with $K_1=0.242$ and $K_2=0.428$"
   ]
  },
  {
   "cell_type": "markdown",
   "metadata": {},
   "source": [
    "## Scaling for parameter estimation\n",
    "Let $u_1=\\frac{y_1}{M_1}$ and $u_2=\\frac{y_2}{M_2}$,\n",
    "\\begin{align*}\n",
    "\\frac{M_1}{t_c}\\frac{du_1}{d\\bar{t}}=&-k_1\\left(M_1^2u_1^2-M_2u_2\\frac{2-2M_1u_1-M_2u_2}{3K_1}\\right)\\\\\n",
    "&-k_2\\left(M_1M_2u_1u_2-\\frac{(1-M_1u_1-2M_2u_2)(2-2M_1u_1-M_2u_2)}{9K_2}\\right)\\\\\n",
    "=&-k_1M_1^2\\left(u_1^2-\\frac{M_2}{M_1}u_2\\frac{\\frac{2}{M_1}-2u_1-\\frac{M_2}{M_1}u_2}{3K_1}\\right)\\\\\n",
    "&-k_2M_1^2\\left(\\frac{M_2}{M_1}u_1u_2-\\frac{(\\frac{1}{M_1}-u_1-2\\frac{M_2}{M_1}u_2)(\\frac{2}{M_1}-2u_1-\\frac{M_2}{M_1}u_2)}{9K_2}\\right)\\\\\n",
    "\\frac{du_1}{d\\bar{t}}=&-k_1M_1t_c\\left(u_1^2-\\frac{M_2}{M_1}u_2\\frac{\\frac{2}{M_1}-2u_1-\\frac{M_2}{M_1}u_2}{3K_1}\\right)\\\\\n",
    "&-k_2M_1t_c\\left(\\frac{M_2}{M_1}u_1u_2-\\frac{(\\frac{1}{M_1}-u_1-2\\frac{M_2}{M_1}u_2)(\\frac{2}{M_1}-2u_1-\\frac{M_2}{M_1}u_2)}{9K_2}\\right)\n",
    "\\end{align*}\n",
    "\n",
    "\\begin{align*}\n",
    "\\frac{M_2}{t_c}\\frac{du_2}{d\\bar{t}}=&\\frac{k_1}{2}\\left(M_1^2u_1^2-M_2u_2\\frac{2-2M_1u_1-M_2u_2}{3K_1}\\right)\\\\\n",
    "&-k_2\\left(M_1M_2u_1u_2-\\frac{(1-M_1u_1-2M_2u_2)(2-2M_1u_1-M_2u_2)}{9K_2}\\right)\\\\\n",
    "=&\\frac{k_1M_1^2}{2}\\left(u_1^2-\\frac{M_2}{M_1}u_2\\frac{\\frac{2}{M_1}-2u_1-\\frac{M_2}{M_1}u_2}{3K_1}\\right)\\\\\n",
    "&-k_2M_1^2\\left(\\frac{M_2}{M_1}u_1u_2-\\frac{(\\frac{1}{M_1}-u_1-2\\frac{M_2}{M_1}u_2)(\\frac{2}{M_1}-2u_1-\\frac{M_2}{M_1}u_2)}{9K_2}\\right)\\\\\n",
    "\\frac{du_2}{d\\bar{t}}=&\\frac{k_1M_1t_c}{2}\\frac{M_1}{M_2}\\left(u_1^2-\\frac{M_2}{M_1}u_2\\frac{\\frac{2}{M_1}-2u_1-\\frac{M_2}{M_1}u_2}{3K_1}\\right)\\\\\n",
    "&-k_2M_1t_c\\frac{M_1}{M_2}\\left(\\frac{M_2}{M_1}u_1u_2-\\frac{(\\frac{1}{M_1}-u_1-2\\frac{M_2}{M_1}u_2)(\\frac{2}{M_1}-2u_1-\\frac{M_2}{M_1}u_2)}{9K_2}\\right)\n",
    "\\end{align*}"
   ]
  },
  {
   "cell_type": "markdown",
   "metadata": {},
   "source": [
    "Let $\\bar{k_1}=k_1M_1t_c$, $\\bar{k_2}=k_2M_1t_c$ and $\\frac{M_2}{M_1}=\\gamma$,\n",
    "\\begin{align*}\n",
    "\\frac{du_1}{d\\bar{t}}=&-\\bar{k}_1\\left(u_1^2-\\gamma u_2\\frac{\\frac{2}{M_1}-2u_1-\\gamma u_2}{3K_1}\\right)\\\\\n",
    "&-\\bar{k}_2\\left(\\gamma u_1u_2-\\frac{(\\frac{1}{M_1}-u_1-2\\gamma u_2)(\\frac{2}{M_1}-2u_1-\\gamma u_2)}{9K_2}\\right)\n",
    "\\end{align*}\n",
    "\\begin{align*}\n",
    "\\frac{du_2}{d\\bar{t}}=&\\frac{\\bar{k}_1}{2\\gamma}\\left(u_1^2-\\gamma u_2\\frac{\\frac{2}{M_1}-2u_1-\\gamma u_2}{3K_1}\\right)\\\\\n",
    "&-\\frac{\\bar{k}_2}{\\gamma}\\left(\\gamma u_1u_2-\\frac{(\\frac{1}{M_1}-u_1-2\\gamma u_2)(\\frac{2}{M_1}-2u_1-\\gamma u_2)}{9K_2}\\right)\n",
    "\\end{align*}"
   ]
  },
  {
   "cell_type": "code",
   "execution_count": 3,
   "metadata": {},
   "outputs": [],
   "source": [
    "def model2_scaled(u,kbar,M1,M2):\n",
    "    K1 = 0.242\n",
    "    K2 = 0.428\n",
    "    gamma = M2/M1\n",
    "    r1 = u[0]**2-gamma*u[1]*(2/M1-2*u[0]-gamma*u[1])/(3*K1)\n",
    "    r2 = gamma*u[0]*u[1]-(1/M1-u[0]-2*gamma*u[1])*(2/M1-2*u[0]-gamma*u[1])/(9*K2)\n",
    "    dudt = np.empty(2)\n",
    "    dudt[0] = -kbar[0]*r1-kbar[1]*r2\n",
    "    dudt[1] = kbar[0]*r1/(2*gamma)-kbar[1]*r2/gamma\n",
    "    return dudt"
   ]
  },
  {
   "cell_type": "markdown",
   "metadata": {},
   "source": [
    "## Integration with estimated paramters"
   ]
  },
  {
   "cell_type": "code",
   "execution_count": 4,
   "metadata": {},
   "outputs": [],
   "source": [
    "t = np.array([0,5.63,11.32,16.97,22.62,34.00,39.70,45.20,169.7],dtype='f')*1e-4\n",
    "yhat = np.array([[1,0.828,0.704,0.622,0.565,0.499,0.482,0.470,0.443],\n",
    "                   [0,0.0737,0.1130,0.1322,0.1400,0.1468,0.1477,0.1477,0.1476]],dtype='f')\n",
    "y0 = yhat[:,0]\n",
    "k = np.array([354.61,400.23])"
   ]
  },
  {
   "cell_type": "code",
   "execution_count": 5,
   "metadata": {},
   "outputs": [],
   "source": [
    "tc = t[-1]\n",
    "M1 = max(yhat[0,:])\n",
    "M2 = max(yhat[1,:])\n",
    "tbar = t/tc\n",
    "uhat = np.diag([1/M1,1/M2])@yhat\n",
    "u0 = uhat[:,0]\n",
    "kbar = k*M1*tc"
   ]
  },
  {
   "cell_type": "code",
   "execution_count": 6,
   "metadata": {},
   "outputs": [],
   "source": [
    "def model2(u,kbar):\n",
    "    return model2_scaled(u,kbar,M1,M2)"
   ]
  },
  {
   "cell_type": "code",
   "execution_count": 7,
   "metadata": {},
   "outputs": [],
   "source": [
    "res = integrator_jacobian(model2,u0,kbar,tbar)"
   ]
  },
  {
   "cell_type": "code",
   "execution_count": 8,
   "metadata": {},
   "outputs": [
    {
     "data": {
      "text/plain": [
       "[<matplotlib.lines.Line2D at 0x7f7a4bc57c50>,\n",
       " <matplotlib.lines.Line2D at 0x7f7a4b9e40f0>]"
      ]
     },
     "execution_count": 8,
     "metadata": {},
     "output_type": "execute_result"
    },
    {
     "data": {
      "image/png": "[encoded data removed]",
      "text/plain": [
       "<Figure size 432x288 with 1 Axes>"
      ]
     },
     "metadata": {
      "needs_background": "light"
     },
     "output_type": "display_data"
    }
   ],
   "source": [
    "plt.plot(tbar,uhat[0,:],'bs',tbar,uhat[1,:],'r^')\n",
    "plt.plot(tbar,res[0][0,:],'b',tbar,res[0][1,:],'r')"
   ]
  },
  {
   "cell_type": "markdown",
   "metadata": {},
   "source": [
    "## Parameter estimation with LM mothod\n",
    "### Test with given parameters"
   ]
  },
  {
   "cell_type": "code",
   "execution_count": 10,
   "metadata": {},
   "outputs": [
    {
     "name": "stdout",
     "output_type": "stream",
     "text": [
      "Iter | Obj func | grad\n",
      "    0|6.8120e-05|  1.80e-04\n",
      "    1|5.4312e-05|  1.27e-06\n"
     ]
    }
   ],
   "source": [
    "Q = np.eye(2)\n",
    "k_est = gn(model2,uhat,Q,kbar,tbar,[1e-3,1e-4,1e-4,100])"
   ]
  },
  {
   "cell_type": "code",
   "execution_count": 11,
   "metadata": {},
   "outputs": [
    {
     "name": "stdout",
     "output_type": "stream",
     "text": [
      "[357.17045565 407.24347291]\n"
     ]
    }
   ],
   "source": [
    "k_est\n",
    "print(k_est[0]/(M1*tc))"
   ]
  },
  {
   "cell_type": "markdown",
   "metadata": {},
   "source": [
    "### Initial guess with $k=[500,500]$"
   ]
  },
  {
   "cell_type": "code",
   "execution_count": 12,
   "metadata": {},
   "outputs": [
    {
     "name": "stdout",
     "output_type": "stream",
     "text": [
      "Iter | Obj func | grad\n",
      "    0|3.4422e-02|  2.81e-02\n",
      "    1|4.2405e-03|  1.65e-02\n",
      "    2|5.5482e-05|  2.10e-04\n",
      "    3|5.4312e-05|  3.04e-06\n",
      "    4|5.4311e-05|  2.68e-08\n",
      "    5|5.4310e-05|  6.84e-09\n"
     ]
    }
   ],
   "source": [
    "k0 = np.array([500,500])\n",
    "kbar0 = k0*M1*tc\n",
    "est = gn(model2,uhat,Q,kbar0,tbar,[1e-3,1e-8,1e-8,100])"
   ]
  },
  {
   "cell_type": "code",
   "execution_count": 13,
   "metadata": {},
   "outputs": [
    {
     "name": "stdout",
     "output_type": "stream",
     "text": [
      "[357.15386175 407.19605162]\n"
     ]
    }
   ],
   "source": [
    "print(est[0]/(M1*tc))"
   ]
  },
  {
   "cell_type": "code",
   "execution_count": 14,
   "metadata": {},
   "outputs": [
    {
     "data": {
      "text/plain": [
       "[array([6.06090078, 6.91011671]),\n",
       " array([[1.        , 0.82722673, 0.70380499, 0.61977694, 0.56276186,\n",
       "         0.4978719 , 0.48020364, 0.46863596, 0.44329833],\n",
       "        [0.        , 0.50160953, 0.76086357, 0.88887096, 0.95142904,\n",
       "         0.99526532, 1.00126587, 1.00343044, 1.00025575]]),\n",
       " [5, 'g']]"
      ]
     },
     "execution_count": 14,
     "metadata": {},
     "output_type": "execute_result"
    }
   ],
   "source": [
    "est"
   ]
  },
  {
   "cell_type": "markdown",
   "metadata": {},
   "source": [
    "### Initial guess with $k=[10000,10000]$"
   ]
  },
  {
   "cell_type": "code",
   "execution_count": 48,
   "metadata": {},
   "outputs": [],
   "source": [
    "k0 = np.array([-1e3,-1e3])\n",
    "kbar0 = k0*M1*tc"
   ]
  },
  {
   "cell_type": "code",
   "execution_count": 49,
   "metadata": {},
   "outputs": [],
   "source": [
    "y0 = [1,0]\n",
    "t0 = [tbar[0],tbar[1]]"
   ]
  },
  {
   "cell_type": "code",
   "execution_count": 47,
   "metadata": {},
   "outputs": [
    {
     "data": {
      "text/plain": [
       "0.0"
      ]
     },
     "execution_count": 47,
     "metadata": {},
     "output_type": "execute_result"
    }
   ],
   "source": [
    "t0[0]"
   ]
  },
  {
   "cell_type": "code",
   "execution_count": 50,
   "metadata": {},
   "outputs": [],
   "source": [
    "def dydt(t,y):\n",
    "    return model2(y,kbar0)\n",
    "solution = solve_ivp(dydt,[t0[0],t0[-1]],y0,method='Radau',t_eval=t0)"
   ]
  },
  {
   "cell_type": "code",
   "execution_count": 51,
   "metadata": {},
   "outputs": [
    {
     "data": {
      "text/plain": [
       "  message: 'The solver successfully reached the end of the integration interval.'\n",
       "     nfev: 47\n",
       "     njev: 2\n",
       "      nlu: 12\n",
       "      sol: None\n",
       "   status: 0\n",
       "  success: True\n",
       "        t: array([0.        , 0.03317619], dtype=float32)\n",
       " t_events: None\n",
       "        y: array([[ 1.        ,  1.7264974 ],\n",
       "       [ 0.        , -4.49476161]])"
      ]
     },
     "execution_count": 51,
     "metadata": {},
     "output_type": "execute_result"
    }
   ],
   "source": [
    "solution"
   ]
  },
  {
   "cell_type": "code",
   "execution_count": 40,
   "metadata": {},
   "outputs": [],
   "source": [
    "Y, J = integrator_jacobian(model2,y0,kbar0,t0)"
   ]
  },
  {
   "cell_type": "code",
   "execution_count": 41,
   "metadata": {},
   "outputs": [
    {
     "data": {
      "text/plain": [
       "array([[ 1.        ,  1.72649719],\n",
       "       [ 0.        , -4.49477262]])"
      ]
     },
     "execution_count": 41,
     "metadata": {},
     "output_type": "execute_result"
    }
   ],
   "source": [
    "Y"
   ]
  },
  {
   "cell_type": "code",
   "execution_count": 18,
   "metadata": {},
   "outputs": [
    {
     "ename": "TypeError",
     "evalue": "'NoneType' object is not subscriptable",
     "output_type": "error",
     "traceback": [
      "\u001b[0;31m---------------------------------------------------------------------------\u001b[0m",
      "\u001b[0;31mTypeError\u001b[0m                                 Traceback (most recent call last)",
      "\u001b[0;32m<ipython-input-18-4ceae9f2cef2>\u001b[0m in \u001b[0;36m<module>\u001b[0;34m\u001b[0m\n\u001b[0;32m----> 1\u001b[0;31m \u001b[0mkest\u001b[0m \u001b[0;34m=\u001b[0m \u001b[0mest\u001b[0m\u001b[0;34m[\u001b[0m\u001b[0;36m0\u001b[0m\u001b[0;34m]\u001b[0m\u001b[0;34m\u001b[0m\u001b[0;34m\u001b[0m\u001b[0m\n\u001b[0m\u001b[1;32m      2\u001b[0m \u001b[0mest\u001b[0m \u001b[0;34m=\u001b[0m \u001b[0mgn\u001b[0m\u001b[0;34m(\u001b[0m\u001b[0mmodel2\u001b[0m\u001b[0;34m,\u001b[0m\u001b[0muhat\u001b[0m\u001b[0;34m,\u001b[0m\u001b[0mQ\u001b[0m\u001b[0;34m,\u001b[0m\u001b[0mkest\u001b[0m\u001b[0;34m,\u001b[0m\u001b[0mtbar\u001b[0m\u001b[0;34m,\u001b[0m\u001b[0;34m[\u001b[0m\u001b[0;36m1e-1\u001b[0m\u001b[0;34m,\u001b[0m\u001b[0;36m1e-8\u001b[0m\u001b[0;34m,\u001b[0m\u001b[0;36m1e-8\u001b[0m\u001b[0;34m,\u001b[0m\u001b[0;36m100\u001b[0m\u001b[0;34m]\u001b[0m\u001b[0;34m)\u001b[0m\u001b[0;34m\u001b[0m\u001b[0;34m\u001b[0m\u001b[0m\n",
      "\u001b[0;31mTypeError\u001b[0m: 'NoneType' object is not subscriptable"
     ]
    }
   ],
   "source": [
    "kest = est[0]\n",
    "est = gn(model2,uhat,Q,kest,tbar,[1e-1,1e-8,1e-8,100])"
   ]
  },
  {
   "cell_type": "code",
   "execution_count": null,
   "metadata": {},
   "outputs": [],
   "source": [
    "est"
   ]
  },
  {
   "cell_type": "code",
   "execution_count": null,
   "metadata": {},
   "outputs": [],
   "source": [
    "kest = est[0]\n",
    "res = integrator_jacobian(model2,u0,kest,tbar)"
   ]
  },
  {
   "cell_type": "code",
   "execution_count": null,
   "metadata": {},
   "outputs": [],
   "source": [
    "plt.plot(tbar,uhat[0,:],'bs',tbar,uhat[1,:],'r^')\n",
    "plt.plot(tbar,res[0][0,:],'b',tbar,res[0][1,:],'r')"
   ]
  },
  {
   "cell_type": "code",
   "execution_count": null,
   "metadata": {},
   "outputs": [],
   "source": [
    "def Sg_ode(ode,yhat,Q,k,time):\n",
    "    # check whether y is a scalar or a vector\n",
    "    try:\n",
    "        if np.size(yhat) == np.size(yhat,0):\n",
    "            y0 = yhat[0]\n",
    "            N = np.size(yhat)\n",
    "        else:\n",
    "            y0 = yhat[:,0]\n",
    "            N = np.size(yhat,1)\n",
    "\n",
    "        p = np.size(k)\n",
    "        Y,J = integrator_jacobian(ode,y0,k,time)\n",
    "        S,r = objective_func(yhat,Y,Q,N)\n",
    "        return S\n",
    "    except OverflowError:\n",
    "        print(\"Problem with integration. Try with another parameters\")\n",
    "        return"
   ]
  },
  {
   "cell_type": "code",
   "execution_count": null,
   "metadata": {},
   "outputs": [],
   "source": [
    "k0 = np.array([5000,5000])\n",
    "kbar0 = k0*M1*tc\n",
    "Y,J = integrator_jacobian(model2,u0,kbar0,tbar)"
   ]
  },
  {
   "cell_type": "code",
   "execution_count": null,
   "metadata": {},
   "outputs": [],
   "source": [
    "S, r = objective_func(uhat,Y,Q,np.size(uhat,1))\n",
    "H,g = Hg(J,Q,r,2,np.size(uhat,1))\n",
    "K = np.diag(kbar0)\n",
    "Hr = K@H@K\n",
    "gr = K@g\n",
    "hr = svdsolve(Hr,-gr)"
   ]
  },
  {
   "cell_type": "code",
   "execution_count": null,
   "metadata": {},
   "outputs": [],
   "source": [
    "h = K@hr\n",
    "print(kbar0)\n",
    "print(h)"
   ]
  },
  {
   "cell_type": "code",
   "execution_count": null,
   "metadata": {},
   "outputs": [],
   "source": [
    "nx=100\n",
    "alpha = np.linspace(0,1e-3,nx)"
   ]
  },
  {
   "cell_type": "code",
   "execution_count": null,
   "metadata": {},
   "outputs": [],
   "source": [
    "S = np.empty(nx)\n",
    "for i in range(nx):\n",
    "    S[i] = Sg_ode(model2,uhat,Q,kbar0+alpha[i]*h,tbar)"
   ]
  },
  {
   "cell_type": "code",
   "execution_count": null,
   "metadata": {},
   "outputs": [],
   "source": [
    "plt.plot(alpha,S)"
   ]
  },
  {
   "cell_type": "code",
   "execution_count": null,
   "metadata": {},
   "outputs": [],
   "source": [
    "hr = svdsolve(np.eye(2),-gr)"
   ]
  },
  {
   "cell_type": "code",
   "execution_count": null,
   "metadata": {},
   "outputs": [],
   "source": [
    "h = K@hr\n",
    "print(h)"
   ]
  },
  {
   "cell_type": "code",
   "execution_count": null,
   "metadata": {},
   "outputs": [],
   "source": [
    "S = np.empty(20)\n",
    "for i in range(20):\n",
    "    S[i] = Sg_ode(model2,uhat,Q,kbar0+alpha[i]*h,tbar)"
   ]
  },
  {
   "cell_type": "code",
   "execution_count": null,
   "metadata": {},
   "outputs": [],
   "source": [
    "plt.plot(alpha,S)"
   ]
  }
 ],
 "metadata": {
  "kernelspec": {
   "display_name": "Python 3",
   "language": "python",
   "name": "python3"
  },
  "language_info": {
   "codemirror_mode": {
    "name": "ipython",
    "version": 3
   },
   "file_extension": ".py",
   "mimetype": "text/x-python",
   "name": "python",
   "nbconvert_exporter": "python",
   "pygments_lexer": "ipython3",
   "version": "3.7.3"
  }
 },
 "nbformat": 4,
 "nbformat_minor": 2
}
