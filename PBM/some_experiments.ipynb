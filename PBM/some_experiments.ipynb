{
 "cells": [
  {
   "cell_type": "code",
   "execution_count": 1,
   "metadata": {},
   "outputs": [],
   "source": [
    "import GN_ode as gn\n",
    "import numpy as np\n",
    "import matplotlib.pyplot as plt\n",
    "from scipy.integrate import solve_ivp, odeint"
   ]
  },
  {
   "cell_type": "code",
   "execution_count": 3,
   "metadata": {},
   "outputs": [
    {
     "name": "stdout",
     "output_type": "stream",
     "text": [
      "mm_col:\n",
      " [[ 8.]\n",
      " [18.]]\n",
      "mm_1d:\n",
      " [ 8. 18.]\n",
      "at_col:\n",
      " [[ 8.]\n",
      " [18.]]\n",
      "at_1d:\n",
      " [ 8. 18.]\n",
      "dot_col:\n",
      " [[ 8.]\n",
      " [18.]]\n",
      "dot_1d:\n",
      " [ 8. 18.]\n",
      "ast_col:\n",
      " [[ 2.  4.]\n",
      " [ 9. 12.]]\n",
      "ast_1d:\n",
      " [[ 2.  6.]\n",
      " [ 6. 12.]]\n"
     ]
    }
   ],
   "source": [
    "A = np.array([[1,2],[3,4]],dtype='f')\n",
    "b_col = np.array([[2],[3]],dtype='f')\n",
    "b_1d = np.array([2,3],dtype='f')\n",
    "mm_col = np.matmul(A,b_col)\n",
    "mm_1d = np.matmul(A,b_1d)\n",
    "at_col = A@b_col\n",
    "at_1d = A@b_1d\n",
    "print('mm_col:\\n',mm_col)\n",
    "print('mm_1d:\\n',mm_1d)\n",
    "print('at_col:\\n',at_col)\n",
    "print('at_1d:\\n',at_1d)\n",
    "dot_col = np.dot(A,b_col)\n",
    "dot_1d = np.dot(A,b_1d)\n",
    "ast_col = A*b_col\n",
    "ast_1d = A*b_1d\n",
    "print('dot_col:\\n',dot_col)\n",
    "print('dot_1d:\\n',dot_1d)\n",
    "print('ast_col:\\n',ast_col)\n",
    "print('ast_1d:\\n',ast_1d)"
   ]
  },
  {
   "cell_type": "markdown",
   "metadata": {},
   "source": [
    "* np.matmul and @ produced same result\n",
    "* np.dot and * are different\n",
    "* Don't use * !!!!!!"
   ]
  },
  {
   "cell_type": "markdown",
   "metadata": {},
   "source": [
    "Python matrix muliplication rules.\n",
    "$$\\mathbf{A}=\\begin{bmatrix}1&2\\\\3&4\\end{bmatrix},~~\\mathbf{b}=\\begin{bmatrix}2\\\\3\\end{bmatrix}$$\n",
    "$$\\mathbf{Ab}=\\begin{bmatrix}8\\\\18\\end{bmatrix}$$"
   ]
  },
  {
   "cell_type": "code",
   "execution_count": 9,
   "metadata": {},
   "outputs": [],
   "source": [
    "a = np.array([[[1,2],[4,5]],[[3,2],[7,8]]])\n",
    "b = np.array([[2,3],[3,4]])\n",
    "def aaa(a,b):\n",
    "    return a,b\n",
    "\n",
    "d = a,b"
   ]
  },
  {
   "cell_type": "code",
   "execution_count": 18,
   "metadata": {},
   "outputs": [
    {
     "name": "stdout",
     "output_type": "stream",
     "text": [
      "Number of processors:  8\n"
     ]
    }
   ],
   "source": [
    "import multiprocessing as mp\n",
    "print(\"Number of processors: \",mp.cpu_count())"
   ]
  }
 ],
 "metadata": {
  "kernelspec": {
   "display_name": "Python 3",
   "language": "python",
   "name": "python3"
  },
  "language_info": {
   "codemirror_mode": {
    "name": "ipython",
    "version": 3
   },
   "file_extension": ".py",
   "mimetype": "text/x-python",
   "name": "python",
   "nbconvert_exporter": "python",
   "pygments_lexer": "ipython3",
   "version": "3.7.3"
  }
 },
 "nbformat": 4,
 "nbformat_minor": 2
}
