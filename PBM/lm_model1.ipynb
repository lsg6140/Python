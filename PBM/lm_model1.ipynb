{
 "cells": [
  {
   "cell_type": "code",
   "execution_count": 1,
   "metadata": {},
   "outputs": [],
   "source": [
    "%run lm_ode.ipynb"
   ]
  },
  {
   "cell_type": "code",
   "execution_count": 2,
   "metadata": {},
   "outputs": [],
   "source": [
    "import matplotlib.pyplot as plt"
   ]
  },
  {
   "cell_type": "markdown",
   "metadata": {},
   "source": [
    "# Model 1: Homogeneous gas phase reaction model\n",
    "$$2NO+O_2\\leftrightarrow2NO_2$$\n",
    "is described by the following equation\n",
    "$$\\frac{dy}{dt}=k_1(126.2-y)(91.9-y)^2-k_2y^2;~~y(0)=0$$"
   ]
  },
  {
   "cell_type": "markdown",
   "metadata": {},
   "source": [
    "## Scaling for parameter estimation\n",
    "$$\\frac{du}{d\\bar{t}}=k_1t_cy_c^2(126.2/y_c-u)(91.9/y_c-u)^2-t_ck_2y_cu^2$$\n",
    "Let $y_c=91.9$ and $t_c=t_\\text{end}$,\n",
    "$$\\frac{du}{d\\bar{t}}=91.9^2t_\\text{end}k_1(126.2/91.9-u)(1-u)^2-91.9t_\\text{end}k_2u^2$$\n",
    "$$\\frac{du}{d\\bar{t}}=\\bar{k}_1(126.2/91.9-u)(1-u)^2-\\bar{k}_2u^2$$\n",
    "where $k_1=\\frac{\\bar{k}_1}{91.9^2t_\\text{end}}$ and $k_2=\\frac{\\bar{k}_2}{91.9t_\\text{end}}$."
   ]
  },
  {
   "cell_type": "code",
   "execution_count": 3,
   "metadata": {},
   "outputs": [],
   "source": [
    "def model1_scaled(u,kbar):\n",
    "    dudt = kbar[0]*(126.2/91.9-u)*(1-u)**2-kbar[1]*u**2\n",
    "    return dudt"
   ]
  },
  {
   "cell_type": "code",
   "execution_count": 4,
   "metadata": {},
   "outputs": [],
   "source": [
    "yhat=np.array([[0,1.4,6.3,10.5,14.2,17.6,21.4,23.0,27.0,30.5,34.4,38.8,41.6,43.5,45.3]])\n",
    "t = np.array([0,1,2,3,4,5,6,7,9,11,14,19,24,29,39])\n",
    "k = np.array([0.4577e-5,0.2796e-3])\n",
    "yc = 91.9\n",
    "uhat = yhat/yc\n",
    "u0 = uhat[0]\n",
    "tc = t[-1]\n",
    "tbar = t/tc\n",
    "Q = np.eye(1)\n",
    "Kc = np.array([[91.9**2*tc,0],[0,91.9*tc]])\n",
    "kbar = Kc@k"
   ]
  },
  {
   "cell_type": "code",
   "execution_count": 5,
   "metadata": {},
   "outputs": [],
   "source": [
    "res = integrator_jacobian(model1_scaled,u0,kbar,tbar)"
   ]
  },
  {
   "cell_type": "code",
   "execution_count": 6,
   "metadata": {},
   "outputs": [
    {
     "data": {
      "text/plain": [
       "[<matplotlib.lines.Line2D at 0x7fa1ec6b7d68>]"
      ]
     },
     "execution_count": 6,
     "metadata": {},
     "output_type": "execute_result"
    },
    {
     "data": {
      "image/png": "[encoded data removed]",
      "text/plain": [
       "<Figure size 432x288 with 1 Axes>"
      ]
     },
     "metadata": {
      "needs_background": "light"
     },
     "output_type": "display_data"
    }
   ],
   "source": [
    "plt.plot(tbar,uhat[0],'bs')\n",
    "plt.plot(tbar,res[0][0],'b')"
   ]
  },
  {
   "cell_type": "markdown",
   "metadata": {},
   "source": [
    "## Paramter estimation with given paramters"
   ]
  },
  {
   "cell_type": "code",
   "execution_count": 7,
   "metadata": {},
   "outputs": [
    {
     "name": "stdout",
     "output_type": "stream",
     "text": [
      "Iter | Obj func | grad\n",
      "    0|1.2945e-03|  2.22e-06\n",
      "    1|1.2945e-03|  9.57e-07\n",
      "    2|1.2945e-03|  1.17e-06\n",
      "    3|1.2945e-03|  2.71e-07\n",
      "    4|1.2946e-03|  8.10e-07\n",
      "    5|1.2947e-03|  1.82e-07\n",
      "    6|1.2945e-03|  4.87e-07\n",
      "    7|1.2946e-03|  5.68e-07\n",
      "    8|1.2945e-03|  1.75e-07\n",
      "    9|1.2946e-03|  1.29e-06\n",
      "   10|1.2945e-03|  8.19e-07\n",
      "   11|1.2945e-03|  2.92e-07\n",
      "   12|1.2945e-03|  2.95e-07\n",
      "   13|1.2945e-03|  2.92e-07\n",
      "   14|1.2945e-03|  9.46e-07\n",
      "   15|1.2945e-03|  8.07e-07\n",
      "   16|1.2945e-03|  1.50e-06\n",
      "   17|1.2946e-03|  2.73e-06\n",
      "   18|1.2946e-03|  5.57e-07\n",
      "   19|1.2945e-03|  7.22e-07\n",
      "   20|1.2945e-03|  2.46e-08\n",
      "   21|1.2945e-03|  1.92e-08\n",
      "   22|1.2945e-03|  1.04e-06\n",
      "   23|1.2945e-03|  7.54e-07\n",
      "   24|1.2947e-03|  1.76e-06\n",
      "   25|1.2945e-03|  3.33e-06\n",
      "   26|1.2945e-03|  2.72e-07\n",
      "   27|1.2945e-03|  1.41e-06\n",
      "   28|1.2945e-03|  4.53e-07\n",
      "   29|1.2947e-03|  2.93e-07\n",
      "   30|1.2945e-03|  1.73e-06\n",
      "   31|1.2946e-03|  1.17e-07\n",
      "   32|1.2945e-03|  5.43e-07\n",
      "   33|1.2947e-03|  6.61e-07\n",
      "   34|1.2946e-03|  5.47e-07\n",
      "   35|1.2946e-03|  7.09e-07\n",
      "   36|1.2945e-03|  8.45e-07\n",
      "   37|1.2945e-03|  5.06e-07\n",
      "   38|1.2945e-03|  1.58e-07\n",
      "   39|1.2946e-03|  6.78e-07\n",
      "   40|1.2945e-03|  1.48e-06\n",
      "   41|1.2945e-03|  9.48e-07\n",
      "   42|1.2945e-03|  1.65e-07\n",
      "   43|1.2945e-03|  1.43e-07\n",
      "   44|1.2947e-03|  9.95e-07\n",
      "   45|1.2945e-03|  1.55e-06\n",
      "   46|1.2947e-03|  1.32e-06\n",
      "   47|1.2945e-03|  1.48e-06\n",
      "   48|1.2946e-03|  7.63e-07\n",
      "   49|1.2945e-03|  7.94e-07\n",
      "   50|1.2945e-03|  1.36e-06\n",
      "   51|1.2947e-03|  2.93e-07\n",
      "   52|1.2945e-03|  1.65e-06\n",
      "   53|1.2945e-03|  2.95e-07\n",
      "   54|1.2945e-03|  5.61e-07\n",
      "   55|1.2945e-03|  5.96e-07\n",
      "   56|1.2945e-03|  6.21e-09\n"
     ]
    }
   ],
   "source": [
    "k_est = gn(model1_scaled,uhat,Q,kbar,tbar,[1e-6,1e-8,1e-8,200])"
   ]
  },
  {
   "cell_type": "code",
   "execution_count": 8,
   "metadata": {},
   "outputs": [
    {
     "data": {
      "text/plain": [
       "array([1.50759531, 1.00219096])"
      ]
     },
     "execution_count": 8,
     "metadata": {},
     "output_type": "execute_result"
    }
   ],
   "source": [
    "kbar"
   ]
  },
  {
   "cell_type": "code",
   "execution_count": 9,
   "metadata": {},
   "outputs": [
    {
     "data": {
      "text/plain": [
       "[array([1.50759531, 1.00219096]),\n",
       " array([[0.        , 0.04950363, 0.09275514, 0.13086438, 0.16468065,\n",
       "         0.19486022, 0.22194371, 0.24634302, 0.28844719, 0.32330266,\n",
       "         0.36527389, 0.41564527, 0.44972064, 0.47320485, 0.50118133]]),\n",
       " [56, 'g']]"
      ]
     },
     "execution_count": 9,
     "metadata": {},
     "output_type": "execute_result"
    }
   ],
   "source": [
    "k_est"
   ]
  },
  {
   "cell_type": "code",
   "execution_count": 10,
   "metadata": {},
   "outputs": [],
   "source": [
    "k0 = np.array([1e-6,1e-6])\n",
    "kbar0 = Kc@k0"
   ]
  },
  {
   "cell_type": "code",
   "execution_count": 11,
   "metadata": {},
   "outputs": [
    {
     "name": "stdout",
     "output_type": "stream",
     "text": [
      "Iter | Obj func | grad\n",
      "    0|2.3750e-01|  7.55e-01\n",
      "    1|1.0300e-01|  1.25e-01\n",
      "    2|2.4098e+02|  2.63e+02\n",
      "    3|3.0270e+01|  1.16e+01\n",
      "    4|2.6289e+00|  3.25e+00\n",
      "    5|2.7591e-01|  2.23e-01\n",
      "    6|5.7170e-02|  2.22e-01\n",
      "    7|8.7079e-03|  4.04e-02\n",
      "    8|1.5547e-03|  4.68e-03\n",
      "    9|1.2948e-03|  2.44e-04\n",
      "   10|1.2947e-03|  2.41e-06\n",
      "   11|1.2945e-03|  2.02e-06\n",
      "   12|1.2945e-03|  7.78e-07\n",
      "   13|1.2945e-03|  1.60e-08\n",
      "   14|1.2945e-03|  6.39e-07\n",
      "   15|1.2945e-03|  8.31e-07\n",
      "   16|1.2945e-03|  1.42e-06\n",
      "   17|1.2946e-03|  1.25e-06\n",
      "   18|1.2945e-03|  1.14e-06\n",
      "   19|1.2947e-03|  1.59e-06\n",
      "   20|1.2945e-03|  1.52e-06\n",
      "   21|1.2946e-03|  1.34e-06\n",
      "   22|1.2945e-03|  1.42e-06\n",
      "   23|1.2945e-03|  1.02e-06\n",
      "   24|1.2945e-03|  5.55e-07\n",
      "   25|1.2946e-03|  3.46e-07\n",
      "   26|1.2945e-03|  8.69e-07\n",
      "   27|1.2946e-03|  1.04e-06\n",
      "   28|1.2945e-03|  1.02e-06\n",
      "   29|1.2946e-03|  1.24e-06\n",
      "   30|1.2945e-03|  2.74e-07\n",
      "   31|1.2947e-03|  5.15e-07\n",
      "   32|1.2945e-03|  7.22e-07\n",
      "   33|1.2945e-03|  3.24e-07\n",
      "   34|1.2946e-03|  3.51e-07\n",
      "   35|1.2947e-03|  3.29e-07\n",
      "   36|1.2947e-03|  2.66e-07\n",
      "   37|1.2945e-03|  1.29e-06\n",
      "   38|1.2945e-03|  9.55e-07\n",
      "   39|1.2945e-03|  1.62e-07\n",
      "   40|1.2946e-03|  5.49e-07\n",
      "   41|1.2945e-03|  5.57e-07\n",
      "   42|1.2947e-03|  1.15e-06\n",
      "   43|1.2945e-03|  5.28e-07\n",
      "   44|1.2945e-03|  1.09e-06\n",
      "   45|1.2945e-03|  5.39e-07\n",
      "   46|1.2945e-03|  1.33e-07\n",
      "   47|1.2945e-03|  4.66e-07\n",
      "   48|1.2946e-03|  5.28e-07\n",
      "   49|1.2945e-03|  3.07e-07\n",
      "   50|1.2945e-03|  1.03e-06\n",
      "   51|1.2946e-03|  1.64e-06\n",
      "   52|1.2946e-03|  4.66e-07\n",
      "   53|1.2946e-03|  1.00e-07\n",
      "   54|1.2945e-03|  1.75e-06\n",
      "   55|1.2947e-03|  2.75e-06\n",
      "   56|1.2945e-03|  1.06e-06\n",
      "   57|1.2945e-03|  2.35e-07\n",
      "   58|1.2945e-03|  1.48e-08\n",
      "   59|1.2947e-03|  1.04e-06\n",
      "   60|1.2945e-03|  8.02e-07\n",
      "   61|1.2945e-03|  9.16e-08\n",
      "   62|1.2946e-03|  4.22e-07\n",
      "   63|1.2946e-03|  1.13e-06\n",
      "   64|1.2947e-03|  3.70e-07\n",
      "   65|1.2945e-03|  1.13e-06\n",
      "   66|1.2945e-03|  1.20e-06\n",
      "   67|1.2945e-03|  2.75e-07\n",
      "   68|1.2946e-03|  1.34e-06\n",
      "   69|1.2945e-03|  5.49e-07\n",
      "   70|1.2946e-03|  6.69e-07\n",
      "   71|1.2946e-03|  9.68e-08\n",
      "   72|1.2947e-03|  1.01e-06\n",
      "   73|1.2945e-03|  9.10e-07\n",
      "   74|1.2945e-03|  1.85e-07\n",
      "   75|1.2945e-03|  8.37e-08\n",
      "   76|1.2946e-03|  2.68e-07\n",
      "   77|1.2945e-03|  1.13e-07\n",
      "   78|1.2946e-03|  7.54e-07\n",
      "   79|1.2945e-03|  9.73e-07\n",
      "   80|1.2945e-03|  2.07e-07\n",
      "   81|1.2945e-03|  3.45e-08\n",
      "   82|1.2945e-03|  1.48e-07\n",
      "   83|1.2945e-03|  1.58e-06\n",
      "   84|1.2947e-03|  2.98e-06\n",
      "   85|1.2945e-03|  1.26e-06\n",
      "   86|1.2946e-03|  1.15e-06\n",
      "   87|1.2945e-03|  1.14e-06\n",
      "   88|1.2945e-03|  2.97e-08\n",
      "   89|1.2947e-03|  9.41e-07\n",
      "   90|1.2947e-03|  2.10e-07\n",
      "   91|1.2945e-03|  1.04e-06\n",
      "   92|1.2945e-03|  8.36e-07\n",
      "   93|1.2945e-03|  8.44e-07\n",
      "   94|1.2946e-03|  7.52e-07\n",
      "   95|1.2947e-03|  9.44e-07\n",
      "   96|1.2946e-03|  1.54e-07\n",
      "   97|1.2945e-03|  3.12e-07\n",
      "   98|1.2945e-03|  1.90e-06\n",
      "   99|1.2946e-03|  2.64e-06\n",
      "  100|1.2945e-03|  1.03e-06\n",
      "  101|1.2945e-03|  1.22e-06\n",
      "  102|1.2945e-03|  1.86e-07\n",
      "  103|1.2946e-03|  1.81e-06\n",
      "  104|1.2945e-03|  3.00e-07\n",
      "  105|1.2946e-03|  5.24e-07\n",
      "  106|1.2947e-03|  3.84e-07\n",
      "  107|1.2945e-03|  3.81e-07\n",
      "  108|1.2945e-03|  5.13e-07\n",
      "  109|1.2945e-03|  5.66e-07\n",
      "  110|1.2945e-03|  3.30e-07\n",
      "  111|1.2945e-03|  1.76e-07\n",
      "  112|1.2946e-03|  6.43e-07\n",
      "  113|1.2945e-03|  7.67e-07\n",
      "  114|1.2945e-03|  8.30e-07\n",
      "  115|1.2947e-03|  4.62e-07\n",
      "  116|1.2945e-03|  1.60e-06\n",
      "  117|1.2947e-03|  1.93e-06\n",
      "  118|1.2945e-03|  1.04e-06\n",
      "  119|1.2945e-03|  2.57e-07\n",
      "  120|1.2946e-03|  6.58e-08\n",
      "  121|1.2945e-03|  7.72e-07\n",
      "  122|1.2945e-03|  7.80e-07\n",
      "  123|1.2946e-03|  1.17e-07\n",
      "  124|1.2945e-03|  2.94e-07\n",
      "  125|1.2947e-03|  7.06e-07\n",
      "  126|1.2945e-03|  1.46e-06\n",
      "  127|1.2945e-03|  6.39e-07\n",
      "  128|1.2945e-03|  3.21e-07\n",
      "  129|1.2945e-03|  1.22e-06\n",
      "  130|1.2946e-03|  2.40e-07\n",
      "  131|1.2947e-03|  1.20e-06\n",
      "  132|1.2945e-03|  2.30e-06\n",
      "  133|1.2945e-03|  1.07e-06\n",
      "  134|1.2945e-03|  6.29e-07\n",
      "  135|1.2945e-03|  6.27e-07\n",
      "  136|1.2945e-03|  2.13e-07\n",
      "  137|1.2945e-03|  8.50e-07\n",
      "  138|1.2946e-03|  3.93e-07\n",
      "  139|1.2945e-03|  4.99e-07\n",
      "  140|1.2946e-03|  7.48e-07\n",
      "  141|1.2947e-03|  1.22e-06\n",
      "  142|1.2947e-03|  6.58e-07\n",
      "  143|1.2947e-03|  5.79e-07\n",
      "  144|1.2945e-03|  1.60e-06\n",
      "  145|1.2946e-03|  2.26e-06\n",
      "  146|1.2947e-03|  7.91e-07\n",
      "  147|1.2945e-03|  4.17e-07\n",
      "  148|1.2945e-03|  1.29e-06\n",
      "  149|1.2946e-03|  2.71e-06\n",
      "  150|1.2945e-03|  2.80e-06\n",
      "  151|1.2946e-03|  2.32e-06\n",
      "  152|1.2946e-03|  7.50e-07\n",
      "  153|1.2945e-03|  2.61e-06\n",
      "  154|1.2945e-03|  5.21e-07\n",
      "  155|1.2946e-03|  2.98e-07\n",
      "  156|1.2945e-03|  2.88e-07\n",
      "  157|1.2945e-03|  1.83e-07\n",
      "  158|1.2945e-03|  3.17e-07\n",
      "  159|1.2945e-03|  1.32e-06\n",
      "  160|1.2945e-03|  1.90e-06\n",
      "  161|1.2945e-03|  1.08e-06\n",
      "  162|1.2947e-03|  2.08e-06\n",
      "  163|1.2946e-03|  2.18e-07\n",
      "  164|1.2945e-03|  1.71e-06\n",
      "  165|1.2945e-03|  4.40e-07\n",
      "  166|1.2945e-03|  1.70e-07\n",
      "  167|1.2947e-03|  1.04e-06\n",
      "  168|1.2945e-03|  1.23e-06\n",
      "  169|1.2945e-03|  5.74e-07\n",
      "  170|1.2945e-03|  5.57e-07\n",
      "  171|1.2945e-03|  4.48e-09\n"
     ]
    }
   ],
   "source": [
    "k_est2 = gn(model1_scaled,uhat,Q,kbar0,tbar,[1e-6,1e-8,1e-8,200])"
   ]
  },
  {
   "cell_type": "code",
   "execution_count": 12,
   "metadata": {},
   "outputs": [
    {
     "data": {
      "text/plain": [
       "[array([1.5075951, 1.0021901]),\n",
       " array([[0.        , 0.04950362, 0.09275513, 0.13086437, 0.16468063,\n",
       "         0.1948602 , 0.22194368, 0.246343  , 0.28844716, 0.32330266,\n",
       "         0.36527386, 0.41564521, 0.44972072, 0.47320478, 0.50118139]]),\n",
       " [171, 'g']]"
      ]
     },
     "execution_count": 12,
     "metadata": {},
     "output_type": "execute_result"
    }
   ],
   "source": [
    "k_est2"
   ]
  }
 ],
 "metadata": {
  "kernelspec": {
   "display_name": "Python 3",
   "language": "python",
   "name": "python3"
  },
  "language_info": {
   "codemirror_mode": {
    "name": "ipython",
    "version": 3
   },
   "file_extension": ".py",
   "mimetype": "text/x-python",
   "name": "python",
   "nbconvert_exporter": "python",
   "pygments_lexer": "ipython3",
   "version": "3.7.3"
  }
 },
 "nbformat": 4,
 "nbformat_minor": 2
}
