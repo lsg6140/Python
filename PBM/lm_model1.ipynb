{
 "cells": [
  {
   "cell_type": "code",
   "execution_count": 15,
   "metadata": {},
   "outputs": [],
   "source": [
    "%run lm_ode.ipynb"
   ]
  },
  {
   "cell_type": "code",
   "execution_count": 2,
   "metadata": {},
   "outputs": [],
   "source": [
    "import matplotlib.pyplot as plt\n",
    "from scipy.linalg import hilbert\n",
    "from mpl_toolkits.mplot3d import Axes3D "
   ]
  },
  {
   "cell_type": "markdown",
   "metadata": {},
   "source": [
    "# Model 1: Homogeneous gas phase reaction model\n",
    "$$2NO+O_2\\leftrightarrow2NO_2$$\n",
    "is described by the following equation\n",
    "$$\\frac{dy}{dt}=k_1(126.2-y)(91.9-y)^2-k_2y^2;~~y(0)=0$$"
   ]
  },
  {
   "cell_type": "code",
   "execution_count": 3,
   "metadata": {},
   "outputs": [],
   "source": [
    "def model1(y,k):\n",
    "    return k[0]*(126.2-y)*(91.9-y)**2-k[1]*y**2"
   ]
  },
  {
   "cell_type": "markdown",
   "metadata": {},
   "source": [
    "## Scaling for parameter estimation\n",
    "$$\\frac{du}{d\\bar{t}}=k_1t_cy_c^2(126.2/y_c-u)(91.9/y_c-u)^2-t_ck_2y_cu^2$$\n",
    "Let $y_c=91.9$ and $t_c=t_\\text{end}$,\n",
    "$$\\frac{du}{d\\bar{t}}=91.9^2t_\\text{end}k_1(126.2/91.9-u)(1-u)^2-91.9t_\\text{end}k_2u^2$$\n",
    "$$\\frac{du}{d\\bar{t}}=\\bar{k}_1(126.2/91.9-u)(1-u)^2-\\bar{k}_2u^2$$\n",
    "where $k_1=\\frac{\\bar{k}_1}{91.9^2t_\\text{end}}$ and $k_2=\\frac{\\bar{k}_2}{91.9t_\\text{end}}$."
   ]
  },
  {
   "cell_type": "code",
   "execution_count": 4,
   "metadata": {},
   "outputs": [],
   "source": [
    "def model1_scaled(u,kbar):\n",
    "    dudt = kbar[0]*(126.2/91.9-u)*(1-u)**2-kbar[1]*u**2\n",
    "    return dudt"
   ]
  },
  {
   "cell_type": "code",
   "execution_count": 5,
   "metadata": {},
   "outputs": [],
   "source": [
    "yhat=np.array([0,1.4,6.3,10.5,14.2,17.6,21.4,23.0,27.0,30.5,34.4,38.8,41.6,43.5,45.3])\n",
    "y0 = yhat[0]\n",
    "t = np.array([0,1,2,3,4,5,6,7,9,11,14,19,24,29,39])\n",
    "N = np.size(t)\n",
    "k = np.array([0.4577e-5,0.2796e-3])\n",
    "k0 = np.array([1e-6,1e-6])\n",
    "yc = 91.9\n",
    "uhat = yhat/yc\n",
    "u0 = uhat[0]\n",
    "tc = t[-1]\n",
    "tbar = t/tc\n",
    "Q = np.eye(1)\n",
    "Kc = np.array([[91.9**2*tc,0],[0,91.9*tc]])\n",
    "kbar = Kc@k\n",
    "k0bar = Kc@k0"
   ]
  },
  {
   "cell_type": "markdown",
   "metadata": {},
   "source": [
    "## Paramter estimation with given paramters"
   ]
  },
  {
   "cell_type": "code",
   "execution_count": 10,
   "metadata": {},
   "outputs": [
    {
     "name": "stdout",
     "output_type": "stream",
     "text": [
      "Iter | Obj func | step size | gradient |   mu   |   rho\n",
      "    0|1.0933e+01|   Not cal |  Not cal | 1.3e+11| Not cal\n",
      "    1|1.0933e+01|  1.262e-10|  5.70e+03| 2.6e+11| Not cal\n",
      "    2|1.0933e+01|  7.376e-11|  5.70e+03| 1.0e+12| Not cal\n",
      "    3|1.0933e+01|  4.603e-11|  1.52e+01| 1.5e+12| 1.3e-01\n",
      "    4|1.0933e+01|  1.034e-11|  1.53e+01| 4.9e+11| 3.9e+03\n",
      "    5|1.0933e+01|  3.103e-11|  1.53e+01| 9.8e+11| 3.9e+03\n",
      "    6|1.0933e+01|  1.552e-11|  1.53e+01| 3.9e+12| 3.9e+03\n",
      "    7|1.0933e+01|  3.883e-12|  1.53e+01| 3.1e+13| 3.9e+03\n",
      "    8|1.0933e+01|  4.875e-13|  1.53e+01| 3.1e+13| 3.9e+03\n"
     ]
    }
   ],
   "source": [
    "k_est = gnlm(model1,yhat,Q,k,t,[1e-3,1e-8,1e-8,100])"
   ]
  },
  {
   "cell_type": "code",
   "execution_count": 11,
   "metadata": {},
   "outputs": [
    {
     "data": {
      "text/plain": [
       "[array([4.57704357e-06, 2.79600025e-04]),\n",
       " array([[ 0.        ,  4.54931465,  8.52416818, 12.02638888, 15.13394993,\n",
       "         17.90778445, 20.39635284, 22.63879046, 26.50790522, 29.7121704 ,\n",
       "         33.568332  , 38.19737929, 41.32898214, 43.48877739, 46.05875815]]),\n",
       " [8, 'h']]"
      ]
     },
     "execution_count": 11,
     "metadata": {},
     "output_type": "execute_result"
    }
   ],
   "source": [
    "k_est"
   ]
  },
  {
   "cell_type": "code",
   "execution_count": 16,
   "metadata": {},
   "outputs": [
    {
     "name": "stdout",
     "output_type": "stream",
     "text": [
      "Iter | Obj func | step size | gradient |   mu   |   rho\n",
      "    0|2.0059e+03|   Not cal |  Not cal | 1.2e+12| Not cal\n",
      "    1|2.3718e+02|  1.757e-06|  3.62e+08| 4.0e+11| 9.6e-01\n",
      "    2|4.8949e+01|  1.163e-06|  4.11e+07| 1.3e+11| 1.0e+00\n",
      "    3|4.4385e+01|  2.042e-06|  2.04e+06| 4.4e+10| 1.0e+00\n",
      "    4|4.2666e+01|  6.180e-06|  4.34e+05| 1.5e+10| 1.0e+00\n",
      "    5|3.8218e+01|  1.713e-05|  9.17e+05| 4.9e+09| 9.9e-01\n",
      "    6|2.9152e+01|  4.123e-05|  1.60e+06| 1.6e+09| 9.8e-01\n",
      "    7|1.8051e+01|  7.358e-05|  1.36e+06| 5.5e+08| 9.6e-01\n",
      "    8|1.2050e+01|  8.069e-05|  2.15e+05| 1.8e+08| 9.6e-01\n",
      "    9|1.0974e+01|  4.603e-05|  1.70e+05| 6.1e+07| 9.6e-01\n",
      "   10|1.0933e+01|  1.058e-05|  4.62e+04| 2.0e+07| 9.6e-01\n",
      "   11|1.0933e+01|  5.501e-07|  1.99e+03| 1.2e+07| 8.7e-01\n",
      "   12|1.0933e+01|  6.892e-09|  4.57e+01| 4.1e+06| 1.3e+00\n",
      "   13|1.0933e+01|  3.224e-10|  4.29e+01| 1.4e+06| 2.5e+05\n",
      "   14|1.0933e+01|  2.961e-10|  1.35e+00| 4.6e+05| 1.3e+04\n",
      "   15|1.0933e+01|  4.234e-12|  1.35e+00| 9.1e+05| 1.3e+04\n",
      "   16|1.0933e+01|  4.231e-12|  1.35e+00| 3.6e+06| 1.3e+04\n",
      "   17|1.0933e+01|  4.212e-12|  1.35e+00| 2.9e+07| 1.3e+04\n",
      "   18|1.0933e+01|  4.044e-12|  1.35e+00| 4.7e+08| 1.3e+04\n",
      "   19|1.0933e+01|  2.402e-12|  1.35e+00| 4.7e+08| 1.3e+04\n"
     ]
    }
   ],
   "source": [
    "k_est = gnlm(model1,yhat,Q,k0,t,[1e-3,1e-8,1e-8,100])"
   ]
  },
  {
   "cell_type": "code",
   "execution_count": 13,
   "metadata": {},
   "outputs": [
    {
     "data": {
      "text/plain": [
       "[array([4.57708752e-06, 2.79623754e-04]),\n",
       " array([[ 0.        ,  4.54935527,  8.52423873, 12.02648078, 15.13405619,\n",
       "         17.90789928, 20.39647141, 22.63890869, 26.50801291, 29.71225751,\n",
       "         33.56837535, 38.19733047, 41.32883346, 43.4885316 , 46.05834563]]),\n",
       " [19, 'h']]"
      ]
     },
     "execution_count": 13,
     "metadata": {},
     "output_type": "execute_result"
    }
   ],
   "source": [
    "k_est"
   ]
  }
 ],
 "metadata": {
  "kernelspec": {
   "display_name": "Python 3",
   "language": "python",
   "name": "python3"
  },
  "language_info": {
   "codemirror_mode": {
    "name": "ipython",
    "version": 3
   },
   "file_extension": ".py",
   "mimetype": "text/x-python",
   "name": "python",
   "nbconvert_exporter": "python",
   "pygments_lexer": "ipython3",
   "version": "3.7.3"
  }
 },
 "nbformat": 4,
 "nbformat_minor": 2
}
