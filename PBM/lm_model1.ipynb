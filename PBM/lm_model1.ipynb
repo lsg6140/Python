{
 "cells": [
  {
   "cell_type": "code",
   "execution_count": 1,
   "metadata": {},
   "outputs": [],
   "source": [
    "%run lm_ode.ipynb"
   ]
  },
  {
   "cell_type": "code",
   "execution_count": 2,
   "metadata": {},
   "outputs": [],
   "source": [
    "import matplotlib.pyplot as plt"
   ]
  },
  {
   "cell_type": "markdown",
   "metadata": {},
   "source": [
    "# Model 1: Homogeneous gas phase reaction model\n",
    "$$2NO+O_2\\leftrightarrow2NO_2$$\n",
    "is described by the following equation\n",
    "$$\\frac{dy}{dt}=k_1(126.2-y)(91.9-y)^2-k_2y^2;~~y(0)=0$$"
   ]
  },
  {
   "cell_type": "markdown",
   "metadata": {},
   "source": [
    "## Scaling for parameter estimation\n",
    "$$\\frac{du}{d\\bar{t}}=k_1t_cy_c^2(126.2/y_c-u)(91.9/y_c-u)^2-t_ck_2y_cu^2$$\n",
    "Let $y_c=91.9$ and $t_c=t_\\text{end}$,\n",
    "$$\\frac{du}{d\\bar{t}}=91.9^2t_\\text{end}k_1(126.2/91.9-u)(1-u)^2-91.9t_\\text{end}k_2u^2$$\n",
    "$$\\frac{du}{d\\bar{t}}=\\bar{k}_1(126.2/91.9-u)(1-u)^2-\\bar{k}_2u^2$$\n",
    "where $k_1=\\frac{\\bar{k}_1}{91.9^2t_\\text{end}}$ and $k_2=\\frac{\\bar{k}_2}{91.9t_\\text{end}}$."
   ]
  },
  {
   "cell_type": "code",
   "execution_count": 3,
   "metadata": {},
   "outputs": [],
   "source": [
    "def model1_scaled(u,kbar):\n",
    "    dudt = kbar[0]*(126.2/91.9-u)*(1-u)**2-kbar[1]*u**2\n",
    "    return dudt"
   ]
  },
  {
   "cell_type": "code",
   "execution_count": 4,
   "metadata": {},
   "outputs": [],
   "source": [
    "yhat=np.array([[0,1.4,6.3,10.5,14.2,17.6,21.4,23.0,27.0,30.5,34.4,38.8,41.6,43.5,45.3]])\n",
    "t = np.array([0,1,2,3,4,5,6,7,9,11,14,19,24,29,39])\n",
    "k = np.array([0.4577e-5,0.2796e-3])\n",
    "yc = 91.9\n",
    "uhat = yhat/yc\n",
    "u0 = uhat[0]\n",
    "tc = t[-1]\n",
    "tbar = t/tc\n",
    "Q = np.eye(1)\n",
    "Kc = np.array([[91.9**2*tc,0],[0,91.9*tc]])\n",
    "kbar = Kc@k"
   ]
  },
  {
   "cell_type": "code",
   "execution_count": 5,
   "metadata": {},
   "outputs": [],
   "source": [
    "res = integrator_jacobian(model1_scaled,u0,kbar,tbar)"
   ]
  },
  {
   "cell_type": "code",
   "execution_count": 6,
   "metadata": {},
   "outputs": [
    {
     "data": {
      "text/plain": [
       "[<matplotlib.lines.Line2D at 0x7ff1a089fd30>]"
      ]
     },
     "execution_count": 6,
     "metadata": {},
     "output_type": "execute_result"
    },
    {
     "data": {
      "image/png": "[encoded data removed]",
      "text/plain": [
       "<Figure size 432x288 with 1 Axes>"
      ]
     },
     "metadata": {
      "needs_background": "light"
     },
     "output_type": "display_data"
    }
   ],
   "source": [
    "plt.plot(tbar,uhat[0],'bs')\n",
    "plt.plot(tbar,res[0][0],'b')"
   ]
  },
  {
   "cell_type": "markdown",
   "metadata": {},
   "source": [
    "## Paramter estimation with given paramters"
   ]
  },
  {
   "cell_type": "code",
   "execution_count": 7,
   "metadata": {},
   "outputs": [
    {
     "name": "stdout",
     "output_type": "stream",
     "text": [
      "Iter | Obj func | red grad | lin appr |   mu   |   rho\n",
      "    0|1.2945e-03|  3.35e-06|  Not cal | 3.2e-07| Not cal\n",
      "-7.22311547275532e-11\n",
      "    1|1.2945e-03|  3.35e-06|  3.61e-11| 6.4e-07|-1.4e+01\n",
      "-7.22288990027772e-11\n",
      "    2|1.2947e-03|  3.35e-06|  3.61e-11| 2.6e-06|-3.9e+03\n",
      "-7.221537003915974e-11\n",
      "    3|1.2946e-03|  3.35e-06|  3.61e-11| 2.1e-05|-9.7e+02\n",
      "-7.208954326334604e-11\n",
      "    4|1.2946e-03|  3.35e-06|  3.61e-11| 3.3e-04|-6.6e+02\n",
      "-7.005017960513601e-11\n",
      "    5|1.2945e-03|  1.58e-07|  3.61e-11| 1.1e-04| 7.1e+02\n",
      "-3.5533068635246673e-12\n",
      "    6|1.2946e-03|  1.58e-07|  1.81e-12| 2.2e-04|-7.8e+04\n",
      "-3.487351931680873e-12\n",
      "    7|1.2945e-03|  1.58e-07|  1.81e-12| 8.8e-04|-2.5e+04\n",
      "-3.1387349042023985e-12\n",
      "    8|1.2945e-03|  1.58e-07|  1.78e-12| 7.0e-03|-1.7e+04\n",
      "-1.6418799893639118e-12\n",
      "    9|1.2946e-03|  1.58e-07|  1.26e-12| 1.1e-01|-1.1e+05\n",
      "-2.2250389680885182e-13\n",
      "   10|1.2946e-03|  1.58e-07|  2.02e-13| 3.6e+00|-4.4e+05\n",
      "-1.162198135825673e-14\n",
      "   11|1.2945e-03|  1.58e-07|  1.41e-14| 2.3e+02|-8.2e+03\n",
      "-1.9025946397843408e-16\n",
      "   12|1.2945e-03|  1.58e-07|  1.41e-14| 2.3e+02|-8.2e+03\n"
     ]
    }
   ],
   "source": [
    "k_est = lm(model1_scaled,uhat,Q,kbar,tbar,[1e-6,1e-8,1e-8,100])"
   ]
  },
  {
   "cell_type": "code",
   "execution_count": 8,
   "metadata": {},
   "outputs": [
    {
     "data": {
      "text/plain": [
       "array([1.50756672, 1.00211436])"
      ]
     },
     "execution_count": 8,
     "metadata": {},
     "output_type": "execute_result"
    }
   ],
   "source": [
    "kbar"
   ]
  },
  {
   "cell_type": "code",
   "execution_count": 9,
   "metadata": {},
   "outputs": [
    {
     "data": {
      "text/plain": [
       "[array([1.50759571, 1.00219128]),\n",
       " array([[0.        , 0.04950364, 0.09275517, 0.13086442, 0.16468069,\n",
       "         0.19486026, 0.22194375, 0.24634307, 0.28844724, 0.32330281,\n",
       "         0.36527394, 0.41564799, 0.44971825, 0.47320477, 0.5011796 ]]),\n",
       " [12, 'h']]"
      ]
     },
     "execution_count": 9,
     "metadata": {},
     "output_type": "execute_result"
    }
   ],
   "source": [
    "k_est"
   ]
  },
  {
   "cell_type": "code",
   "execution_count": 10,
   "metadata": {},
   "outputs": [],
   "source": [
    "k0 = np.array([1e-6,1e-6])\n",
    "kbar0 = Kc@k0"
   ]
  },
  {
   "cell_type": "code",
   "execution_count": 11,
   "metadata": {},
   "outputs": [
    {
     "name": "stdout",
     "output_type": "stream",
     "text": [
      "Iter | Obj func | red grad | lin appr |   mu   |   rho\n",
      "    0|2.3750e-01|  2.49e-01|  Not cal | 1.4e-07| Not cal\n",
      "-0.43762898284516205\n",
      "    1|2.9881e-02|  1.24e-01|  2.19e-01| 4.7e-08| 9.5e-01\n",
      "-0.05779664422593408\n",
      "    2|3.5028e-03|  3.18e-02|  2.89e-02| 2.1e-08| 9.1e-01\n",
      "-0.004443925566648058\n",
      "    3|1.3097e-03|  1.50e-03|  2.22e-03| 6.9e-09| 9.9e-01\n",
      "-3.12594661275148e-05\n",
      "    4|1.2946e-03|  4.46e-05|  1.56e-05| 2.3e-09| 9.7e-01\n",
      "-2.6039873979417688e-08\n",
      "    5|1.2947e-03|  4.46e-05|  1.30e-08| 4.6e-09|-2.3e+00\n",
      "-2.603986566195062e-08\n",
      "    6|1.2945e-03|  1.49e-06|  1.30e-08| 1.5e-09| 1.1e+01\n",
      "-8.573782468665151e-12\n",
      "    7|1.2945e-03|  1.49e-06|  4.29e-12| 3.1e-09|-6.2e+03\n",
      "-8.57378195744243e-12\n",
      "    8|1.2945e-03|  1.49e-06|  4.29e-12| 1.2e-08|-1.6e+03\n",
      "-8.573778890111661e-12\n",
      "    9|1.2945e-03|  1.49e-06|  4.29e-12| 9.8e-08|-3.7e+03\n",
      "-8.573750262147487e-12\n",
      "   10|1.2946e-03|  1.49e-06|  4.29e-12| 1.6e-06|-3.5e+04\n",
      "-8.573259625219097e-12\n",
      "   11|1.2945e-03|  1.93e-07|  4.29e-12| 5.2e-07| 3.6e+03\n",
      "-2.2811414284836156e-13\n",
      "   12|1.2945e-03|  1.93e-07|  1.14e-13| 1.0e-06|-4.6e+05\n",
      "-2.281037671146596e-13\n",
      "   13|1.2945e-03|  1.93e-07|  1.14e-13| 4.2e-06|-5.4e+05\n",
      "-2.280415526980334e-13\n",
      "   14|1.2945e-03|  1.93e-07|  1.14e-13| 3.3e-05|-3.4e+05\n",
      "-2.274641709329475e-13\n",
      "   15|1.2946e-03|  1.93e-07|  1.14e-13| 5.3e-04|-6.3e+05\n",
      "-2.1840885140633353e-13\n",
      "   16|1.2945e-03|  1.93e-07|  1.14e-13| 1.7e-02|-4.4e+04\n",
      "-1.40049691552613e-13\n",
      "   17|1.2947e-03|  1.93e-07|  8.51e-14| 1.1e+00|-2.4e+06\n",
      "-2.792852069822289e-14\n",
      "   18|1.2945e-03|  1.93e-07|  3.75e-14| 1.4e+02|-6.0e+05\n",
      "-2.8134688710363003e-16\n",
      "   19|1.2945e-03|  1.93e-07|  3.75e-14| 1.4e+02|-6.0e+05\n"
     ]
    }
   ],
   "source": [
    "k_est2 = lm(model1_scaled,uhat,Q,kbar0,tbar,[1e-6,1e-8,1e-8,100])"
   ]
  },
  {
   "cell_type": "code",
   "execution_count": 12,
   "metadata": {},
   "outputs": [
    {
     "data": {
      "text/plain": [
       "[array([1.50759108, 1.00217478]),\n",
       " array([[0.        , 0.04950349, 0.09275491, 0.13086406, 0.16468029,\n",
       "         0.19485982, 0.22194329, 0.24634258, 0.28844676, 0.32330238,\n",
       "         0.36527357, 0.41564782, 0.44971837, 0.47320499, 0.50118026]]),\n",
       " [19, 'h']]"
      ]
     },
     "execution_count": 12,
     "metadata": {},
     "output_type": "execute_result"
    }
   ],
   "source": [
    "k_est2"
   ]
  }
 ],
 "metadata": {
  "kernelspec": {
   "display_name": "Python 3",
   "language": "python",
   "name": "python3"
  },
  "language_info": {
   "codemirror_mode": {
    "name": "ipython",
    "version": 3
   },
   "file_extension": ".py",
   "mimetype": "text/x-python",
   "name": "python",
   "nbconvert_exporter": "python",
   "pygments_lexer": "ipython3",
   "version": "3.7.3"
  }
 },
 "nbformat": 4,
 "nbformat_minor": 2
}
